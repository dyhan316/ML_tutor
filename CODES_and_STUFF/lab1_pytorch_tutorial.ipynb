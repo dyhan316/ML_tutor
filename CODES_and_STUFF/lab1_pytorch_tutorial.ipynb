{
 "cells": [
  {
   "cell_type": "code",
   "execution_count": 1,
   "metadata": {},
   "outputs": [
    {
     "data": {
      "text/html": [
       "<style>.container { width:100% !important; }</style>"
      ],
      "text/plain": [
       "<IPython.core.display.HTML object>"
      ]
     },
     "metadata": {},
     "output_type": "display_data"
    }
   ],
   "source": [
    "from IPython.display import display, HTML\n",
    "display(HTML(\"<style>.container { width:100% !important; }</style>\"))"
   ]
  },
  {
   "cell_type": "markdown",
   "metadata": {},
   "source": [
    "# CONTENTS\n",
    "1. Introduction\n",
    "2. Tensor\n",
    "3. Data\n",
    "4. Implementing a Model"
   ]
  },
  {
   "cell_type": "markdown",
   "metadata": {},
   "source": [
    "## PyTorch\n",
    "1. Tensor Library for DL using GPU&CPU\n",
    "\n",
    "2. Autograd Engine\n",
    "    * does backprop automatically\n",
    "    * (do this by) storing gradietns for all tensors in networks and using them to do backprop\n",
    "    \n",
    "3. Define-by-run (cf : Define-and-run with Tensorflow)\n",
    "    * dynamic network dynamically, more model flexibility (?)"
   ]
  },
  {
   "cell_type": "code",
   "execution_count": 2,
   "metadata": {
    "id": "Z4CHx8tjaKuA"
   },
   "outputs": [],
   "source": [
    "import torch"
   ]
  },
  {
   "cell_type": "code",
   "execution_count": 6,
   "metadata": {},
   "outputs": [
    {
     "data": {
      "text/plain": [
       "True"
      ]
     },
     "execution_count": 6,
     "metadata": {},
     "output_type": "execute_result"
    }
   ],
   "source": [
    "torch.backends.mps.is_available()"
   ]
  },
  {
   "cell_type": "markdown",
   "metadata": {
    "id": "FM9RRohKhmcf"
   },
   "source": [
    "# 1. Tensor"
   ]
  },
  {
   "cell_type": "markdown",
   "metadata": {},
   "source": [
    "Attributes\n",
    "* `shape`\n",
    "    * `unsqueeze`, `squeeze` : (`(2) <-> (1,2)`)\n",
    "    * `reshape` : (`(4)-> (2,2)`)\n",
    "    * `permute` : (`(3,1,4) -> (4,1,3)`) (dimension swap)\n",
    "* `dtype`\n",
    "* `device` => which device the tensor is in"
   ]
  },
  {
   "cell_type": "code",
   "execution_count": 3,
   "metadata": {
    "colab": {
     "base_uri": "https://localhost:8080/"
    },
    "id": "oRjg2udjaSoa",
    "outputId": "f7d28400-342a-46e9-c06f-205faccd33e5"
   },
   "outputs": [
    {
     "name": "stdout",
     "output_type": "stream",
     "text": [
      "tensor([[0., 0.],\n",
      "        [0., 0.],\n",
      "        [0., 0.],\n",
      "        [0., 0.]])\n",
      "torch.Size([4, 2])\n",
      "torch.float32\n",
      "cpu\n"
     ]
    }
   ],
   "source": [
    "###########################\n",
    "#### tensor attributes ####\n",
    "###########################\n",
    "\n",
    "t1 = torch.zeros(4,2)\n",
    "print(t1)\n",
    "print(t1.shape)\n",
    "print(t1.dtype)\n",
    "print(t1.device)"
   ]
  },
  {
   "cell_type": "code",
   "execution_count": 13,
   "metadata": {
    "colab": {
     "base_uri": "https://localhost:8080/"
    },
    "id": "cTbtTfNhc_X_",
    "outputId": "358d7e1c-63c2-45b1-8277-e1ddcdfea1d8"
   },
   "outputs": [
    {
     "name": "stdout",
     "output_type": "stream",
     "text": [
      "cpu\n"
     ]
    }
   ],
   "source": [
    "device = torch.device(\"cuda\" if torch.cuda.is_available() else \"cpu\")\n",
    "#t1_gpu = t1.cuda(device)\n",
    "#print(t1_gpu.device)\n",
    "print(t1.device)"
   ]
  },
  {
   "cell_type": "code",
   "execution_count": 16,
   "metadata": {},
   "outputs": [
    {
     "name": "stdout",
     "output_type": "stream",
     "text": [
      "mps:0\n",
      "cpu\n"
     ]
    }
   ],
   "source": [
    "#moving the M1 GPU instead\n",
    "device = torch.device(\"mps\" if torch.backends.mps.is_available() else \"cpu\")\n",
    "t1_gpu = t1.to(device)\n",
    "print(t1_gpu.device)\n",
    "print(t1.device)\n"
   ]
  },
  {
   "cell_type": "code",
   "execution_count": 17,
   "metadata": {
    "colab": {
     "base_uri": "https://localhost:8080/"
    },
    "id": "LXvgmbuiapjc",
    "outputId": "d89d7be0-2031-4673-cd61-d381580155dd"
   },
   "outputs": [
    {
     "name": "stdout",
     "output_type": "stream",
     "text": [
      "t2: \n",
      "tensor([0.5506, 0.5383])\n",
      "torch.Size([2])\n",
      "\n",
      "---after unsqueeze---\n",
      "tensor([[0.5506, 0.5383]])\n",
      "torch.Size([1, 2])\n"
     ]
    }
   ],
   "source": [
    "###########################\n",
    "### squeeze & unsqueeze ###\n",
    "###########################\n",
    "\n",
    "t2 = torch.rand(2)\n",
    "print(\"t2: \")\n",
    "print(t2)\n",
    "print(t2.shape)\n",
    "\n",
    "print(\"\\n---after unsqueeze---\")\n",
    "t2_add_rank = t2.unsqueeze(0)\n",
    "print(t2_add_rank)\n",
    "print(t2_add_rank.shape) # 1,2\n",
    "\n",
    "# print(t2_add_rank.unsqueeze(1).shape) # 1, 1 ,2"
   ]
  },
  {
   "cell_type": "code",
   "execution_count": 18,
   "metadata": {
    "colab": {
     "base_uri": "https://localhost:8080/"
    },
    "id": "_CTtRwora0Gc",
    "outputId": "99cb3689-bc17-44e4-e212-b918841701c7"
   },
   "outputs": [
    {
     "name": "stdout",
     "output_type": "stream",
     "text": [
      "tensor([[0.6088, 0.4006]])\n",
      "torch.Size([1, 2])\n",
      "\n",
      "---after squeeze---\n",
      "tensor([0.6088, 0.4006])\n",
      "torch.Size([2])\n"
     ]
    }
   ],
   "source": [
    "t3 = torch.rand(1,2)\n",
    "print(t3)\n",
    "print(t3.shape)\n",
    "\n",
    "print(\"\\n---after squeeze---\")\n",
    "t3_delete_rank = t3.squeeze(0)\n",
    "print(t3_delete_rank)\n",
    "print(t3_delete_rank.shape)"
   ]
  },
  {
   "cell_type": "code",
   "execution_count": 19,
   "metadata": {
    "colab": {
     "base_uri": "https://localhost:8080/"
    },
    "id": "6Hv4hyu-blHF",
    "outputId": "410207e1-0bd7-40b8-c2c9-564e46f3460c"
   },
   "outputs": [
    {
     "name": "stdout",
     "output_type": "stream",
     "text": [
      "torch.Size([192])\n",
      "\n",
      "---after reshape---\n",
      "torch.Size([3, 8, 8])\n",
      "\n",
      "---after permute---\n",
      "torch.Size([8, 8, 3])\n"
     ]
    }
   ],
   "source": [
    "###########################\n",
    "#### reshape & permute ####\n",
    "###########################\n",
    "\n",
    "t4 = torch.rand(192) # 3*8*8\n",
    "print(t4.shape)\n",
    "\n",
    "t4 = t4.reshape(3, 8, 8)\n",
    "print(\"\\n---after reshape---\")\n",
    "print(t4.shape)\n",
    "\n",
    "t4 = t4.permute(1,2,0)\n",
    "print(\"\\n---after permute---\")\n",
    "print(t4.shape)\n"
   ]
  },
  {
   "cell_type": "code",
   "execution_count": 20,
   "metadata": {
    "id": "9WEAvODKhbJs"
   },
   "outputs": [],
   "source": [
    "# 실제 값 이동 확인\n",
    "# t4 = torch.rand(12)\n",
    "# print('\\n',t4)\n",
    "# t4 = t4.reshape(3,2,2)\n",
    "# print('\\n',t4)\n",
    "# t4 = t4.permute(1,2,0) # (2,2,3)\n",
    "# print('\\n',t4)"
   ]
  },
  {
   "cell_type": "code",
   "execution_count": 21,
   "metadata": {
    "colab": {
     "base_uri": "https://localhost:8080/"
    },
    "id": "YJYNPlTDZqDA",
    "outputId": "99738b07-7ec4-4a3d-c983-335a5ed36485"
   },
   "outputs": [
    {
     "name": "stdout",
     "output_type": "stream",
     "text": [
      "<class 'numpy.ndarray'>\n",
      "[[1 2]\n",
      " [3 4]]\n",
      "<class 'torch.Tensor'>\n",
      "tensor([[1., 2.],\n",
      "        [3., 4.]])\n"
     ]
    }
   ],
   "source": [
    "###########################\n",
    "#### Basic operations #####\n",
    "###########################\n",
    "\n",
    "import numpy as np\n",
    "import torch\n",
    "\n",
    "# convert numpy -> tensor\n",
    "num_array = np.array([[1,2],[3,4]])\n",
    "t5 = torch.Tensor(num_array)\n",
    "print(type(num_array))\n",
    "print(num_array)\n",
    "print(type(t5))\n",
    "print(t5)"
   ]
  },
  {
   "cell_type": "code",
   "execution_count": 22,
   "metadata": {
    "colab": {
     "base_uri": "https://localhost:8080/"
    },
    "id": "XgDoB7plbxj6",
    "outputId": "c14e46bc-fbdf-4e37-fff1-f1d15de9531a"
   },
   "outputs": [
    {
     "name": "stdout",
     "output_type": "stream",
     "text": [
      "tensor([[3., 4.],\n",
      "        [5., 6.]])\n",
      "\n",
      "exponential: \n",
      "tensor([[ 20.0855,  54.5981],\n",
      "        [148.4132, 403.4288]])\n"
     ]
    }
   ],
   "source": [
    "# elementwise operations\n",
    "t6 = torch.ones_like(t5) # tensor filled w/ value '1' in the same shape of t5\n",
    "output = t5 + 2 * t6\n",
    "print(output)\n",
    "\n",
    "print()\n",
    "print(\"exponential: \")\n",
    "print(torch.exp(output))"
   ]
  },
  {
   "cell_type": "code",
   "execution_count": 23,
   "metadata": {
    "colab": {
     "base_uri": "https://localhost:8080/"
    },
    "id": "YJllqzA4EdkJ",
    "outputId": "b550b0f0-574b-4d79-bba1-f1cabe3d67ab"
   },
   "outputs": [
    {
     "name": "stdout",
     "output_type": "stream",
     "text": [
      "tensor([[4., 5.],\n",
      "        [6., 7.]])\n"
     ]
    }
   ],
   "source": [
    "# broadcasting\n",
    "vector = torch.ones((2,1)) # shape: (2,1)\n",
    "broadcast_output = output + vector\n",
    "print(broadcast_output)\n",
    "\n",
    "vector_err = torch.ones((3,1)) # shape: (3,1)\n",
    "# broadcast_output = output + vector_err # Raise Error!"
   ]
  },
  {
   "cell_type": "code",
   "execution_count": 24,
   "metadata": {
    "colab": {
     "base_uri": "https://localhost:8080/"
    },
    "id": "AzuuUyCaB1hf",
    "outputId": "3ea13c35-1778-4bbc-fcd3-51903c9e12ca"
   },
   "outputs": [
    {
     "name": "stdout",
     "output_type": "stream",
     "text": [
      "tensor([[[ 0.3735, -1.7626,  0.7899, -0.8324],\n",
      "         [-0.0863, -0.0743, -0.3117, -0.3652],\n",
      "         [-0.1959, -1.8726,  0.5492,  0.8871]],\n",
      "\n",
      "        [[ 1.1122, -1.4885,  0.1570,  2.0678],\n",
      "         [-0.3380,  1.2452, -0.5682,  1.2220],\n",
      "         [ 1.5029, -0.1173,  2.1450, -0.2366]]])\n",
      "\n",
      "torch.Size([2, 4])\n",
      "tensor([[0, 1, 0, 2],\n",
      "        [2, 1, 2, 0]])\n",
      "\n",
      "torch.Size([2, 1, 4])\n",
      "torch.Size([2, 4])\n"
     ]
    }
   ],
   "source": [
    "# dimension reduction\n",
    "t7 = torch.randn((2,3,4)) # shape: (2,3,4) = (0th dim, 1st dim, 2nd dim)\n",
    "print(t7)\n",
    "print()\n",
    "\n",
    "t7_argmax = torch.argmax(t7, dim=1)\n",
    "print(t7_argmax.shape)\n",
    "print(t7_argmax)\n",
    "\n",
    "print()\n",
    "\n",
    "print(torch.argmax(t7, 1, keepdims=True).shape)\n",
    "# print(torch.argmax(t7, 1, keepdims=True))\n",
    "print(torch.argmax(t7, 1, keepdims=True).squeeze(1).shape)"
   ]
  },
  {
   "cell_type": "markdown",
   "metadata": {
    "id": "K7SHhgW418_T"
   },
   "source": [
    "# 2. Dataset & DataLoader"
   ]
  },
  {
   "cell_type": "code",
   "execution_count": 25,
   "metadata": {
    "colab": {
     "base_uri": "https://localhost:8080/"
    },
    "id": "NCz8BZJ8bnrP",
    "outputId": "c90d7f69-8396-46ad-e94f-fee02e1ed3bd"
   },
   "outputs": [
    {
     "name": "stdout",
     "output_type": "stream",
     "text": [
      "SimpleDataset setting done\n",
      "x_data shape: 100\n",
      "x_data random length (1st, 4th, 46th): (5, 6, 9)\n",
      "y_data shape: torch.Size([100, 1])\n"
     ]
    }
   ],
   "source": [
    "###############################\n",
    "# Define dataset & dataloader #\n",
    "###############################\n",
    "import torch\n",
    "from torch.utils.data import Dataset\n",
    "from torch.utils.data import DataLoader\n",
    "import random\n",
    "\n",
    "class SimpleDataset(Dataset):\n",
    "\n",
    "    def __init__(self, csv_file=None, root_dir=None):\n",
    "\n",
    "        #self.csv_file = csv_file\n",
    "        #self.root_dir = root_dir\n",
    "\n",
    "        # set x_data with random length\n",
    "        n_dataset = 100\n",
    "        self.x_data = []\n",
    "        for _ in range(n_dataset):\n",
    "            random_length = random.randint(5,10)\n",
    "            self.x_data.append(np.random.randint(0,255,random_length))\n",
    "        # set y_data\n",
    "        self.y_data = torch.rand(n_dataset, 1)\n",
    "\n",
    "        print(\"SimpleDataset setting done\")\n",
    "        print(f'x_data shape: {len(self.x_data)}')\n",
    "        print(f'x_data random length (1st, 4th, 46th): {len(self.x_data[0]),len(self.x_data[3]), len(self.x_data[45])}')\n",
    "        print(f'y_data shape: {self.y_data.shape}')\n",
    "    \n",
    "    def __len__(self): \n",
    "        return len(self.x_data)\n",
    "\n",
    "    def __getitem__(self, idx): \n",
    "        x = torch.FloatTensor(self.x_data[idx])\n",
    "        y = torch.FloatTensor(self.y_data[idx])\n",
    "        return x, y \n",
    "    \n",
    "    def collate_fn(self, data):\n",
    "        \n",
    "        max_len = 10\n",
    "        batch = []\n",
    "        for x, y in data:\n",
    "            x_padded = torch.cat([x, torch.zeros(max_len - x.shape[0])])\n",
    "            batch.append(x_padded)\n",
    "        return torch.stack(batch)\n",
    "\n",
    "dataset = SimpleDataset() #instantiate the custom dataset class"
   ]
  },
  {
   "cell_type": "code",
   "execution_count": 27,
   "metadata": {
    "id": "Lx7Tftj9lwTb"
   },
   "outputs": [
    {
     "name": "stdout",
     "output_type": "stream",
     "text": [
      "batch idx:  1\n",
      "sample shape:  torch.Size([25, 10])\n",
      "batch idx:  2\n",
      "sample shape:  torch.Size([25, 10])\n",
      "batch idx:  3\n",
      "sample shape:  torch.Size([25, 10])\n",
      "batch idx:  4\n",
      "sample shape:  torch.Size([25, 10])\n",
      "tensor([[ 54.,  29., 125.,  45.,   9., 125.,   0.,   0.,   0.,   0.],\n",
      "        [159., 132., 202.,  67., 116., 242., 195., 253., 137.,   0.],\n",
      "        [147.,   5., 128., 228.,  44.,  86., 186.,   0.,   0.,   0.],\n",
      "        [128., 224., 114., 253.,  37., 150.,   0.,   0.,   0.,   0.],\n",
      "        [112., 145.,  48., 230.,  55.,   0.,   0.,   0.,   0.,   0.],\n",
      "        [195., 205.,  13., 204., 162.,   0.,   0.,   0.,   0.,   0.],\n",
      "        [203.,  97., 252.,   8.,  63.,  17.,  75., 173., 224.,  44.],\n",
      "        [127., 126., 183., 101., 117.,   0.,   0.,   0.,   0.,   0.],\n",
      "        [209.,  78.,  97.,  79., 141.,   0.,   0.,   0.,   0.,   0.],\n",
      "        [236., 124., 154.,  44., 199.,  36., 193., 199., 174., 235.],\n",
      "        [144.,   1., 110.,  38., 152., 110., 179.,  30.,   0.,   0.],\n",
      "        [198.,  22.,  85.,   3.,   7., 114.,   0.,   0.,   0.,   0.],\n",
      "        [ 39., 219.,  44., 235.,  17.,   2., 118.,  88.,  45.,   0.],\n",
      "        [  2.,  26., 253., 136.,  89., 178., 204., 106.,  54., 131.],\n",
      "        [164., 180., 225., 133.,  36.,  43.,  61.,  67.,  51., 157.],\n",
      "        [211., 106.,  26., 201.,  13., 215.,   0.,   0.,   0.,   0.],\n",
      "        [187., 181.,  76.,  85.,  24.,  93., 147.,   0.,   0.,   0.],\n",
      "        [165., 180.,  29., 200., 168.,   0.,   0.,   0.,   0.,   0.],\n",
      "        [ 77., 231., 123., 102.,  89.,  11., 110., 234., 207.,   0.],\n",
      "        [202.,  47., 164., 238., 224.,   0.,   0.,   0.,   0.,   0.],\n",
      "        [ 78., 213.,  68., 102., 103.,  55., 148., 132., 210., 120.],\n",
      "        [122.,  98., 120., 160., 112.,   0.,   0.,   0.,   0.,   0.],\n",
      "        [226.,  80.,  11., 144.,  44.,  18., 216., 158.,   0.,   0.],\n",
      "        [122., 172., 225.,   9.,  81., 170., 212.,  22., 101.,   0.],\n",
      "        [176.,  15., 157., 147.,  60., 146.,  86., 140.,  46., 173.]])\n"
     ]
    }
   ],
   "source": [
    "dataloader = DataLoader(dataset, batch_size=25, collate_fn=dataset.collate_fn, shuffle=True)\n",
    "#dataloader = DataLoader(dataset, batch_size=25, shuffle=True) # Raise Error!\n",
    "\n",
    "for batch_idx, samples in enumerate(dataloader):\n",
    "    print(\"batch idx: \", batch_idx+1)\n",
    "    print(\"sample shape: \", samples.shape)\n",
    "\n",
    "    if batch_idx==len(dataloader)-1:\n",
    "        print(samples)\n",
    "\n",
    "    # ... train continued"
   ]
  },
  {
   "cell_type": "markdown",
   "metadata": {
    "id": "-kfP0y7kqYYr"
   },
   "source": [
    "# 3. Implementating a Model"
   ]
  },
  {
   "cell_type": "markdown",
   "metadata": {
    "id": "m-YDKTPEqbeB"
   },
   "source": [
    "## 3-1. Preparing dataset(MNIST)"
   ]
  },
  {
   "cell_type": "code",
   "execution_count": 28,
   "metadata": {
    "colab": {
     "base_uri": "https://localhost:8080/",
     "height": 417,
     "referenced_widgets": [
      "410d4e2f245f4500b17e4f9d2ee2e1be",
      "b48abe69b2f842a9bb7f33a6c59e4727",
      "52620e7a7410435086dafca3071f6146",
      "f94b530ad0644cf4819bd3dc514d2f3a",
      "1ebc9a77cc9b4f7fb0c00ebfc9a4c3c4",
      "86531aec821e4622bc53d3b34c68c9a6",
      "8348af581d274b2ca30bfc58250feff0",
      "716457ac38f148ea97ec838d0230a993",
      "ef0952457f1a4fc4b7ba9fd6a60113b9",
      "4f883c4d9b4445b4a7c7858a9c75f4de",
      "de8c9cac0fca4c6c9f35a664f509d4d9",
      "8e3d993351d74bb69cfc53ac7426f64c",
      "a679b62ef28e4b7f8e0d756707a70902",
      "0567434fda564ca8af088c49508b7630",
      "a38dbb5dc85a42cab92480a8d76f6931",
      "40791c6892b54881beb5272064b8281e",
      "6b828f77b0714b7eaef46ca005fc119f",
      "3b4d836f0726449bb5db6dbb848f9958",
      "41f7973e3d1841ae8955226dce6a9621",
      "354ff44ede934010be5c13675fb10a72",
      "36b72c2163554ce7a7f038e5352b87b5",
      "10cbdb6afe764a91a7cea8db3a32d9a5",
      "a98d8b203fc94025a31b0e724fcec1de",
      "8236174e6e2c4a8b9ce745b953e7b5b2",
      "0968e77c6f6f458ba35e1256e2d47d39",
      "5a1e9048e3a34a4c95df7194194b12fb",
      "cda74b79d6ca4f45b3e61a89bad4404d",
      "79150675d09042d9872a06de9708f8f5",
      "310d38471ceb4b9dbf9c70087a24fe00",
      "aae113ee45df45a5b48fb4128615f923",
      "72f7d27b8739411db5709882a0585021",
      "425c4fd8d3bf4cb5a74dda4d5a522b34",
      "98212b63966a40f78f10333c7c285a4b",
      "4c05c3b915ca4d76af45cf451d106cd7",
      "b7bbf94e0b4f40bbb8735cf0a07f6be0",
      "da5d3cb07be64d39a827f559b17d1b61",
      "a1c1c54cf573499cb83b30836a1c12ea",
      "35ffc5454bd345dc9cd13fc7fbc3eb55",
      "6f166c6e91d04f7fb1364fe76555f159",
      "afe243e204594b3ab2558395e313f637",
      "af2c5bcc363c4111a7dc5bc245b85429",
      "cd12f2b6e6ed413db660d388880d0e56",
      "0a26c5f2791f4b09af1d6b71332a5e70",
      "332ce4cf500143e0888d50e9d084859a"
     ]
    },
    "id": "hqolwhWXt9qy",
    "outputId": "d2efb19f-4d1b-4219-abac-5aa54f2a352c"
   },
   "outputs": [],
   "source": [
    "from torch.utils.data import DataLoader\n",
    "from torchvision import datasets\n",
    "from torchvision.transforms import ToTensor\n",
    "\n",
    "# set dataset\n",
    "train_data = datasets.MNIST(\n",
    "    root=\"data\",\n",
    "    train=True,\n",
    "    download=True,\n",
    "    transform=ToTensor()\n",
    ")\n",
    "\n",
    "test_data = datasets.MNIST(\n",
    "    root=\"data\",\n",
    "    train=False, #유일하게 `train_data`와 다른점! \n",
    "    download=True,\n",
    "    transform=ToTensor()\n",
    ")\n",
    "\n",
    "# set data loader (Dataloader options를 넣자)\n",
    "batch_size = 64\n",
    "train_loader = DataLoader(train_data, batch_size=batch_size, shuffle=True)\n",
    "test_loader = DataLoader(test_data, batch_size=batch_size, shuffle=True)"
   ]
  },
  {
   "cell_type": "code",
   "execution_count": 35,
   "metadata": {
    "id": "YKEsCYwtpZDp"
   },
   "outputs": [
    {
     "name": "stdout",
     "output_type": "stream",
     "text": [
      "example data shape:  torch.Size([64, 1, 28, 28])\n"
     ]
    },
    {
     "data": {
      "image/png": "[encoded data removed]",
      "text/plain": [
       "<Figure size 432x288 with 6 Axes>"
      ]
     },
     "execution_count": 35,
     "metadata": {},
     "output_type": "execute_result"
    },
    {
     "data": {
      "image/png": "[encoded data removed]",
      "text/plain": [
       "<Figure size 432x288 with 6 Axes>"
      ]
     },
     "metadata": {},
     "output_type": "display_data"
    }
   ],
   "source": [
    "import matplotlib.pyplot as plt\n",
    "\n",
    "examples = enumerate(test_loader)\n",
    "batch_idx, (example_data, example_targets) = next(examples)\n",
    "print(\"example data shape: \", example_data.shape)\n",
    "\n",
    "fig = plt.figure()\n",
    "for i in range(6):\n",
    "  plt.subplot(2,3,i+1)\n",
    "  plt.tight_layout()\n",
    "  plt.imshow(example_data[i][0], cmap='gray', interpolation='none')\n",
    "  plt.title(\"Ground Truth: {}\".format(example_targets[i]))\n",
    "  plt.xticks([])\n",
    "  plt.yticks([])\n",
    "fig"
   ]
  },
  {
   "cell_type": "markdown",
   "metadata": {
    "id": "ufHK69Cd4jqh"
   },
   "source": [
    "## 3-2. Build Model\n",
    "\n",
    "\n",
    "\n",
    "---\n",
    "\n",
    "\n",
    "\n",
    "\n",
    "![image.png](https://learning.oreilly.com/api/v2/epubs/urn:orm:book:9781492045342/files/assets/ppdl_0203.png)\n",
    "\n"
   ]
  },
  {
   "cell_type": "markdown",
   "metadata": {
    "id": "bBho3LabIFzC"
   },
   "source": [
    "ref.\n",
    "Programming PyTorch for Deep Learning(2019), Ian Pointer, O'Reilly"
   ]
  },
  {
   "cell_type": "code",
   "execution_count": 29,
   "metadata": {
    "colab": {
     "base_uri": "https://localhost:8080/"
    },
    "id": "jDTPdFcP4HU-",
    "outputId": "d7197381-88a2-4137-b0f8-90ed6a65dba2"
   },
   "outputs": [
    {
     "name": "stdout",
     "output_type": "stream",
     "text": [
      "Net(\n",
      "  (fc1): Linear(in_features=784, out_features=128, bias=True)\n",
      "  (fc2): Linear(in_features=128, out_features=64, bias=True)\n",
      "  (classifier): Linear(in_features=64, out_features=10, bias=True)\n",
      ")\n"
     ]
    }
   ],
   "source": [
    "import torch.nn as nn\n",
    "import torch.nn.functional as F\n",
    "import torch.optim as optim\n",
    "\n",
    "class Net(nn.Module):\n",
    "    def __init__(self):\n",
    "        super(Net, self).__init__()\n",
    "        self.fc1 = nn.Linear(784,128)\n",
    "        self.fc2 = nn.Linear(128,64)\n",
    "        self.classifier = nn.Linear(64,10)\n",
    "    \n",
    "    def forward(self, x):\n",
    "        x = x.reshape(-1, 784)\n",
    "        x = F.relu(self.fc1(x))\n",
    "        x = F.relu(self.fc2(x))\n",
    "        return self.classifier(x)\n",
    "\n",
    "network = Net()\n",
    "print(network)"
   ]
  },
  {
   "cell_type": "code",
   "execution_count": 30,
   "metadata": {
    "id": "b8iEcKQDJ3Ou"
   },
   "outputs": [],
   "source": [
    "def train(model, optim, loss_fn, train_loader, epochs, device):\n",
    "    for epoch in range(epochs):\n",
    "        train_loss = 0.0\n",
    "        model.train()\n",
    "\n",
    "        for batch in train_loader:\n",
    "            optim.zero_grad()\n",
    "            \n",
    "            input, target = batch\n",
    "            input = input.to(device)\n",
    "            target = target.to(device)\n",
    "            \n",
    "            output = model(input)\n",
    "            loss = loss_fn(output, target)\n",
    "            loss.backward()\n",
    "            optim.step()\n",
    "            train_loss += loss.data.item()\n",
    "        train_loss /= len(train_loader.dataset)\n",
    "\n",
    "        print(f'Epoch: {epoch+1}, Training Loss: {train_loss}')\n",
    "\n",
    "def test(model, loss_fn, device):\n",
    "    model.eval()\n",
    "    test_loss = 0.0\n",
    "    correct = 0\n",
    "    \n",
    "    with torch.no_grad():\n",
    "        for batch in test_loader:\n",
    "            input, target = batch\n",
    "            input = input.to(device)\n",
    "            target = target.to(device)\n",
    "            \n",
    "            output = model(input)\n",
    "            loss = loss_fn(output, target)\n",
    "            test_loss += loss.data.item()\n",
    "            pred = output.data.max(1, keepdim=True)[1]\n",
    "            correct += pred.eq(target.data.view_as(pred)).sum()\n",
    "        test_loss /= len(test_loader.dataset)\n",
    "    print(f'Test Loss: {test_loss},\\t Accuracy: ({100. * correct / len(test_loader.dataset)}%)\\n')"
   ]
  },
  {
   "cell_type": "code",
   "execution_count": 36,
   "metadata": {
    "colab": {
     "base_uri": "https://localhost:8080/"
    },
    "id": "sjMJ3KXc-VbZ",
    "outputId": "cf0422d8-b562-482d-c53c-349818de395c"
   },
   "outputs": [
    {
     "name": "stdout",
     "output_type": "stream",
     "text": [
      "mps\n",
      "Epoch: 1, Training Loss: 5.110583002397107e-06\n",
      "Epoch: 2, Training Loss: 4.991611686538515e-06\n",
      "Epoch: 3, Training Loss: 4.895933092863439e-06\n",
      "Epoch: 4, Training Loss: 4.757114691574316e-06\n",
      "Epoch: 5, Training Loss: 4.64800772901602e-06\n",
      "Epoch: 6, Training Loss: 4.537871464435738e-06\n",
      "Epoch: 7, Training Loss: 4.448293534619552e-06\n",
      "Epoch: 8, Training Loss: 4.354357488231268e-06\n",
      "Epoch: 9, Training Loss: 4.253709197526708e-06\n",
      "Epoch: 10, Training Loss: 4.171076383359681e-06\n",
      "Test Loss: 0.001478759228597687,\t Accuracy: (97.99000549316406%)\n",
      "\n"
     ]
    }
   ],
   "source": [
    "device = torch.device(\"cuda\" if torch.cuda.is_available() else \"cpu\")\n",
    "device = torch.device(\"mps\" if torch.backends.mps.is_available() else \"cpu\")\n",
    "network.to(device) #put model on device\n",
    "print(device)\n",
    "\n",
    "num_epochs = 10\n",
    "optimizer = optim.SGD(network.parameters(), lr=1e-2, momentum=0.9)\n",
    "train(network, optimizer, nn.CrossEntropyLoss(), train_loader, num_epochs, device) #train with device also as option!\n",
    "test(network, nn.CrossEntropyLoss(), device) #device also has to be specified!\n",
    "\n",
    "\n",
    "#let's see if it's overfitting by printing out the history\n",
    "\n",
    "#주의 : if I run it again without restarting the kernel, 이미 배워진 상태에서 다시 시작이 된다!"
   ]
  },
  {
   "cell_type": "markdown",
   "metadata": {
    "id": "rc6WeY_UM-Ml"
   },
   "source": [
    "## 3-3. Save & Load Model"
   ]
  },
  {
   "cell_type": "code",
   "execution_count": null,
   "metadata": {
    "colab": {
     "base_uri": "https://localhost:8080/"
    },
    "id": "OzH920yY-4uI",
    "outputId": "3e2df2a1-d6ed-4ac9-a487-dbab1f46351e"
   },
   "outputs": [],
   "source": [
    "# option 1\n",
    "# save parameters & structure of model\n",
    "\n",
    "# torch.save(network, \"./data/first_network\")\n",
    "loaded_network = torch.load(\"./data/first_network\")\n",
    "print(loaded_network)\n",
    "print(type(loaded_network))"
   ]
  },
  {
   "cell_type": "code",
   "execution_count": null,
   "metadata": {
    "colab": {
     "base_uri": "https://localhost:8080/"
    },
    "id": "AToQ06UZNFpJ",
    "outputId": "c3c265d6-52ab-4007-8c8a-29f3d95ecae6"
   },
   "outputs": [],
   "source": [
    "# option 2 (recommended)\n",
    "# maps of each layer's parameters\n",
    "\n",
    "# torch.save(network.state_dict(), \"./data/first_network_dict\")\n",
    "# state_dict = torch.load(\"./data/first_network_dict\")\n",
    "# print(type(state_dict))\n",
    "\n",
    "network.add_module(\"additional_layer\", nn.Linear(10,10))\n",
    "print(*network.modules())"
   ]
  },
  {
   "cell_type": "code",
   "execution_count": null,
   "metadata": {
    "colab": {
     "base_uri": "https://localhost:8080/"
    },
    "id": "SSnyz8Arjaa8",
    "outputId": "123fd33d-71f5-4a41-c689-2bf4a1d5b489"
   },
   "outputs": [],
   "source": [
    "network.load_state_dict(state_dict, strict=False)\n",
    "# network.load_state_dict(state_dict, strict=True) # Raise Error!\n",
    "print(network)"
   ]
  },
  {
   "cell_type": "code",
   "execution_count": null,
   "metadata": {
    "colab": {
     "base_uri": "https://localhost:8080/",
     "height": 1000,
     "referenced_widgets": [
      "4584a046692d49ddbaedb908b97cc196",
      "93a7f7b7c1ea455fb5b6820459f7ca9e",
      "a9b0342915f949d6a2837cdea668ff17",
      "a08ed7e22548465a9863679674230515",
      "b700e8b6a656437a8b4b7cf4a78d03cb",
      "72a327bd4f7643478a83cea50df36289",
      "522e468a743b4bafb58d74dd5f2a2574",
      "e10f0db347104d71a5cceba3a52ee063",
      "925fa02c0acb4ec68eb254e166493aca",
      "a3dba47a3e8841fe804dae8f9a3d2087",
      "2aa0504bfde543ac8cffd51781ed44a8"
     ]
    },
    "id": "sBAKeCJeHTvQ",
    "outputId": "b80dcb34-6119-4dd3-bdb5-af15e5c5d165"
   },
   "outputs": [],
   "source": [
    "import torchvision.models as models\n",
    "\n",
    "resnet18 = models.resnet18(pretrained=True)\n",
    "print(resnet18)"
   ]
  },
  {
   "cell_type": "code",
   "execution_count": null,
   "metadata": {
    "colab": {
     "base_uri": "https://localhost:8080/"
    },
    "id": "55_PzURoIoFa",
    "outputId": "23fa00ae-0677-4e9b-9377-ec32c8c6dfba"
   },
   "outputs": [],
   "source": [
    "num_classes = 10\n",
    "last_layer_in_features = resnet18.fc.in_features\n",
    "resnet18.fc = nn.Linear(last_layer_in_features, num_classes)\n",
    "print(resnet18)"
   ]
  },
  {
   "cell_type": "code",
   "execution_count": null,
   "metadata": {
    "id": "jxU0kmKpmW_5"
   },
   "outputs": [],
   "source": []
  },
  {
   "cell_type": "code",
   "execution_count": null,
   "metadata": {},
   "outputs": [],
   "source": [
    "train(model = network, optim = optimizer, loss_fn = loss_function,\n",
    "     15      train_loader = train_loader, epochs = num_epochs, device = device)"
   ]
  },
  {
   "cell_type": "code",
   "execution_count": null,
   "metadata": {},
   "outputs": [],
   "source": []
  }
 ],
 "metadata": {
  "accelerator": "GPU",
  "colab": {
   "collapsed_sections": [
    "FM9RRohKhmcf",
    "K7SHhgW418_T",
    "m-YDKTPEqbeB",
    "ufHK69Cd4jqh",
    "rc6WeY_UM-Ml"
   ],
   "name": "lab1_pytorch_tutorial",
   "provenance": []
  },
  "kernelspec": {
   "display_name": "Python 3 (ipykernel)",
   "language": "python",
   "name": "python3"
  },
  "language_info": {
   "codemirror_mode": {
    "name": "ipython",
    "version": 3
   },
   "file_extension": ".py",
   "mimetype": "text/x-python",
   "name": "python",
   "nbconvert_exporter": "python",
   "pygments_lexer": "ipython3",
   "version": "3.8.13"
  },
  "widgets": {
   "application/vnd.jupyter.widget-state+json": {
    "0567434fda564ca8af088c49508b7630": {
     "model_module": "@jupyter-widgets/controls",
     "model_module_version": "1.5.0",
     "model_name": "FloatProgressModel",
     "state": {
      "_dom_classes": [],
      "_model_module": "@jupyter-widgets/controls",
      "_model_module_version": "1.5.0",
      "_model_name": "FloatProgressModel",
      "_view_count": null,
      "_view_module": "@jupyter-widgets/controls",
      "_view_module_version": "1.5.0",
      "_view_name": "ProgressView",
      "bar_style": "success",
      "description": "",
      "description_tooltip": null,
      "layout": "IPY_MODEL_41f7973e3d1841ae8955226dce6a9621",
      "max": 28881,
      "min": 0,
      "orientation": "horizontal",
      "style": "IPY_MODEL_354ff44ede934010be5c13675fb10a72",
      "value": 28881
     }
    },
    "0968e77c6f6f458ba35e1256e2d47d39": {
     "model_module": "@jupyter-widgets/controls",
     "model_module_version": "1.5.0",
     "model_name": "FloatProgressModel",
     "state": {
      "_dom_classes": [],
      "_model_module": "@jupyter-widgets/controls",
      "_model_module_version": "1.5.0",
      "_model_name": "FloatProgressModel",
      "_view_count": null,
      "_view_module": "@jupyter-widgets/controls",
      "_view_module_version": "1.5.0",
      "_view_name": "ProgressView",
      "bar_style": "success",
      "description": "",
      "description_tooltip": null,
      "layout": "IPY_MODEL_aae113ee45df45a5b48fb4128615f923",
      "max": 1648877,
      "min": 0,
      "orientation": "horizontal",
      "style": "IPY_MODEL_72f7d27b8739411db5709882a0585021",
      "value": 1648877
     }
    },
    "0a26c5f2791f4b09af1d6b71332a5e70": {
     "model_module": "@jupyter-widgets/base",
     "model_module_version": "1.2.0",
     "model_name": "LayoutModel",
     "state": {
      "_model_module": "@jupyter-widgets/base",
      "_model_module_version": "1.2.0",
      "_model_name": "LayoutModel",
      "_view_count": null,
      "_view_module": "@jupyter-widgets/base",
      "_view_module_version": "1.2.0",
      "_view_name": "LayoutView",
      "align_content": null,
      "align_items": null,
      "align_self": null,
      "border": null,
      "bottom": null,
      "display": null,
      "flex": null,
      "flex_flow": null,
      "grid_area": null,
      "grid_auto_columns": null,
      "grid_auto_flow": null,
      "grid_auto_rows": null,
      "grid_column": null,
      "grid_gap": null,
      "grid_row": null,
      "grid_template_areas": null,
      "grid_template_columns": null,
      "grid_template_rows": null,
      "height": null,
      "justify_content": null,
      "justify_items": null,
      "left": null,
      "margin": null,
      "max_height": null,
      "max_width": null,
      "min_height": null,
      "min_width": null,
      "object_fit": null,
      "object_position": null,
      "order": null,
      "overflow": null,
      "overflow_x": null,
      "overflow_y": null,
      "padding": null,
      "right": null,
      "top": null,
      "visibility": null,
      "width": null
     }
    },
    "10cbdb6afe764a91a7cea8db3a32d9a5": {
     "model_module": "@jupyter-widgets/controls",
     "model_module_version": "1.5.0",
     "model_name": "DescriptionStyleModel",
     "state": {
      "_model_module": "@jupyter-widgets/controls",
      "_model_module_version": "1.5.0",
      "_model_name": "DescriptionStyleModel",
      "_view_count": null,
      "_view_module": "@jupyter-widgets/base",
      "_view_module_version": "1.2.0",
      "_view_name": "StyleView",
      "description_width": ""
     }
    },
    "1ebc9a77cc9b4f7fb0c00ebfc9a4c3c4": {
     "model_module": "@jupyter-widgets/base",
     "model_module_version": "1.2.0",
     "model_name": "LayoutModel",
     "state": {
      "_model_module": "@jupyter-widgets/base",
      "_model_module_version": "1.2.0",
      "_model_name": "LayoutModel",
      "_view_count": null,
      "_view_module": "@jupyter-widgets/base",
      "_view_module_version": "1.2.0",
      "_view_name": "LayoutView",
      "align_content": null,
      "align_items": null,
      "align_self": null,
      "border": null,
      "bottom": null,
      "display": null,
      "flex": null,
      "flex_flow": null,
      "grid_area": null,
      "grid_auto_columns": null,
      "grid_auto_flow": null,
      "grid_auto_rows": null,
      "grid_column": null,
      "grid_gap": null,
      "grid_row": null,
      "grid_template_areas": null,
      "grid_template_columns": null,
      "grid_template_rows": null,
      "height": null,
      "justify_content": null,
      "justify_items": null,
      "left": null,
      "margin": null,
      "max_height": null,
      "max_width": null,
      "min_height": null,
      "min_width": null,
      "object_fit": null,
      "object_position": null,
      "order": null,
      "overflow": null,
      "overflow_x": null,
      "overflow_y": null,
      "padding": null,
      "right": null,
      "top": null,
      "visibility": null,
      "width": null
     }
    },
    "2aa0504bfde543ac8cffd51781ed44a8": {
     "model_module": "@jupyter-widgets/controls",
     "model_module_version": "1.5.0",
     "model_name": "DescriptionStyleModel",
     "state": {
      "_model_module": "@jupyter-widgets/controls",
      "_model_module_version": "1.5.0",
      "_model_name": "DescriptionStyleModel",
      "_view_count": null,
      "_view_module": "@jupyter-widgets/base",
      "_view_module_version": "1.2.0",
      "_view_name": "StyleView",
      "description_width": ""
     }
    },
    "310d38471ceb4b9dbf9c70087a24fe00": {
     "model_module": "@jupyter-widgets/controls",
     "model_module_version": "1.5.0",
     "model_name": "DescriptionStyleModel",
     "state": {
      "_model_module": "@jupyter-widgets/controls",
      "_model_module_version": "1.5.0",
      "_model_name": "DescriptionStyleModel",
      "_view_count": null,
      "_view_module": "@jupyter-widgets/base",
      "_view_module_version": "1.2.0",
      "_view_name": "StyleView",
      "description_width": ""
     }
    },
    "332ce4cf500143e0888d50e9d084859a": {
     "model_module": "@jupyter-widgets/controls",
     "model_module_version": "1.5.0",
     "model_name": "DescriptionStyleModel",
     "state": {
      "_model_module": "@jupyter-widgets/controls",
      "_model_module_version": "1.5.0",
      "_model_name": "DescriptionStyleModel",
      "_view_count": null,
      "_view_module": "@jupyter-widgets/base",
      "_view_module_version": "1.2.0",
      "_view_name": "StyleView",
      "description_width": ""
     }
    },
    "354ff44ede934010be5c13675fb10a72": {
     "model_module": "@jupyter-widgets/controls",
     "model_module_version": "1.5.0",
     "model_name": "ProgressStyleModel",
     "state": {
      "_model_module": "@jupyter-widgets/controls",
      "_model_module_version": "1.5.0",
      "_model_name": "ProgressStyleModel",
      "_view_count": null,
      "_view_module": "@jupyter-widgets/base",
      "_view_module_version": "1.2.0",
      "_view_name": "StyleView",
      "bar_color": null,
      "description_width": ""
     }
    },
    "35ffc5454bd345dc9cd13fc7fbc3eb55": {
     "model_module": "@jupyter-widgets/base",
     "model_module_version": "1.2.0",
     "model_name": "LayoutModel",
     "state": {
      "_model_module": "@jupyter-widgets/base",
      "_model_module_version": "1.2.0",
      "_model_name": "LayoutModel",
      "_view_count": null,
      "_view_module": "@jupyter-widgets/base",
      "_view_module_version": "1.2.0",
      "_view_name": "LayoutView",
      "align_content": null,
      "align_items": null,
      "align_self": null,
      "border": null,
      "bottom": null,
      "display": null,
      "flex": null,
      "flex_flow": null,
      "grid_area": null,
      "grid_auto_columns": null,
      "grid_auto_flow": null,
      "grid_auto_rows": null,
      "grid_column": null,
      "grid_gap": null,
      "grid_row": null,
      "grid_template_areas": null,
      "grid_template_columns": null,
      "grid_template_rows": null,
      "height": null,
      "justify_content": null,
      "justify_items": null,
      "left": null,
      "margin": null,
      "max_height": null,
      "max_width": null,
      "min_height": null,
      "min_width": null,
      "object_fit": null,
      "object_position": null,
      "order": null,
      "overflow": null,
      "overflow_x": null,
      "overflow_y": null,
      "padding": null,
      "right": null,
      "top": null,
      "visibility": null,
      "width": null
     }
    },
    "36b72c2163554ce7a7f038e5352b87b5": {
     "model_module": "@jupyter-widgets/base",
     "model_module_version": "1.2.0",
     "model_name": "LayoutModel",
     "state": {
      "_model_module": "@jupyter-widgets/base",
      "_model_module_version": "1.2.0",
      "_model_name": "LayoutModel",
      "_view_count": null,
      "_view_module": "@jupyter-widgets/base",
      "_view_module_version": "1.2.0",
      "_view_name": "LayoutView",
      "align_content": null,
      "align_items": null,
      "align_self": null,
      "border": null,
      "bottom": null,
      "display": null,
      "flex": null,
      "flex_flow": null,
      "grid_area": null,
      "grid_auto_columns": null,
      "grid_auto_flow": null,
      "grid_auto_rows": null,
      "grid_column": null,
      "grid_gap": null,
      "grid_row": null,
      "grid_template_areas": null,
      "grid_template_columns": null,
      "grid_template_rows": null,
      "height": null,
      "justify_content": null,
      "justify_items": null,
      "left": null,
      "margin": null,
      "max_height": null,
      "max_width": null,
      "min_height": null,
      "min_width": null,
      "object_fit": null,
      "object_position": null,
      "order": null,
      "overflow": null,
      "overflow_x": null,
      "overflow_y": null,
      "padding": null,
      "right": null,
      "top": null,
      "visibility": null,
      "width": null
     }
    },
    "3b4d836f0726449bb5db6dbb848f9958": {
     "model_module": "@jupyter-widgets/controls",
     "model_module_version": "1.5.0",
     "model_name": "DescriptionStyleModel",
     "state": {
      "_model_module": "@jupyter-widgets/controls",
      "_model_module_version": "1.5.0",
      "_model_name": "DescriptionStyleModel",
      "_view_count": null,
      "_view_module": "@jupyter-widgets/base",
      "_view_module_version": "1.2.0",
      "_view_name": "StyleView",
      "description_width": ""
     }
    },
    "40791c6892b54881beb5272064b8281e": {
     "model_module": "@jupyter-widgets/base",
     "model_module_version": "1.2.0",
     "model_name": "LayoutModel",
     "state": {
      "_model_module": "@jupyter-widgets/base",
      "_model_module_version": "1.2.0",
      "_model_name": "LayoutModel",
      "_view_count": null,
      "_view_module": "@jupyter-widgets/base",
      "_view_module_version": "1.2.0",
      "_view_name": "LayoutView",
      "align_content": null,
      "align_items": null,
      "align_self": null,
      "border": null,
      "bottom": null,
      "display": null,
      "flex": null,
      "flex_flow": null,
      "grid_area": null,
      "grid_auto_columns": null,
      "grid_auto_flow": null,
      "grid_auto_rows": null,
      "grid_column": null,
      "grid_gap": null,
      "grid_row": null,
      "grid_template_areas": null,
      "grid_template_columns": null,
      "grid_template_rows": null,
      "height": null,
      "justify_content": null,
      "justify_items": null,
      "left": null,
      "margin": null,
      "max_height": null,
      "max_width": null,
      "min_height": null,
      "min_width": null,
      "object_fit": null,
      "object_position": null,
      "order": null,
      "overflow": null,
      "overflow_x": null,
      "overflow_y": null,
      "padding": null,
      "right": null,
      "top": null,
      "visibility": null,
      "width": null
     }
    },
    "410d4e2f245f4500b17e4f9d2ee2e1be": {
     "model_module": "@jupyter-widgets/controls",
     "model_module_version": "1.5.0",
     "model_name": "HBoxModel",
     "state": {
      "_dom_classes": [],
      "_model_module": "@jupyter-widgets/controls",
      "_model_module_version": "1.5.0",
      "_model_name": "HBoxModel",
      "_view_count": null,
      "_view_module": "@jupyter-widgets/controls",
      "_view_module_version": "1.5.0",
      "_view_name": "HBoxView",
      "box_style": "",
      "children": [
       "IPY_MODEL_b48abe69b2f842a9bb7f33a6c59e4727",
       "IPY_MODEL_52620e7a7410435086dafca3071f6146",
       "IPY_MODEL_f94b530ad0644cf4819bd3dc514d2f3a"
      ],
      "layout": "IPY_MODEL_1ebc9a77cc9b4f7fb0c00ebfc9a4c3c4"
     }
    },
    "41f7973e3d1841ae8955226dce6a9621": {
     "model_module": "@jupyter-widgets/base",
     "model_module_version": "1.2.0",
     "model_name": "LayoutModel",
     "state": {
      "_model_module": "@jupyter-widgets/base",
      "_model_module_version": "1.2.0",
      "_model_name": "LayoutModel",
      "_view_count": null,
      "_view_module": "@jupyter-widgets/base",
      "_view_module_version": "1.2.0",
      "_view_name": "LayoutView",
      "align_content": null,
      "align_items": null,
      "align_self": null,
      "border": null,
      "bottom": null,
      "display": null,
      "flex": null,
      "flex_flow": null,
      "grid_area": null,
      "grid_auto_columns": null,
      "grid_auto_flow": null,
      "grid_auto_rows": null,
      "grid_column": null,
      "grid_gap": null,
      "grid_row": null,
      "grid_template_areas": null,
      "grid_template_columns": null,
      "grid_template_rows": null,
      "height": null,
      "justify_content": null,
      "justify_items": null,
      "left": null,
      "margin": null,
      "max_height": null,
      "max_width": null,
      "min_height": null,
      "min_width": null,
      "object_fit": null,
      "object_position": null,
      "order": null,
      "overflow": null,
      "overflow_x": null,
      "overflow_y": null,
      "padding": null,
      "right": null,
      "top": null,
      "visibility": null,
      "width": null
     }
    },
    "425c4fd8d3bf4cb5a74dda4d5a522b34": {
     "model_module": "@jupyter-widgets/base",
     "model_module_version": "1.2.0",
     "model_name": "LayoutModel",
     "state": {
      "_model_module": "@jupyter-widgets/base",
      "_model_module_version": "1.2.0",
      "_model_name": "LayoutModel",
      "_view_count": null,
      "_view_module": "@jupyter-widgets/base",
      "_view_module_version": "1.2.0",
      "_view_name": "LayoutView",
      "align_content": null,
      "align_items": null,
      "align_self": null,
      "border": null,
      "bottom": null,
      "display": null,
      "flex": null,
      "flex_flow": null,
      "grid_area": null,
      "grid_auto_columns": null,
      "grid_auto_flow": null,
      "grid_auto_rows": null,
      "grid_column": null,
      "grid_gap": null,
      "grid_row": null,
      "grid_template_areas": null,
      "grid_template_columns": null,
      "grid_template_rows": null,
      "height": null,
      "justify_content": null,
      "justify_items": null,
      "left": null,
      "margin": null,
      "max_height": null,
      "max_width": null,
      "min_height": null,
      "min_width": null,
      "object_fit": null,
      "object_position": null,
      "order": null,
      "overflow": null,
      "overflow_x": null,
      "overflow_y": null,
      "padding": null,
      "right": null,
      "top": null,
      "visibility": null,
      "width": null
     }
    },
    "4584a046692d49ddbaedb908b97cc196": {
     "model_module": "@jupyter-widgets/controls",
     "model_module_version": "1.5.0",
     "model_name": "HBoxModel",
     "state": {
      "_dom_classes": [],
      "_model_module": "@jupyter-widgets/controls",
      "_model_module_version": "1.5.0",
      "_model_name": "HBoxModel",
      "_view_count": null,
      "_view_module": "@jupyter-widgets/controls",
      "_view_module_version": "1.5.0",
      "_view_name": "HBoxView",
      "box_style": "",
      "children": [
       "IPY_MODEL_93a7f7b7c1ea455fb5b6820459f7ca9e",
       "IPY_MODEL_a9b0342915f949d6a2837cdea668ff17",
       "IPY_MODEL_a08ed7e22548465a9863679674230515"
      ],
      "layout": "IPY_MODEL_b700e8b6a656437a8b4b7cf4a78d03cb"
     }
    },
    "4c05c3b915ca4d76af45cf451d106cd7": {
     "model_module": "@jupyter-widgets/controls",
     "model_module_version": "1.5.0",
     "model_name": "HBoxModel",
     "state": {
      "_dom_classes": [],
      "_model_module": "@jupyter-widgets/controls",
      "_model_module_version": "1.5.0",
      "_model_name": "HBoxModel",
      "_view_count": null,
      "_view_module": "@jupyter-widgets/controls",
      "_view_module_version": "1.5.0",
      "_view_name": "HBoxView",
      "box_style": "",
      "children": [
       "IPY_MODEL_b7bbf94e0b4f40bbb8735cf0a07f6be0",
       "IPY_MODEL_da5d3cb07be64d39a827f559b17d1b61",
       "IPY_MODEL_a1c1c54cf573499cb83b30836a1c12ea"
      ],
      "layout": "IPY_MODEL_35ffc5454bd345dc9cd13fc7fbc3eb55"
     }
    },
    "4f883c4d9b4445b4a7c7858a9c75f4de": {
     "model_module": "@jupyter-widgets/base",
     "model_module_version": "1.2.0",
     "model_name": "LayoutModel",
     "state": {
      "_model_module": "@jupyter-widgets/base",
      "_model_module_version": "1.2.0",
      "_model_name": "LayoutModel",
      "_view_count": null,
      "_view_module": "@jupyter-widgets/base",
      "_view_module_version": "1.2.0",
      "_view_name": "LayoutView",
      "align_content": null,
      "align_items": null,
      "align_self": null,
      "border": null,
      "bottom": null,
      "display": null,
      "flex": null,
      "flex_flow": null,
      "grid_area": null,
      "grid_auto_columns": null,
      "grid_auto_flow": null,
      "grid_auto_rows": null,
      "grid_column": null,
      "grid_gap": null,
      "grid_row": null,
      "grid_template_areas": null,
      "grid_template_columns": null,
      "grid_template_rows": null,
      "height": null,
      "justify_content": null,
      "justify_items": null,
      "left": null,
      "margin": null,
      "max_height": null,
      "max_width": null,
      "min_height": null,
      "min_width": null,
      "object_fit": null,
      "object_position": null,
      "order": null,
      "overflow": null,
      "overflow_x": null,
      "overflow_y": null,
      "padding": null,
      "right": null,
      "top": null,
      "visibility": null,
      "width": null
     }
    },
    "522e468a743b4bafb58d74dd5f2a2574": {
     "model_module": "@jupyter-widgets/controls",
     "model_module_version": "1.5.0",
     "model_name": "DescriptionStyleModel",
     "state": {
      "_model_module": "@jupyter-widgets/controls",
      "_model_module_version": "1.5.0",
      "_model_name": "DescriptionStyleModel",
      "_view_count": null,
      "_view_module": "@jupyter-widgets/base",
      "_view_module_version": "1.2.0",
      "_view_name": "StyleView",
      "description_width": ""
     }
    },
    "52620e7a7410435086dafca3071f6146": {
     "model_module": "@jupyter-widgets/controls",
     "model_module_version": "1.5.0",
     "model_name": "FloatProgressModel",
     "state": {
      "_dom_classes": [],
      "_model_module": "@jupyter-widgets/controls",
      "_model_module_version": "1.5.0",
      "_model_name": "FloatProgressModel",
      "_view_count": null,
      "_view_module": "@jupyter-widgets/controls",
      "_view_module_version": "1.5.0",
      "_view_name": "ProgressView",
      "bar_style": "success",
      "description": "",
      "description_tooltip": null,
      "layout": "IPY_MODEL_716457ac38f148ea97ec838d0230a993",
      "max": 9912422,
      "min": 0,
      "orientation": "horizontal",
      "style": "IPY_MODEL_ef0952457f1a4fc4b7ba9fd6a60113b9",
      "value": 9912422
     }
    },
    "5a1e9048e3a34a4c95df7194194b12fb": {
     "model_module": "@jupyter-widgets/controls",
     "model_module_version": "1.5.0",
     "model_name": "HTMLModel",
     "state": {
      "_dom_classes": [],
      "_model_module": "@jupyter-widgets/controls",
      "_model_module_version": "1.5.0",
      "_model_name": "HTMLModel",
      "_view_count": null,
      "_view_module": "@jupyter-widgets/controls",
      "_view_module_version": "1.5.0",
      "_view_name": "HTMLView",
      "description": "",
      "description_tooltip": null,
      "layout": "IPY_MODEL_425c4fd8d3bf4cb5a74dda4d5a522b34",
      "placeholder": "​",
      "style": "IPY_MODEL_98212b63966a40f78f10333c7c285a4b",
      "value": " 1649664/? [00:00&lt;00:00, 32165683.36it/s]"
     }
    },
    "6b828f77b0714b7eaef46ca005fc119f": {
     "model_module": "@jupyter-widgets/base",
     "model_module_version": "1.2.0",
     "model_name": "LayoutModel",
     "state": {
      "_model_module": "@jupyter-widgets/base",
      "_model_module_version": "1.2.0",
      "_model_name": "LayoutModel",
      "_view_count": null,
      "_view_module": "@jupyter-widgets/base",
      "_view_module_version": "1.2.0",
      "_view_name": "LayoutView",
      "align_content": null,
      "align_items": null,
      "align_self": null,
      "border": null,
      "bottom": null,
      "display": null,
      "flex": null,
      "flex_flow": null,
      "grid_area": null,
      "grid_auto_columns": null,
      "grid_auto_flow": null,
      "grid_auto_rows": null,
      "grid_column": null,
      "grid_gap": null,
      "grid_row": null,
      "grid_template_areas": null,
      "grid_template_columns": null,
      "grid_template_rows": null,
      "height": null,
      "justify_content": null,
      "justify_items": null,
      "left": null,
      "margin": null,
      "max_height": null,
      "max_width": null,
      "min_height": null,
      "min_width": null,
      "object_fit": null,
      "object_position": null,
      "order": null,
      "overflow": null,
      "overflow_x": null,
      "overflow_y": null,
      "padding": null,
      "right": null,
      "top": null,
      "visibility": null,
      "width": null
     }
    },
    "6f166c6e91d04f7fb1364fe76555f159": {
     "model_module": "@jupyter-widgets/base",
     "model_module_version": "1.2.0",
     "model_name": "LayoutModel",
     "state": {
      "_model_module": "@jupyter-widgets/base",
      "_model_module_version": "1.2.0",
      "_model_name": "LayoutModel",
      "_view_count": null,
      "_view_module": "@jupyter-widgets/base",
      "_view_module_version": "1.2.0",
      "_view_name": "LayoutView",
      "align_content": null,
      "align_items": null,
      "align_self": null,
      "border": null,
      "bottom": null,
      "display": null,
      "flex": null,
      "flex_flow": null,
      "grid_area": null,
      "grid_auto_columns": null,
      "grid_auto_flow": null,
      "grid_auto_rows": null,
      "grid_column": null,
      "grid_gap": null,
      "grid_row": null,
      "grid_template_areas": null,
      "grid_template_columns": null,
      "grid_template_rows": null,
      "height": null,
      "justify_content": null,
      "justify_items": null,
      "left": null,
      "margin": null,
      "max_height": null,
      "max_width": null,
      "min_height": null,
      "min_width": null,
      "object_fit": null,
      "object_position": null,
      "order": null,
      "overflow": null,
      "overflow_x": null,
      "overflow_y": null,
      "padding": null,
      "right": null,
      "top": null,
      "visibility": null,
      "width": null
     }
    },
    "716457ac38f148ea97ec838d0230a993": {
     "model_module": "@jupyter-widgets/base",
     "model_module_version": "1.2.0",
     "model_name": "LayoutModel",
     "state": {
      "_model_module": "@jupyter-widgets/base",
      "_model_module_version": "1.2.0",
      "_model_name": "LayoutModel",
      "_view_count": null,
      "_view_module": "@jupyter-widgets/base",
      "_view_module_version": "1.2.0",
      "_view_name": "LayoutView",
      "align_content": null,
      "align_items": null,
      "align_self": null,
      "border": null,
      "bottom": null,
      "display": null,
      "flex": null,
      "flex_flow": null,
      "grid_area": null,
      "grid_auto_columns": null,
      "grid_auto_flow": null,
      "grid_auto_rows": null,
      "grid_column": null,
      "grid_gap": null,
      "grid_row": null,
      "grid_template_areas": null,
      "grid_template_columns": null,
      "grid_template_rows": null,
      "height": null,
      "justify_content": null,
      "justify_items": null,
      "left": null,
      "margin": null,
      "max_height": null,
      "max_width": null,
      "min_height": null,
      "min_width": null,
      "object_fit": null,
      "object_position": null,
      "order": null,
      "overflow": null,
      "overflow_x": null,
      "overflow_y": null,
      "padding": null,
      "right": null,
      "top": null,
      "visibility": null,
      "width": null
     }
    },
    "72a327bd4f7643478a83cea50df36289": {
     "model_module": "@jupyter-widgets/base",
     "model_module_version": "1.2.0",
     "model_name": "LayoutModel",
     "state": {
      "_model_module": "@jupyter-widgets/base",
      "_model_module_version": "1.2.0",
      "_model_name": "LayoutModel",
      "_view_count": null,
      "_view_module": "@jupyter-widgets/base",
      "_view_module_version": "1.2.0",
      "_view_name": "LayoutView",
      "align_content": null,
      "align_items": null,
      "align_self": null,
      "border": null,
      "bottom": null,
      "display": null,
      "flex": null,
      "flex_flow": null,
      "grid_area": null,
      "grid_auto_columns": null,
      "grid_auto_flow": null,
      "grid_auto_rows": null,
      "grid_column": null,
      "grid_gap": null,
      "grid_row": null,
      "grid_template_areas": null,
      "grid_template_columns": null,
      "grid_template_rows": null,
      "height": null,
      "justify_content": null,
      "justify_items": null,
      "left": null,
      "margin": null,
      "max_height": null,
      "max_width": null,
      "min_height": null,
      "min_width": null,
      "object_fit": null,
      "object_position": null,
      "order": null,
      "overflow": null,
      "overflow_x": null,
      "overflow_y": null,
      "padding": null,
      "right": null,
      "top": null,
      "visibility": null,
      "width": null
     }
    },
    "72f7d27b8739411db5709882a0585021": {
     "model_module": "@jupyter-widgets/controls",
     "model_module_version": "1.5.0",
     "model_name": "ProgressStyleModel",
     "state": {
      "_model_module": "@jupyter-widgets/controls",
      "_model_module_version": "1.5.0",
      "_model_name": "ProgressStyleModel",
      "_view_count": null,
      "_view_module": "@jupyter-widgets/base",
      "_view_module_version": "1.2.0",
      "_view_name": "StyleView",
      "bar_color": null,
      "description_width": ""
     }
    },
    "79150675d09042d9872a06de9708f8f5": {
     "model_module": "@jupyter-widgets/base",
     "model_module_version": "1.2.0",
     "model_name": "LayoutModel",
     "state": {
      "_model_module": "@jupyter-widgets/base",
      "_model_module_version": "1.2.0",
      "_model_name": "LayoutModel",
      "_view_count": null,
      "_view_module": "@jupyter-widgets/base",
      "_view_module_version": "1.2.0",
      "_view_name": "LayoutView",
      "align_content": null,
      "align_items": null,
      "align_self": null,
      "border": null,
      "bottom": null,
      "display": null,
      "flex": null,
      "flex_flow": null,
      "grid_area": null,
      "grid_auto_columns": null,
      "grid_auto_flow": null,
      "grid_auto_rows": null,
      "grid_column": null,
      "grid_gap": null,
      "grid_row": null,
      "grid_template_areas": null,
      "grid_template_columns": null,
      "grid_template_rows": null,
      "height": null,
      "justify_content": null,
      "justify_items": null,
      "left": null,
      "margin": null,
      "max_height": null,
      "max_width": null,
      "min_height": null,
      "min_width": null,
      "object_fit": null,
      "object_position": null,
      "order": null,
      "overflow": null,
      "overflow_x": null,
      "overflow_y": null,
      "padding": null,
      "right": null,
      "top": null,
      "visibility": null,
      "width": null
     }
    },
    "8236174e6e2c4a8b9ce745b953e7b5b2": {
     "model_module": "@jupyter-widgets/controls",
     "model_module_version": "1.5.0",
     "model_name": "HTMLModel",
     "state": {
      "_dom_classes": [],
      "_model_module": "@jupyter-widgets/controls",
      "_model_module_version": "1.5.0",
      "_model_name": "HTMLModel",
      "_view_count": null,
      "_view_module": "@jupyter-widgets/controls",
      "_view_module_version": "1.5.0",
      "_view_name": "HTMLView",
      "description": "",
      "description_tooltip": null,
      "layout": "IPY_MODEL_79150675d09042d9872a06de9708f8f5",
      "placeholder": "​",
      "style": "IPY_MODEL_310d38471ceb4b9dbf9c70087a24fe00",
      "value": ""
     }
    },
    "8348af581d274b2ca30bfc58250feff0": {
     "model_module": "@jupyter-widgets/controls",
     "model_module_version": "1.5.0",
     "model_name": "DescriptionStyleModel",
     "state": {
      "_model_module": "@jupyter-widgets/controls",
      "_model_module_version": "1.5.0",
      "_model_name": "DescriptionStyleModel",
      "_view_count": null,
      "_view_module": "@jupyter-widgets/base",
      "_view_module_version": "1.2.0",
      "_view_name": "StyleView",
      "description_width": ""
     }
    },
    "86531aec821e4622bc53d3b34c68c9a6": {
     "model_module": "@jupyter-widgets/base",
     "model_module_version": "1.2.0",
     "model_name": "LayoutModel",
     "state": {
      "_model_module": "@jupyter-widgets/base",
      "_model_module_version": "1.2.0",
      "_model_name": "LayoutModel",
      "_view_count": null,
      "_view_module": "@jupyter-widgets/base",
      "_view_module_version": "1.2.0",
      "_view_name": "LayoutView",
      "align_content": null,
      "align_items": null,
      "align_self": null,
      "border": null,
      "bottom": null,
      "display": null,
      "flex": null,
      "flex_flow": null,
      "grid_area": null,
      "grid_auto_columns": null,
      "grid_auto_flow": null,
      "grid_auto_rows": null,
      "grid_column": null,
      "grid_gap": null,
      "grid_row": null,
      "grid_template_areas": null,
      "grid_template_columns": null,
      "grid_template_rows": null,
      "height": null,
      "justify_content": null,
      "justify_items": null,
      "left": null,
      "margin": null,
      "max_height": null,
      "max_width": null,
      "min_height": null,
      "min_width": null,
      "object_fit": null,
      "object_position": null,
      "order": null,
      "overflow": null,
      "overflow_x": null,
      "overflow_y": null,
      "padding": null,
      "right": null,
      "top": null,
      "visibility": null,
      "width": null
     }
    },
    "8e3d993351d74bb69cfc53ac7426f64c": {
     "model_module": "@jupyter-widgets/controls",
     "model_module_version": "1.5.0",
     "model_name": "HBoxModel",
     "state": {
      "_dom_classes": [],
      "_model_module": "@jupyter-widgets/controls",
      "_model_module_version": "1.5.0",
      "_model_name": "HBoxModel",
      "_view_count": null,
      "_view_module": "@jupyter-widgets/controls",
      "_view_module_version": "1.5.0",
      "_view_name": "HBoxView",
      "box_style": "",
      "children": [
       "IPY_MODEL_a679b62ef28e4b7f8e0d756707a70902",
       "IPY_MODEL_0567434fda564ca8af088c49508b7630",
       "IPY_MODEL_a38dbb5dc85a42cab92480a8d76f6931"
      ],
      "layout": "IPY_MODEL_40791c6892b54881beb5272064b8281e"
     }
    },
    "925fa02c0acb4ec68eb254e166493aca": {
     "model_module": "@jupyter-widgets/controls",
     "model_module_version": "1.5.0",
     "model_name": "ProgressStyleModel",
     "state": {
      "_model_module": "@jupyter-widgets/controls",
      "_model_module_version": "1.5.0",
      "_model_name": "ProgressStyleModel",
      "_view_count": null,
      "_view_module": "@jupyter-widgets/base",
      "_view_module_version": "1.2.0",
      "_view_name": "StyleView",
      "bar_color": null,
      "description_width": ""
     }
    },
    "93a7f7b7c1ea455fb5b6820459f7ca9e": {
     "model_module": "@jupyter-widgets/controls",
     "model_module_version": "1.5.0",
     "model_name": "HTMLModel",
     "state": {
      "_dom_classes": [],
      "_model_module": "@jupyter-widgets/controls",
      "_model_module_version": "1.5.0",
      "_model_name": "HTMLModel",
      "_view_count": null,
      "_view_module": "@jupyter-widgets/controls",
      "_view_module_version": "1.5.0",
      "_view_name": "HTMLView",
      "description": "",
      "description_tooltip": null,
      "layout": "IPY_MODEL_72a327bd4f7643478a83cea50df36289",
      "placeholder": "​",
      "style": "IPY_MODEL_522e468a743b4bafb58d74dd5f2a2574",
      "value": "100%"
     }
    },
    "98212b63966a40f78f10333c7c285a4b": {
     "model_module": "@jupyter-widgets/controls",
     "model_module_version": "1.5.0",
     "model_name": "DescriptionStyleModel",
     "state": {
      "_model_module": "@jupyter-widgets/controls",
      "_model_module_version": "1.5.0",
      "_model_name": "DescriptionStyleModel",
      "_view_count": null,
      "_view_module": "@jupyter-widgets/base",
      "_view_module_version": "1.2.0",
      "_view_name": "StyleView",
      "description_width": ""
     }
    },
    "a08ed7e22548465a9863679674230515": {
     "model_module": "@jupyter-widgets/controls",
     "model_module_version": "1.5.0",
     "model_name": "HTMLModel",
     "state": {
      "_dom_classes": [],
      "_model_module": "@jupyter-widgets/controls",
      "_model_module_version": "1.5.0",
      "_model_name": "HTMLModel",
      "_view_count": null,
      "_view_module": "@jupyter-widgets/controls",
      "_view_module_version": "1.5.0",
      "_view_name": "HTMLView",
      "description": "",
      "description_tooltip": null,
      "layout": "IPY_MODEL_a3dba47a3e8841fe804dae8f9a3d2087",
      "placeholder": "​",
      "style": "IPY_MODEL_2aa0504bfde543ac8cffd51781ed44a8",
      "value": " 44.7M/44.7M [00:00&lt;00:00, 88.6MB/s]"
     }
    },
    "a1c1c54cf573499cb83b30836a1c12ea": {
     "model_module": "@jupyter-widgets/controls",
     "model_module_version": "1.5.0",
     "model_name": "HTMLModel",
     "state": {
      "_dom_classes": [],
      "_model_module": "@jupyter-widgets/controls",
      "_model_module_version": "1.5.0",
      "_model_name": "HTMLModel",
      "_view_count": null,
      "_view_module": "@jupyter-widgets/controls",
      "_view_module_version": "1.5.0",
      "_view_name": "HTMLView",
      "description": "",
      "description_tooltip": null,
      "layout": "IPY_MODEL_0a26c5f2791f4b09af1d6b71332a5e70",
      "placeholder": "​",
      "style": "IPY_MODEL_332ce4cf500143e0888d50e9d084859a",
      "value": " 5120/? [00:00&lt;00:00, 173785.41it/s]"
     }
    },
    "a38dbb5dc85a42cab92480a8d76f6931": {
     "model_module": "@jupyter-widgets/controls",
     "model_module_version": "1.5.0",
     "model_name": "HTMLModel",
     "state": {
      "_dom_classes": [],
      "_model_module": "@jupyter-widgets/controls",
      "_model_module_version": "1.5.0",
      "_model_name": "HTMLModel",
      "_view_count": null,
      "_view_module": "@jupyter-widgets/controls",
      "_view_module_version": "1.5.0",
      "_view_name": "HTMLView",
      "description": "",
      "description_tooltip": null,
      "layout": "IPY_MODEL_36b72c2163554ce7a7f038e5352b87b5",
      "placeholder": "​",
      "style": "IPY_MODEL_10cbdb6afe764a91a7cea8db3a32d9a5",
      "value": " 29696/? [00:00&lt;00:00, 966201.89it/s]"
     }
    },
    "a3dba47a3e8841fe804dae8f9a3d2087": {
     "model_module": "@jupyter-widgets/base",
     "model_module_version": "1.2.0",
     "model_name": "LayoutModel",
     "state": {
      "_model_module": "@jupyter-widgets/base",
      "_model_module_version": "1.2.0",
      "_model_name": "LayoutModel",
      "_view_count": null,
      "_view_module": "@jupyter-widgets/base",
      "_view_module_version": "1.2.0",
      "_view_name": "LayoutView",
      "align_content": null,
      "align_items": null,
      "align_self": null,
      "border": null,
      "bottom": null,
      "display": null,
      "flex": null,
      "flex_flow": null,
      "grid_area": null,
      "grid_auto_columns": null,
      "grid_auto_flow": null,
      "grid_auto_rows": null,
      "grid_column": null,
      "grid_gap": null,
      "grid_row": null,
      "grid_template_areas": null,
      "grid_template_columns": null,
      "grid_template_rows": null,
      "height": null,
      "justify_content": null,
      "justify_items": null,
      "left": null,
      "margin": null,
      "max_height": null,
      "max_width": null,
      "min_height": null,
      "min_width": null,
      "object_fit": null,
      "object_position": null,
      "order": null,
      "overflow": null,
      "overflow_x": null,
      "overflow_y": null,
      "padding": null,
      "right": null,
      "top": null,
      "visibility": null,
      "width": null
     }
    },
    "a679b62ef28e4b7f8e0d756707a70902": {
     "model_module": "@jupyter-widgets/controls",
     "model_module_version": "1.5.0",
     "model_name": "HTMLModel",
     "state": {
      "_dom_classes": [],
      "_model_module": "@jupyter-widgets/controls",
      "_model_module_version": "1.5.0",
      "_model_name": "HTMLModel",
      "_view_count": null,
      "_view_module": "@jupyter-widgets/controls",
      "_view_module_version": "1.5.0",
      "_view_name": "HTMLView",
      "description": "",
      "description_tooltip": null,
      "layout": "IPY_MODEL_6b828f77b0714b7eaef46ca005fc119f",
      "placeholder": "​",
      "style": "IPY_MODEL_3b4d836f0726449bb5db6dbb848f9958",
      "value": ""
     }
    },
    "a98d8b203fc94025a31b0e724fcec1de": {
     "model_module": "@jupyter-widgets/controls",
     "model_module_version": "1.5.0",
     "model_name": "HBoxModel",
     "state": {
      "_dom_classes": [],
      "_model_module": "@jupyter-widgets/controls",
      "_model_module_version": "1.5.0",
      "_model_name": "HBoxModel",
      "_view_count": null,
      "_view_module": "@jupyter-widgets/controls",
      "_view_module_version": "1.5.0",
      "_view_name": "HBoxView",
      "box_style": "",
      "children": [
       "IPY_MODEL_8236174e6e2c4a8b9ce745b953e7b5b2",
       "IPY_MODEL_0968e77c6f6f458ba35e1256e2d47d39",
       "IPY_MODEL_5a1e9048e3a34a4c95df7194194b12fb"
      ],
      "layout": "IPY_MODEL_cda74b79d6ca4f45b3e61a89bad4404d"
     }
    },
    "a9b0342915f949d6a2837cdea668ff17": {
     "model_module": "@jupyter-widgets/controls",
     "model_module_version": "1.5.0",
     "model_name": "FloatProgressModel",
     "state": {
      "_dom_classes": [],
      "_model_module": "@jupyter-widgets/controls",
      "_model_module_version": "1.5.0",
      "_model_name": "FloatProgressModel",
      "_view_count": null,
      "_view_module": "@jupyter-widgets/controls",
      "_view_module_version": "1.5.0",
      "_view_name": "ProgressView",
      "bar_style": "success",
      "description": "",
      "description_tooltip": null,
      "layout": "IPY_MODEL_e10f0db347104d71a5cceba3a52ee063",
      "max": 46830571,
      "min": 0,
      "orientation": "horizontal",
      "style": "IPY_MODEL_925fa02c0acb4ec68eb254e166493aca",
      "value": 46830571
     }
    },
    "aae113ee45df45a5b48fb4128615f923": {
     "model_module": "@jupyter-widgets/base",
     "model_module_version": "1.2.0",
     "model_name": "LayoutModel",
     "state": {
      "_model_module": "@jupyter-widgets/base",
      "_model_module_version": "1.2.0",
      "_model_name": "LayoutModel",
      "_view_count": null,
      "_view_module": "@jupyter-widgets/base",
      "_view_module_version": "1.2.0",
      "_view_name": "LayoutView",
      "align_content": null,
      "align_items": null,
      "align_self": null,
      "border": null,
      "bottom": null,
      "display": null,
      "flex": null,
      "flex_flow": null,
      "grid_area": null,
      "grid_auto_columns": null,
      "grid_auto_flow": null,
      "grid_auto_rows": null,
      "grid_column": null,
      "grid_gap": null,
      "grid_row": null,
      "grid_template_areas": null,
      "grid_template_columns": null,
      "grid_template_rows": null,
      "height": null,
      "justify_content": null,
      "justify_items": null,
      "left": null,
      "margin": null,
      "max_height": null,
      "max_width": null,
      "min_height": null,
      "min_width": null,
      "object_fit": null,
      "object_position": null,
      "order": null,
      "overflow": null,
      "overflow_x": null,
      "overflow_y": null,
      "padding": null,
      "right": null,
      "top": null,
      "visibility": null,
      "width": null
     }
    },
    "af2c5bcc363c4111a7dc5bc245b85429": {
     "model_module": "@jupyter-widgets/base",
     "model_module_version": "1.2.0",
     "model_name": "LayoutModel",
     "state": {
      "_model_module": "@jupyter-widgets/base",
      "_model_module_version": "1.2.0",
      "_model_name": "LayoutModel",
      "_view_count": null,
      "_view_module": "@jupyter-widgets/base",
      "_view_module_version": "1.2.0",
      "_view_name": "LayoutView",
      "align_content": null,
      "align_items": null,
      "align_self": null,
      "border": null,
      "bottom": null,
      "display": null,
      "flex": null,
      "flex_flow": null,
      "grid_area": null,
      "grid_auto_columns": null,
      "grid_auto_flow": null,
      "grid_auto_rows": null,
      "grid_column": null,
      "grid_gap": null,
      "grid_row": null,
      "grid_template_areas": null,
      "grid_template_columns": null,
      "grid_template_rows": null,
      "height": null,
      "justify_content": null,
      "justify_items": null,
      "left": null,
      "margin": null,
      "max_height": null,
      "max_width": null,
      "min_height": null,
      "min_width": null,
      "object_fit": null,
      "object_position": null,
      "order": null,
      "overflow": null,
      "overflow_x": null,
      "overflow_y": null,
      "padding": null,
      "right": null,
      "top": null,
      "visibility": null,
      "width": null
     }
    },
    "afe243e204594b3ab2558395e313f637": {
     "model_module": "@jupyter-widgets/controls",
     "model_module_version": "1.5.0",
     "model_name": "DescriptionStyleModel",
     "state": {
      "_model_module": "@jupyter-widgets/controls",
      "_model_module_version": "1.5.0",
      "_model_name": "DescriptionStyleModel",
      "_view_count": null,
      "_view_module": "@jupyter-widgets/base",
      "_view_module_version": "1.2.0",
      "_view_name": "StyleView",
      "description_width": ""
     }
    },
    "b48abe69b2f842a9bb7f33a6c59e4727": {
     "model_module": "@jupyter-widgets/controls",
     "model_module_version": "1.5.0",
     "model_name": "HTMLModel",
     "state": {
      "_dom_classes": [],
      "_model_module": "@jupyter-widgets/controls",
      "_model_module_version": "1.5.0",
      "_model_name": "HTMLModel",
      "_view_count": null,
      "_view_module": "@jupyter-widgets/controls",
      "_view_module_version": "1.5.0",
      "_view_name": "HTMLView",
      "description": "",
      "description_tooltip": null,
      "layout": "IPY_MODEL_86531aec821e4622bc53d3b34c68c9a6",
      "placeholder": "​",
      "style": "IPY_MODEL_8348af581d274b2ca30bfc58250feff0",
      "value": ""
     }
    },
    "b700e8b6a656437a8b4b7cf4a78d03cb": {
     "model_module": "@jupyter-widgets/base",
     "model_module_version": "1.2.0",
     "model_name": "LayoutModel",
     "state": {
      "_model_module": "@jupyter-widgets/base",
      "_model_module_version": "1.2.0",
      "_model_name": "LayoutModel",
      "_view_count": null,
      "_view_module": "@jupyter-widgets/base",
      "_view_module_version": "1.2.0",
      "_view_name": "LayoutView",
      "align_content": null,
      "align_items": null,
      "align_self": null,
      "border": null,
      "bottom": null,
      "display": null,
      "flex": null,
      "flex_flow": null,
      "grid_area": null,
      "grid_auto_columns": null,
      "grid_auto_flow": null,
      "grid_auto_rows": null,
      "grid_column": null,
      "grid_gap": null,
      "grid_row": null,
      "grid_template_areas": null,
      "grid_template_columns": null,
      "grid_template_rows": null,
      "height": null,
      "justify_content": null,
      "justify_items": null,
      "left": null,
      "margin": null,
      "max_height": null,
      "max_width": null,
      "min_height": null,
      "min_width": null,
      "object_fit": null,
      "object_position": null,
      "order": null,
      "overflow": null,
      "overflow_x": null,
      "overflow_y": null,
      "padding": null,
      "right": null,
      "top": null,
      "visibility": null,
      "width": null
     }
    },
    "b7bbf94e0b4f40bbb8735cf0a07f6be0": {
     "model_module": "@jupyter-widgets/controls",
     "model_module_version": "1.5.0",
     "model_name": "HTMLModel",
     "state": {
      "_dom_classes": [],
      "_model_module": "@jupyter-widgets/controls",
      "_model_module_version": "1.5.0",
      "_model_name": "HTMLModel",
      "_view_count": null,
      "_view_module": "@jupyter-widgets/controls",
      "_view_module_version": "1.5.0",
      "_view_name": "HTMLView",
      "description": "",
      "description_tooltip": null,
      "layout": "IPY_MODEL_6f166c6e91d04f7fb1364fe76555f159",
      "placeholder": "​",
      "style": "IPY_MODEL_afe243e204594b3ab2558395e313f637",
      "value": ""
     }
    },
    "cd12f2b6e6ed413db660d388880d0e56": {
     "model_module": "@jupyter-widgets/controls",
     "model_module_version": "1.5.0",
     "model_name": "ProgressStyleModel",
     "state": {
      "_model_module": "@jupyter-widgets/controls",
      "_model_module_version": "1.5.0",
      "_model_name": "ProgressStyleModel",
      "_view_count": null,
      "_view_module": "@jupyter-widgets/base",
      "_view_module_version": "1.2.0",
      "_view_name": "StyleView",
      "bar_color": null,
      "description_width": ""
     }
    },
    "cda74b79d6ca4f45b3e61a89bad4404d": {
     "model_module": "@jupyter-widgets/base",
     "model_module_version": "1.2.0",
     "model_name": "LayoutModel",
     "state": {
      "_model_module": "@jupyter-widgets/base",
      "_model_module_version": "1.2.0",
      "_model_name": "LayoutModel",
      "_view_count": null,
      "_view_module": "@jupyter-widgets/base",
      "_view_module_version": "1.2.0",
      "_view_name": "LayoutView",
      "align_content": null,
      "align_items": null,
      "align_self": null,
      "border": null,
      "bottom": null,
      "display": null,
      "flex": null,
      "flex_flow": null,
      "grid_area": null,
      "grid_auto_columns": null,
      "grid_auto_flow": null,
      "grid_auto_rows": null,
      "grid_column": null,
      "grid_gap": null,
      "grid_row": null,
      "grid_template_areas": null,
      "grid_template_columns": null,
      "grid_template_rows": null,
      "height": null,
      "justify_content": null,
      "justify_items": null,
      "left": null,
      "margin": null,
      "max_height": null,
      "max_width": null,
      "min_height": null,
      "min_width": null,
      "object_fit": null,
      "object_position": null,
      "order": null,
      "overflow": null,
      "overflow_x": null,
      "overflow_y": null,
      "padding": null,
      "right": null,
      "top": null,
      "visibility": null,
      "width": null
     }
    },
    "da5d3cb07be64d39a827f559b17d1b61": {
     "model_module": "@jupyter-widgets/controls",
     "model_module_version": "1.5.0",
     "model_name": "FloatProgressModel",
     "state": {
      "_dom_classes": [],
      "_model_module": "@jupyter-widgets/controls",
      "_model_module_version": "1.5.0",
      "_model_name": "FloatProgressModel",
      "_view_count": null,
      "_view_module": "@jupyter-widgets/controls",
      "_view_module_version": "1.5.0",
      "_view_name": "ProgressView",
      "bar_style": "success",
      "description": "",
      "description_tooltip": null,
      "layout": "IPY_MODEL_af2c5bcc363c4111a7dc5bc245b85429",
      "max": 4542,
      "min": 0,
      "orientation": "horizontal",
      "style": "IPY_MODEL_cd12f2b6e6ed413db660d388880d0e56",
      "value": 4542
     }
    },
    "de8c9cac0fca4c6c9f35a664f509d4d9": {
     "model_module": "@jupyter-widgets/controls",
     "model_module_version": "1.5.0",
     "model_name": "DescriptionStyleModel",
     "state": {
      "_model_module": "@jupyter-widgets/controls",
      "_model_module_version": "1.5.0",
      "_model_name": "DescriptionStyleModel",
      "_view_count": null,
      "_view_module": "@jupyter-widgets/base",
      "_view_module_version": "1.2.0",
      "_view_name": "StyleView",
      "description_width": ""
     }
    },
    "e10f0db347104d71a5cceba3a52ee063": {
     "model_module": "@jupyter-widgets/base",
     "model_module_version": "1.2.0",
     "model_name": "LayoutModel",
     "state": {
      "_model_module": "@jupyter-widgets/base",
      "_model_module_version": "1.2.0",
      "_model_name": "LayoutModel",
      "_view_count": null,
      "_view_module": "@jupyter-widgets/base",
      "_view_module_version": "1.2.0",
      "_view_name": "LayoutView",
      "align_content": null,
      "align_items": null,
      "align_self": null,
      "border": null,
      "bottom": null,
      "display": null,
      "flex": null,
      "flex_flow": null,
      "grid_area": null,
      "grid_auto_columns": null,
      "grid_auto_flow": null,
      "grid_auto_rows": null,
      "grid_column": null,
      "grid_gap": null,
      "grid_row": null,
      "grid_template_areas": null,
      "grid_template_columns": null,
      "grid_template_rows": null,
      "height": null,
      "justify_content": null,
      "justify_items": null,
      "left": null,
      "margin": null,
      "max_height": null,
      "max_width": null,
      "min_height": null,
      "min_width": null,
      "object_fit": null,
      "object_position": null,
      "order": null,
      "overflow": null,
      "overflow_x": null,
      "overflow_y": null,
      "padding": null,
      "right": null,
      "top": null,
      "visibility": null,
      "width": null
     }
    },
    "ef0952457f1a4fc4b7ba9fd6a60113b9": {
     "model_module": "@jupyter-widgets/controls",
     "model_module_version": "1.5.0",
     "model_name": "ProgressStyleModel",
     "state": {
      "_model_module": "@jupyter-widgets/controls",
      "_model_module_version": "1.5.0",
      "_model_name": "ProgressStyleModel",
      "_view_count": null,
      "_view_module": "@jupyter-widgets/base",
      "_view_module_version": "1.2.0",
      "_view_name": "StyleView",
      "bar_color": null,
      "description_width": ""
     }
    },
    "f94b530ad0644cf4819bd3dc514d2f3a": {
     "model_module": "@jupyter-widgets/controls",
     "model_module_version": "1.5.0",
     "model_name": "HTMLModel",
     "state": {
      "_dom_classes": [],
      "_model_module": "@jupyter-widgets/controls",
      "_model_module_version": "1.5.0",
      "_model_name": "HTMLModel",
      "_view_count": null,
      "_view_module": "@jupyter-widgets/controls",
      "_view_module_version": "1.5.0",
      "_view_name": "HTMLView",
      "description": "",
      "description_tooltip": null,
      "layout": "IPY_MODEL_4f883c4d9b4445b4a7c7858a9c75f4de",
      "placeholder": "​",
      "style": "IPY_MODEL_de8c9cac0fca4c6c9f35a664f509d4d9",
      "value": " 9913344/? [00:00&lt;00:00, 83106928.55it/s]"
     }
    }
   }
  }
 },
 "nbformat": 4,
 "nbformat_minor": 1
}
