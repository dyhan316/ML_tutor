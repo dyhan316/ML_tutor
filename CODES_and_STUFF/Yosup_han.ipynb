{
 "cells": [
  {
   "cell_type": "markdown",
   "id": "16cf5bb6",
   "metadata": {},
   "source": [
    "# LECT 1 : MNIST Classifier"
   ]
  },
  {
   "cell_type": "code",
   "execution_count": null,
   "id": "33bb4b27",
   "metadata": {},
   "outputs": [],
   "source": []
  },
  {
   "cell_type": "code",
   "execution_count": null,
   "id": "4f79c238",
   "metadata": {},
   "outputs": [],
   "source": []
  },
  {
   "cell_type": "code",
   "execution_count": null,
   "id": "789173de",
   "metadata": {},
   "outputs": [],
   "source": []
  },
  {
   "cell_type": "code",
   "execution_count": null,
   "id": "a4b8262e",
   "metadata": {},
   "outputs": [],
   "source": []
  },
  {
   "cell_type": "markdown",
   "id": "1908cd11",
   "metadata": {},
   "source": [
    "# LECT 2 : using COLAB"
   ]
  },
  {
   "cell_type": "code",
   "execution_count": null,
   "id": "727341dd",
   "metadata": {},
   "outputs": [],
   "source": []
  }
 ],
 "metadata": {
  "kernelspec": {
   "display_name": "Python 3 (ipykernel)",
   "language": "python",
   "name": "python3"
  },
  "language_info": {
   "codemirror_mode": {
    "name": "ipython",
    "version": 3
   },
   "file_extension": ".py",
   "mimetype": "text/x-python",
   "name": "python",
   "nbconvert_exporter": "python",
   "pygments_lexer": "ipython3",
   "version": "3.8.13"
  }
 },
 "nbformat": 4,
 "nbformat_minor": 5
}
