{
 "cells": [
  {
   "cell_type": "markdown",
   "id": "4f59615e-eabb-4ec5-a191-837660c5b558",
   "metadata": {
    "tags": []
   },
   "source": [
    "## study multilabel stratification function \n",
    "\n",
    "study https://stackoverflow.com/questions/53378970/how-to-perform-multilabel-stratified-sampling"
   ]
  },
  {
   "cell_type": "code",
   "execution_count": 1,
   "id": "ff275249-81dd-4f8a-bf8a-ff013ad7a134",
   "metadata": {},
   "outputs": [
    {
     "name": "stdout",
     "output_type": "stream",
     "text": [
      "(100, 10) (100, 3)\n",
      "[ 3.  3.  6.  7.  8.  2. 11. 11.  1.  3.] [1 1 0]\n",
      "[7. 6. 4. 4. 6. 8. 3. 4. 6. 4.] [0 0 0]\n",
      "[ 5.  5. 13.  7.  6.  3.  6. 11.  4.  2.] [1 1 0]\n",
      "[1. 1. 5. 5. 7. 3. 4. 6. 4. 4.] [1 1 1]\n",
      "[ 4.  2.  3. 13.  7.  2.  4. 12.  1.  7.] [0 1 0]\n",
      "[ 4.  3.  3.  2.  5.  2.  3.  7.  2. 10.] [0 0 0]\n",
      "[ 3.  3.  3. 11.  6.  3.  4. 14.  1.  3.] [0 1 0]\n",
      "[ 2.  1.  7.  8.  4.  5. 10.  4.  6.  6.] [1 1 1]\n",
      "[ 5.  1.  9.  5.  3.  4. 11.  8.  1.  8.] [1 1 1]\n",
      "[ 2. 11.  7.  6.  2.  2.  9. 11.  9.  3.] [1 1 1]\n"
     ]
    }
   ],
   "source": [
    "# example of a multi-label classification task\n",
    "from sklearn.datasets import make_multilabel_classification\n",
    "import numpy as np \n",
    "# define dataset\n",
    "X, y = make_multilabel_classification(n_samples=100, n_features=10, n_classes=3, n_labels=2, random_state=1)\n",
    "# summarize dataset shape\n",
    "print(X.shape, y.shape)\n",
    "# summarize first few examples\n",
    "for i in range(10):\n",
    "\tprint(X[i], y[i])"
   ]
  },
  {
   "cell_type": "code",
   "execution_count": 2,
   "id": "8d24194c-ee55-4bb3-9dbe-0b7a764e3c2a",
   "metadata": {},
   "outputs": [],
   "source": [
    "from skmultilearn.model_selection import iterative_train_test_split\n",
    "x_train, y_train, x_test, y_test = iterative_train_test_split(X, y, test_size = 0.2)"
   ]
  },
  {
   "cell_type": "code",
   "execution_count": 3,
   "id": "7851dc18-6d32-46cf-b8e1-4bb81a258da3",
   "metadata": {},
   "outputs": [
    {
     "data": {
      "text/plain": [
       "[2, 3, 7]"
      ]
     },
     "execution_count": 3,
     "metadata": {},
     "output_type": "execute_result"
    }
   ],
   "source": [
    "sorted({2,7,3})"
   ]
  },
  {
   "cell_type": "code",
   "execution_count": 4,
   "id": "349ebbe6-a829-44a0-a85d-01125098c7bf",
   "metadata": {},
   "outputs": [],
   "source": [
    "#def calc_prop(arr):\n",
    "#    return arr.sum(axis=0)/arr.shape[0]\n",
    "#\n",
    "#def calc_prop_change(arr, base_arr):\n",
    "#    thing = (calc_prop(arr)-calc_prop(base_arr))/calc_prop(base_arr)\n",
    "#    #return np.array([round(thing_i,5) for thing_i in thing])\n",
    "#    return thing\n",
    "\n",
    "\n",
    "def calc_prop(arr, set_thing = None ):\n",
    "    #set_thing : optional input \n",
    "    aggregate = []\n",
    "\n",
    "    if set_thing == None  : \n",
    "        if type(arr) == np.ndarray : \n",
    "            set_thing = set(arr.flatten())\n",
    "        else : \n",
    "            set_thing = set(arr)\n",
    "    else : \n",
    "        set_thing = set_thing\n",
    "    for i in set_thing:\n",
    "        aggregate.append(np.count_nonzero(arr == i, axis=0))\n",
    "    return np.array(aggregate)/arr.shape[0]\n",
    "\n",
    "\n",
    "def calc_prop_change(arr, base_arr, set_thing = None):\n",
    "    thing = (calc_prop(arr, set_thing)-calc_prop(base_arr,set_thing))/calc_prop(base_arr, set_thing)\n",
    "    return thing"
   ]
  },
  {
   "cell_type": "code",
   "execution_count": 5,
   "id": "7955fc9c-750b-41b0-8e3b-6bc7a9ade94d",
   "metadata": {},
   "outputs": [
    {
     "data": {
      "text/plain": [
       "array([[35., 36., 77.],\n",
       "       [65., 64., 23.]])"
      ]
     },
     "execution_count": 5,
     "metadata": {},
     "output_type": "execute_result"
    }
   ],
   "source": [
    "##base proportions\n",
    "100*calc_prop(y)"
   ]
  },
  {
   "cell_type": "code",
   "execution_count": 6,
   "id": "fcc1f30d-acc3-4298-9fac-158518fafa96",
   "metadata": {},
   "outputs": [
    {
     "data": {
      "text/plain": [
       "(array([[  0.        ,   0.69444444,   5.51948052],\n",
       "        [  0.        ,  -0.390625  , -18.47826087]]),\n",
       " array([[  0.        ,  -2.77777778, -22.07792208],\n",
       "        [  0.        ,   1.5625    ,  73.91304348]]))"
      ]
     },
     "execution_count": 6,
     "metadata": {},
     "output_type": "execute_result"
    }
   ],
   "source": [
    "##y-wise difference\n",
    "100*calc_prop_change(y_train,y), 100*calc_prop_change(y_test,y) #percentage wise"
   ]
  },
  {
   "cell_type": "code",
   "execution_count": 7,
   "id": "2657b9c2-c21f-46d5-9cf5-6a44c7efa7e2",
   "metadata": {},
   "outputs": [],
   "source": [
    "##can see that division was well done, and the proportions was somewhat well preserved for all the three categories\n",
    "#however, NOT cross validation (only one split)"
   ]
  },
  {
   "cell_type": "markdown",
   "id": "7e518ce8-4abc-4d2e-bdb3-32b06260de45",
   "metadata": {
    "tags": []
   },
   "source": [
    "# Cross validaiton using multilabel \n",
    "* http://scikit.ml/concepts.html#The-multi-label-data-representation, http://scikit.ml/stratification.html\n",
    "\n",
    "look at this! (iterative stratification) : http://scikit.ml/api/skmultilearn.model_selection.iterative_stratification.html#module-skmultilearn.model_selection.iterative_stratification => this seems to be the kfold versio nthingie\n",
    "\n",
    "\n",
    "* X : (n_samples, n_features) (dense ones like np arrays are possible)\n",
    "* y : (n_samples, n_labels)\n",
    "    * **the labels in y shouldn't be mmore than binary class!** (see below)\n",
    "> y is expected to be a binary integer indicator matrix of shape. In the binary indicator matrix each matrix element A[i,j] should be either 1 if label j is assigned to an object no i, and 0 if not.\n",
    "    * therefore, stratified 할때 binary 해야함!\n",
    "        * **sklearn은 binary/multiclass 다되는데.... 이거는 안되나?**"
   ]
  },
  {
   "cell_type": "markdown",
   "id": "8ab7c62c-5cc6-4be6-b320-4f42ae8caa81",
   "metadata": {
    "tags": []
   },
   "source": [
    "## 2.1. now doing iterative stratification\n",
    "(http://scikit.ml/api/skmultilearn.model_selection.iterative_stratification.html#module-skmultilearn.model_selection.iterative_stratification) \n",
    "\n"
   ]
  },
  {
   "cell_type": "code",
   "execution_count": 8,
   "id": "40a3438f-7ca9-43da-90ac-4287b6d1d29d",
   "metadata": {},
   "outputs": [
    {
     "name": "stdout",
     "output_type": "stream",
     "text": [
      "[[35. 36. 77.]\n",
      " [65. 64. 23.]]\n",
      "\n",
      "===y_train, y_test percentage deviations from y (%)===\n",
      "(80, 10) (80, 3) (20, 10) (20, 3)\n",
      "[[ 0.          0.69444444  2.27272727]\n",
      " [ 0.         -0.390625   -7.60869565]]\n",
      "[[ 0.         -2.77777778 -9.09090909]\n",
      " [ 0.          1.5625     30.43478261]]\n",
      "\n",
      "===y_train, y_test percentage deviations from y (%)===\n",
      "(80, 10) (80, 3) (20, 10) (20, 3)\n",
      "[[ 0.         -2.77777778  0.64935065]\n",
      " [ 0.          1.5625     -2.17391304]]\n",
      "[[ 0.         11.11111111 -2.5974026 ]\n",
      " [ 0.         -6.25        8.69565217]]\n",
      "\n",
      "===y_train, y_test percentage deviations from y (%)===\n",
      "(80, 10) (80, 3) (20, 10) (20, 3)\n",
      "[[ 0.          0.69444444  0.64935065]\n",
      " [ 0.         -0.390625   -2.17391304]]\n",
      "[[ 0.         -2.77777778 -2.5974026 ]\n",
      " [ 0.          1.5625      8.69565217]]\n",
      "\n",
      "===y_train, y_test percentage deviations from y (%)===\n",
      "(80, 10) (80, 3) (20, 10) (20, 3)\n",
      "[[ 0.          0.69444444 -2.5974026 ]\n",
      " [ 0.         -0.390625    8.69565217]]\n",
      "[[  0.          -2.77777778  10.38961039]\n",
      " [  0.           1.5625     -34.7826087 ]]\n",
      "\n",
      "===y_train, y_test percentage deviations from y (%)===\n",
      "(80, 10) (80, 3) (20, 10) (20, 3)\n",
      "[[ 0.          0.69444444 -0.97402597]\n",
      " [ 0.         -0.390625    3.26086957]]\n",
      "[[  0.          -2.77777778   3.8961039 ]\n",
      " [  0.           1.5625     -13.04347826]]\n"
     ]
    }
   ],
   "source": [
    "from skmultilearn.model_selection import IterativeStratification\n",
    "k_fold = IterativeStratification(n_splits=5, order=1) #on't increae the order (i think)(if > 1, does with replacement)\n",
    "print(100*calc_prop(y))\n",
    "\n",
    "total_val_set = set()\n",
    "\n",
    "for train,test in k_fold.split(X,y):\n",
    "    x_train,y_train = X[train], y[train]\n",
    "    x_test,y_test = X[test], y[test]\n",
    "    print(\"\\n===y_train, y_test percentage deviations from y (%)===\")\n",
    "    print(x_train.shape, y_train.shape, x_test.shape, y_test.shape)\n",
    "    \n",
    "    print(100*calc_prop_change(y_train,y))\n",
    "    print(100*calc_prop_change(y_test,y))\n",
    "    #print(calc_prop_change(train,X))\n",
    "    \n",
    "    total_val_set = total_val_set.union(train)\n"
   ]
  },
  {
   "cell_type": "code",
   "execution_count": 9,
   "id": "5292194a-a813-4cc7-81cb-9c5c08c8c801",
   "metadata": {},
   "outputs": [
    {
     "data": {
      "text/plain": [
       "100"
      ]
     },
     "execution_count": 9,
     "metadata": {},
     "output_type": "execute_result"
    }
   ],
   "source": [
    "len(total_val_set) #as expected => i.e. didn't reuse the things, but CV was actually well done "
   ]
  },
  {
   "cell_type": "markdown",
   "id": "99d6ea1b-53ec-4bc9-b2ab-c7c7ff3053d9",
   "metadata": {
    "tags": []
   },
   "source": [
    "## NOW HAVE TO CHECK IF multiclass + multilabel works!(i.e. try multiclass)"
   ]
  },
  {
   "cell_type": "code",
   "execution_count": 10,
   "id": "5d1a5b90-f382-4964-bd4a-e98f8fdd0c44",
   "metadata": {},
   "outputs": [],
   "source": [
    "#y_multiclass (modifing)\n",
    "y_multiclass = y.copy()\n",
    "y_multiclass[::10,0] = 2 #changing the first labels to 2 (multiclass) every 5 things\n",
    "#y_multiclass[::11,0] = 3 #changing the first labels to 2 (multiclass) every 5 things"
   ]
  },
  {
   "cell_type": "code",
   "execution_count": 11,
   "id": "b52c8c4f-683c-4f3c-a664-dea6eae7ce96",
   "metadata": {
    "scrolled": true,
    "tags": []
   },
   "outputs": [
    {
     "data": {
      "text/plain": [
       "array([[2, 1, 0],\n",
       "       [0, 0, 0],\n",
       "       [1, 1, 0],\n",
       "       [1, 1, 1],\n",
       "       [0, 1, 0],\n",
       "       [0, 0, 0],\n",
       "       [0, 1, 0],\n",
       "       [1, 1, 1],\n",
       "       [1, 1, 1],\n",
       "       [1, 1, 1],\n",
       "       [2, 1, 0],\n",
       "       [1, 1, 0],\n",
       "       [0, 1, 0],\n",
       "       [0, 1, 0],\n",
       "       [1, 1, 1],\n",
       "       [1, 0, 0],\n",
       "       [1, 1, 0],\n",
       "       [1, 1, 1],\n",
       "       [0, 0, 0],\n",
       "       [1, 1, 0],\n",
       "       [2, 1, 0],\n",
       "       [0, 0, 0],\n",
       "       [0, 0, 0],\n",
       "       [1, 1, 1],\n",
       "       [1, 0, 0],\n",
       "       [0, 1, 0],\n",
       "       [1, 1, 1],\n",
       "       [1, 1, 1],\n",
       "       [1, 1, 1],\n",
       "       [1, 1, 1],\n",
       "       [2, 1, 0],\n",
       "       [1, 0, 0],\n",
       "       [1, 1, 1],\n",
       "       [1, 0, 0],\n",
       "       [1, 1, 0],\n",
       "       [1, 1, 1],\n",
       "       [0, 1, 0],\n",
       "       [0, 0, 0],\n",
       "       [0, 1, 0],\n",
       "       [0, 1, 0],\n",
       "       [2, 1, 0],\n",
       "       [1, 0, 0],\n",
       "       [0, 0, 0],\n",
       "       [0, 0, 0],\n",
       "       [1, 0, 0],\n",
       "       [1, 0, 0],\n",
       "       [0, 0, 0],\n",
       "       [1, 1, 0],\n",
       "       [1, 1, 0],\n",
       "       [0, 0, 0],\n",
       "       [2, 1, 1],\n",
       "       [0, 0, 0],\n",
       "       [1, 0, 0],\n",
       "       [1, 1, 0],\n",
       "       [0, 1, 0],\n",
       "       [0, 0, 0],\n",
       "       [0, 1, 0],\n",
       "       [1, 1, 0],\n",
       "       [1, 1, 0],\n",
       "       [0, 0, 0],\n",
       "       [2, 1, 0],\n",
       "       [1, 0, 0],\n",
       "       [1, 1, 1],\n",
       "       [1, 1, 1],\n",
       "       [1, 0, 0],\n",
       "       [1, 0, 0],\n",
       "       [1, 1, 0],\n",
       "       [1, 0, 0],\n",
       "       [1, 1, 0],\n",
       "       [0, 0, 0],\n",
       "       [2, 1, 1],\n",
       "       [1, 0, 0],\n",
       "       [1, 1, 1],\n",
       "       [1, 1, 0],\n",
       "       [1, 0, 0],\n",
       "       [1, 1, 0],\n",
       "       [0, 1, 0],\n",
       "       [0, 0, 0],\n",
       "       [1, 1, 1],\n",
       "       [1, 1, 0],\n",
       "       [2, 0, 0],\n",
       "       [1, 1, 0],\n",
       "       [0, 1, 0],\n",
       "       [0, 1, 0],\n",
       "       [1, 1, 0],\n",
       "       [1, 1, 0],\n",
       "       [1, 1, 0],\n",
       "       [0, 0, 0],\n",
       "       [0, 0, 0],\n",
       "       [0, 1, 0],\n",
       "       [2, 1, 1],\n",
       "       [1, 1, 1],\n",
       "       [1, 1, 1],\n",
       "       [0, 1, 0],\n",
       "       [1, 0, 0],\n",
       "       [1, 0, 0],\n",
       "       [1, 0, 0],\n",
       "       [1, 1, 1],\n",
       "       [1, 1, 0],\n",
       "       [0, 0, 0]])"
      ]
     },
     "execution_count": 11,
     "metadata": {},
     "output_type": "execute_result"
    }
   ],
   "source": [
    "y_multiclass"
   ]
  },
  {
   "cell_type": "code",
   "execution_count": 12,
   "id": "6450b76f-bcf3-4a71-a83a-9acc9cc86d81",
   "metadata": {},
   "outputs": [
    {
     "name": "stdout",
     "output_type": "stream",
     "text": [
      "below : the shapes of (class_i, n_labels)\n",
      "[[33. 36. 77.]\n",
      " [57. 64. 23.]\n",
      " [10.  0.  0.]]\n",
      "\n",
      "===y_train, y_test percentage deviations from y (%)===\n",
      "(80, 10) (20, 10) (80, 3) (20, 3)\n",
      "[[ 2.27272727  0.69444444  0.64935065]\n",
      " [-1.31578947 -0.390625   -2.17391304]\n",
      " [ 0.                 nan         nan]]\n",
      "[[-9.09090909 -2.77777778 -2.5974026 ]\n",
      " [ 5.26315789  1.5625      8.69565217]\n",
      " [ 0.                 nan         nan]]\n",
      "\n",
      "===y_train, y_test percentage deviations from y (%)===\n",
      "(80, 10) (20, 10) (80, 3) (20, 3)\n",
      "[[-1.51515152  0.69444444 -0.97402597]\n",
      " [-3.50877193 -0.390625    3.26086957]\n",
      " [25.                 nan         nan]]\n"
     ]
    },
    {
     "name": "stderr",
     "output_type": "stream",
     "text": [
      "/tmp/ipykernel_1984956/4080913144.py:27: RuntimeWarning: invalid value encountered in divide\n",
      "  thing = (calc_prop(arr, set_thing)-calc_prop(base_arr,set_thing))/calc_prop(base_arr, set_thing)\n"
     ]
    },
    {
     "ename": "ValueError",
     "evalue": "operands could not be broadcast together with shapes (2,3) (3,3) ",
     "output_type": "error",
     "traceback": [
      "\u001b[0;31m---------------------------------------------------------------------------\u001b[0m",
      "\u001b[0;31mValueError\u001b[0m                                Traceback (most recent call last)",
      "Input \u001b[0;32mIn [12]\u001b[0m, in \u001b[0;36m<cell line: 8>\u001b[0;34m()\u001b[0m\n\u001b[1;32m     14\u001b[0m \u001b[38;5;28mprint\u001b[39m(x_train\u001b[38;5;241m.\u001b[39mshape, x_test\u001b[38;5;241m.\u001b[39mshape, y_train\u001b[38;5;241m.\u001b[39mshape, y_test\u001b[38;5;241m.\u001b[39mshape)\n\u001b[1;32m     15\u001b[0m \u001b[38;5;28mprint\u001b[39m(\u001b[38;5;241m100\u001b[39m\u001b[38;5;241m*\u001b[39mcalc_prop_change(y_train,y_multiclass))\n\u001b[0;32m---> 16\u001b[0m \u001b[38;5;28mprint\u001b[39m(\u001b[38;5;241m100\u001b[39m\u001b[38;5;241m*\u001b[39m\u001b[43mcalc_prop_change\u001b[49m\u001b[43m(\u001b[49m\u001b[43my_test\u001b[49m\u001b[43m,\u001b[49m\u001b[43my_multiclass\u001b[49m\u001b[43m)\u001b[49m)\n\u001b[1;32m     17\u001b[0m \u001b[38;5;66;03m#print(calc_prop_change(train,X))\u001b[39;00m\n\u001b[1;32m     19\u001b[0m total_val_set \u001b[38;5;241m=\u001b[39m total_val_set\u001b[38;5;241m.\u001b[39munion(train)\n",
      "Input \u001b[0;32mIn [4]\u001b[0m, in \u001b[0;36mcalc_prop_change\u001b[0;34m(arr, base_arr, set_thing)\u001b[0m\n\u001b[1;32m     26\u001b[0m \u001b[38;5;28;01mdef\u001b[39;00m \u001b[38;5;21mcalc_prop_change\u001b[39m(arr, base_arr, set_thing \u001b[38;5;241m=\u001b[39m \u001b[38;5;28;01mNone\u001b[39;00m):\n\u001b[0;32m---> 27\u001b[0m     thing \u001b[38;5;241m=\u001b[39m (\u001b[43mcalc_prop\u001b[49m\u001b[43m(\u001b[49m\u001b[43marr\u001b[49m\u001b[43m,\u001b[49m\u001b[43m \u001b[49m\u001b[43mset_thing\u001b[49m\u001b[43m)\u001b[49m\u001b[38;5;241;43m-\u001b[39;49m\u001b[43mcalc_prop\u001b[49m\u001b[43m(\u001b[49m\u001b[43mbase_arr\u001b[49m\u001b[43m,\u001b[49m\u001b[43mset_thing\u001b[49m\u001b[43m)\u001b[49m)\u001b[38;5;241m/\u001b[39mcalc_prop(base_arr, set_thing)\n\u001b[1;32m     28\u001b[0m     \u001b[38;5;28;01mreturn\u001b[39;00m thing\n",
      "\u001b[0;31mValueError\u001b[0m: operands could not be broadcast together with shapes (2,3) (3,3) "
     ]
    }
   ],
   "source": [
    "from skmultilearn.model_selection import IterativeStratification\n",
    "k_fold = IterativeStratification(n_splits=5, order = 1) #on't increae the order (i think)(if > 1, does with replacement)\n",
    "print(\"below : the shapes of (class_i, n_labels)\")\n",
    "print(100*calc_prop(y_multiclass))\n",
    "\n",
    "total_val_set = set()\n",
    "\n",
    "for train,test in k_fold.split(X,y_multiclass):\n",
    "    x_train,y_train = X[train], y_multiclass[train]\n",
    "    x_test,y_test = X[test], y_multiclass[test]\n",
    "    #print(x_train.shape, x_test.shape)\n",
    "\n",
    "    print(\"\\n===y_train, y_test percentage deviations from y (%)===\")\n",
    "    print(x_train.shape, x_test.shape, y_train.shape, y_test.shape)\n",
    "    print(100*calc_prop_change(y_train,y_multiclass))\n",
    "    print(100*calc_prop_change(y_test,y_multiclass))\n",
    "    #print(calc_prop_change(train,X))\n",
    "    \n",
    "    total_val_set = total_val_set.union(train)"
   ]
  },
  {
   "cell_type": "markdown",
   "id": "86137e1b-6670-4292-985d-a84769143145",
   "metadata": {
    "jp-MarkdownHeadingCollapsed": true,
    "tags": []
   },
   "source": [
    "# 보듯이, https://github.com/scikit-multilearn/scikit-multilearn/issues/132\n",
    "> multiclass + multilabel은 잘 안되는 것 같다!\n",
    "\n",
    "https://github.com/trent-b/iterative-stratification/issues/27#issue-1577817136\n",
    "\n",
    "일단 위에 두개보고, 되는지 안되는지 확인해보자 => 안된다면.. 흠.. 어떻게 하지? \n",
    "(그리고 어차피, age같은 것은 하지도 못할거같은데..?)(unless artificially splitting into age brackets and treating age as a categorical thing)\n",
    "\n",
    "=> 이것 보고 하기!\n"
   ]
  },
  {
   "cell_type": "markdown",
   "id": "9c270534-a146-4ddf-a5be-a3a48590f4ef",
   "metadata": {},
   "source": [
    "# 3. ABCD 에 실제 적용해서 하기 "
   ]
  },
  {
   "cell_type": "markdown",
   "id": "383cea3f-0c4f-4a78-83f4-931ff36fd860",
   "metadata": {
    "tags": []
   },
   "source": [
    "## 3.1. ABCD config에서 가져오기\n"
   ]
  },
  {
   "cell_type": "code",
   "execution_count": 13,
   "id": "af34ae8c-a52c-4967-b868-c4583cd4727a",
   "metadata": {},
   "outputs": [],
   "source": [
    "import sys \n",
    "import pandas as pd \n",
    "import numpy as np \n",
    "import matplotlib.pyplot as plt \n",
    "label_csv = '/scratch/connectome/dyhan316/VAE_ADHD/junbeom_finetuning/csv/ABCD_csv/ABCD_phenotype_total_ONLY_MRI.csv'"
   ]
  },
  {
   "cell_type": "code",
   "execution_count": 14,
   "id": "3834df8c-0508-44c2-b660-d849140633d5",
   "metadata": {},
   "outputs": [],
   "source": [
    "from sklearn.model_selection import StratifiedKFold, KFold\n",
    "import pandas as pd \n",
    "\n",
    "labels = pd.read_csv(label_csv)\n",
    "\n",
    "label_name = \"sex\"\n",
    "labels = labels[labels[label_name].notna()] #이파트를 더 추가해야할듯 (if doing stuff)\n",
    "labels = labels[labels['married'].notna()] #이파트를 더 추가해야할듯 (if doing stuff)\n",
    "labels = labels[labels[\"Conduct.Disorder.x\"].notna()]\n",
    "\n",
    "\n",
    "\n",
    "#labels[label_name] = labels[label_name].astype('str') #regressino하려면 이파트를 바꿔야할듯 #no need to force str? \n",
    "#\n",
    "#task_include = ['1.0','2.0']\n",
    "#data_1 = labels[labels[label_name] == task_include[0]]\n",
    "#data_2 = labels[labels[label_name] == task_include[1]]\n",
    "#data_1 = data_1[:50]\n",
    "#data_2 = data_2[:50]\n",
    "#\n",
    "#label_tv = pd.concat([data_1, data_2])\n",
    "label_tv = labels[:100]\n",
    "label_tv.sample(frac = 1)\n",
    "\n",
    "\n",
    "col2view = ['sex','married'] #'', race.ethnicity\n",
    "\n",
    "##default thing \n",
    "#[i for i in label_tv.keys()]\n",
    "\n"
   ]
  },
  {
   "cell_type": "markdown",
   "id": "e45a04e2-ed4c-4d5b-aa11-599612041a78",
   "metadata": {},
   "source": [
    "## 3.2. default stratification 하기 (single label)"
   ]
  },
  {
   "cell_type": "code",
   "execution_count": 15,
   "id": "9a98fdb7-cb93-4c26-bc6d-c50f3c3e4a71",
   "metadata": {
    "scrolled": true,
    "tags": []
   },
   "outputs": [
    {
     "name": "stdout",
     "output_type": "stream",
     "text": [
      "['sex', 'married']\n",
      "[[0.54 0.76]\n",
      " [0.46 0.  ]\n",
      " [0.   0.05]\n",
      " [0.   0.05]\n",
      " [0.   0.07]\n",
      " [0.   0.07]]\n",
      "===FOLD : 0===\n",
      "with training\n",
      "[[ 0.01851852  0.03618421]\n",
      " [-0.02173913         nan]\n",
      " [        nan  0.        ]\n",
      " [        nan  0.        ]\n",
      " [        nan -0.10714286]\n",
      " [        nan -0.28571429]]\n",
      "with validation\n",
      "[[-0.07407407 -0.14473684]\n",
      " [ 0.08695652         nan]\n",
      " [        nan  0.        ]\n",
      " [        nan  0.        ]\n",
      " [        nan  0.42857143]\n",
      " [        nan  1.14285714]]\n",
      "===FOLD : 1===\n",
      "with training\n",
      "[[-0.00462963 -0.01315789]\n",
      " [ 0.00543478         nan]\n",
      " [        nan  0.        ]\n",
      " [        nan  0.        ]\n",
      " [        nan  0.07142857]\n",
      " [        nan  0.07142857]]\n",
      "with validation\n",
      "[[ 0.01851852  0.05263158]\n",
      " [-0.02173913         nan]\n",
      " [        nan  0.        ]\n",
      " [        nan  0.        ]\n",
      " [        nan -0.28571429]\n",
      " [        nan -0.28571429]]\n",
      "===FOLD : 2===\n",
      "with training\n",
      "[[-0.00462963 -0.02960526]\n",
      " [ 0.00543478         nan]\n",
      " [        nan  0.        ]\n",
      " [        nan  0.25      ]\n",
      " [        nan -0.10714286]\n",
      " [        nan  0.25      ]]\n",
      "with validation\n",
      "[[ 0.01851852  0.11842105]\n",
      " [-0.02173913         nan]\n",
      " [        nan  0.        ]\n",
      " [        nan -1.        ]\n",
      " [        nan  0.42857143]\n",
      " [        nan -1.        ]]\n",
      "===FOLD : 3===\n",
      "with training\n",
      "[[-0.00462963 -0.01315789]\n",
      " [ 0.00543478         nan]\n",
      " [        nan  0.25      ]\n",
      " [        nan -0.25      ]\n",
      " [        nan  0.25      ]\n",
      " [        nan -0.10714286]]\n",
      "with validation\n",
      "[[ 0.01851852  0.05263158]\n",
      " [-0.02173913         nan]\n",
      " [        nan -1.        ]\n",
      " [        nan  1.        ]\n",
      " [        nan -1.        ]\n",
      " [        nan  0.42857143]]\n",
      "===FOLD : 4===\n",
      "with training\n",
      "[[-0.00462963  0.01973684]\n",
      " [ 0.00543478         nan]\n",
      " [        nan -0.25      ]\n",
      " [        nan  0.        ]\n",
      " [        nan -0.10714286]\n",
      " [        nan  0.07142857]]\n",
      "with validation\n",
      "[[ 0.01851852 -0.07894737]\n",
      " [-0.02173913         nan]\n",
      " [        nan  1.        ]\n",
      " [        nan  0.        ]\n",
      " [        nan  0.42857143]\n",
      " [        nan -0.28571429]]\n"
     ]
    },
    {
     "name": "stderr",
     "output_type": "stream",
     "text": [
      "/tmp/ipykernel_1984956/4080913144.py:27: RuntimeWarning: invalid value encountered in divide\n",
      "  thing = (calc_prop(arr, set_thing)-calc_prop(base_arr,set_thing))/calc_prop(base_arr, set_thing)\n",
      "/tmp/ipykernel_1984956/4080913144.py:27: RuntimeWarning: invalid value encountered in divide\n",
      "  thing = (calc_prop(arr, set_thing)-calc_prop(base_arr,set_thing))/calc_prop(base_arr, set_thing)\n",
      "/tmp/ipykernel_1984956/4080913144.py:27: RuntimeWarning: invalid value encountered in divide\n",
      "  thing = (calc_prop(arr, set_thing)-calc_prop(base_arr,set_thing))/calc_prop(base_arr, set_thing)\n",
      "/tmp/ipykernel_1984956/4080913144.py:27: RuntimeWarning: invalid value encountered in divide\n",
      "  thing = (calc_prop(arr, set_thing)-calc_prop(base_arr,set_thing))/calc_prop(base_arr, set_thing)\n",
      "/tmp/ipykernel_1984956/4080913144.py:27: RuntimeWarning: invalid value encountered in divide\n",
      "  thing = (calc_prop(arr, set_thing)-calc_prop(base_arr,set_thing))/calc_prop(base_arr, set_thing)\n",
      "/tmp/ipykernel_1984956/4080913144.py:27: RuntimeWarning: invalid value encountered in divide\n",
      "  thing = (calc_prop(arr, set_thing)-calc_prop(base_arr,set_thing))/calc_prop(base_arr, set_thing)\n",
      "/tmp/ipykernel_1984956/4080913144.py:27: RuntimeWarning: invalid value encountered in divide\n",
      "  thing = (calc_prop(arr, set_thing)-calc_prop(base_arr,set_thing))/calc_prop(base_arr, set_thing)\n",
      "/tmp/ipykernel_1984956/4080913144.py:27: RuntimeWarning: invalid value encountered in divide\n",
      "  thing = (calc_prop(arr, set_thing)-calc_prop(base_arr,set_thing))/calc_prop(base_arr, set_thing)\n",
      "/tmp/ipykernel_1984956/4080913144.py:27: RuntimeWarning: invalid value encountered in divide\n",
      "  thing = (calc_prop(arr, set_thing)-calc_prop(base_arr,set_thing))/calc_prop(base_arr, set_thing)\n",
      "/tmp/ipykernel_1984956/4080913144.py:27: RuntimeWarning: invalid value encountered in divide\n",
      "  thing = (calc_prop(arr, set_thing)-calc_prop(base_arr,set_thing))/calc_prop(base_arr, set_thing)\n"
     ]
    },
    {
     "data": {
      "image/png": "[encoded data removed]",
      "text/plain": [
       "<Figure size 640x480 with 1 Axes>"
      ]
     },
     "metadata": {},
     "output_type": "display_data"
    }
   ],
   "source": [
    "### 1. only one thing (StratifiedKFold)\n",
    "kf = StratifiedKFold(n_splits=5)\n",
    "##first, get the things\n",
    "\n",
    "#print(calc_prop(label_tv[['sex','married']].values))\n",
    "print(col2view)\n",
    "print(calc_prop(label_tv[col2view].values))\n",
    "set_thing = set(label_tv[col2view].values.flatten()) #un split된 상태에서의 set을 써야함\n",
    "\n",
    "\n",
    "thing = []\n",
    "for FOLD, (train_idx, valid_idx) in enumerate(kf.split(label_tv, label_tv[label_name])): \n",
    "    print(f\"===FOLD : {FOLD}===\")\n",
    "    train = label_tv.iloc[train_idx]\n",
    "    valid = label_tv.iloc[valid_idx]\n",
    "\n",
    "    print(\"with training\")\n",
    "    print(calc_prop_change(train[col2view].values, label_tv[col2view].values, set_thing = set_thing))\n",
    "    #print(calc_prop(train[col2view].values)) \n",
    "    \n",
    "    print(\"with validation\")\n",
    "    print(calc_prop_change(valid[col2view].values, label_tv[col2view].values, set_thing = set_thing))\n",
    "    #print(calc_prop(valid[col2view].values)) \n",
    "    #plt.hist(valid['married'], density=True, alpha = 0.5,label=FOLD)\n",
    "    thing.append(valid['married'])\n",
    "plt.hist(thing,bins = 20, label = [i for i in range(5)])\n",
    "plt.legend()\n",
    "plt.show()"
   ]
  },
  {
   "cell_type": "code",
   "execution_count": 16,
   "id": "02805fef-9dd2-4fe0-8f01-6cdee63c1381",
   "metadata": {},
   "outputs": [
    {
     "name": "stdout",
     "output_type": "stream",
     "text": [
      "[0. 0. 0. 0. 0. 0. 0. 1. 0. 1. 0. 1. 0. 0. 1. 0. 1. 0. 0. 1. 0. 0. 0. 1.\n",
      " 0. 0. 0. 0. 0. 1. 0. 0. 0. 0. 0. 1. 1. 0. 0. 0. 0. 0. 0. 1. 0. 0. 0. 1.\n",
      " 1. 0. 0. 1. 0. 0. 0. 0. 0. 0. 0. 0. 0. 1. 0. 0. 1. 0. 0. 1. 1. 0. 0. 0.\n",
      " 1. 0. 0. 0. 0. 1. 0. 0. 0. 0. 1. 0. 0. 0. 0. 0. 1. 0. 0. 0. 1. 1. 0. 1.\n",
      " 0. 0. 0. 0.]\n"
     ]
    }
   ],
   "source": [
    "#import matplotlib.pyplot as plt \n",
    "#plt.hist(valid['married'], bins = 20,density=True)\n",
    "\n",
    "#[i for i in set_thing]\n",
    "#train[['sex','married']].values\n",
    "\n",
    "print(label_tv['SLEEP.PROBLEMS.x'].values)"
   ]
  },
  {
   "cell_type": "code",
   "execution_count": 17,
   "id": "eaa7911e-7753-4939-a52e-df246029e599",
   "metadata": {},
   "outputs": [
    {
     "name": "stdout",
     "output_type": "stream",
     "text": [
      "Unnamed: 0 : 100 | 5079\n",
      "SubjectID : 100 | NDARINV003RTV85NDARINV007W6H7BNDARINV00BD7VDCNDARINV00CY2MDMNDARINV00HEV6HBNDARINV00LH735YNDARINV00LJVZK2NDARINV00NPMHNDNDARINV00R4TXETNDARINV00U4FTRUNDARINV00UMK5VCNDARINV00X2TBWJNDARINV010ZM3H9NDARINV014RTM1VNDARINV0182J779NDARINV0191C80UNDARINV019DXLU4NDARINV01AJ15N9NDARINV01D03VR7NDARINV01ELX9L6NDARINV01EN91PGNDARINV01NAYMZHNDARINV01RGTWD2NDARINV01TXCDJNNDARINV01Z8HAPVNDARINV021403LFNDARINV021N0FLHNDARINV022ZVCT8NDARINV028D3ELLNDARINV028WCTG6NDARINV029PWCFYNDARINV02EBX0JJNDARINV02H7G2T6NDARINV02JXJUZGNDARINV02RCED7DNDARINV02UVMTY7NDARINV02WP3TP6NDARINV030W95VPNDARINV030X9ZNHNDARINV0314RN9PNDARINV0387TP8RNDARINV03BDCNWMNDARINV03CV8RDTNDARINV03KMHMJJNDARINV03NW0RKLNDARINV03XVEBPMNDARINV03YU08FANDARINV040B4TRCNDARINV042UJKFBNDARINV04BFG4JMNDARINV04CLBZADNDARINV04EUBGTMNDARINV04GAB2AANDARINV04JY6730NDARINV04P0G6LKNDARINV04R9REGFNDARINV04TRXUGLNDARINV04YC4RXDNDARINV052HU3CUNDARINV056V9RRJNDARINV059VLAHFNDARINV05ATJ1V1NDARINV05CA3VX5NDARINV05LGG3GZNDARINV05T64PXDNDARINV05WK8AN7NDARINV05YY477ENDARINV06A9DLE9NDARINV06BKAHN5NDARINV06DE9Y0LNDARINV06DJHEV0NDARINV06DP74KLNDARINV06DX0E7RNDARINV06LWXY67NDARINV06TBFD6RNDARINV06U4DYFYNDARINV06WHVUPXNDARINV07924XF1NDARINV07BR8GMYNDARINV07CMT243NDARINV07HGA3B7NDARINV07K2M5P4NDARINV07RAHHYHNDARINV07RPB2TUNDARINV07THBLHGNDARINV07UK1DPHNDARINV07XG8391NDARINV07XXFHDKNDARINV085CYDEZNDARINV086114ATNDARINV086U18RDNDARINV08894886NDARINV0889M0JENDARINV08AT7TLHNDARINV08DNLRECNDARINV08EFDKZ6NDARINV08FUB58ANDARINV08GBDG8XNDARINV08J0E48VNDARINV08K0R9C4\n",
      "age : 24 | 11963.0\n",
      "sex : 2 | 146.0\n",
      "race.ethnicity : 5 | 188.0\n",
      "high.educ : 12 | 1686.0\n",
      "income : 15 | 709.0\n",
      "married : 5 | 188.0\n",
      "abcd_site : 22 | 1127.0\n",
      "height : 63 | 5557.40999999\n",
      "weight : 81 | 8357.28333331\n",
      "BMI : 100 | 1875.9043115999998\n",
      "vol : 100 | 151457136.62999997\n",
      "nihtbx_totalcomp_uncorrected : 69 | -1.801317061000001\n",
      "nihtbx_fluidcomp_uncorrected : 69 | -4.377630376999999\n",
      "nihtbx_pattern_uncorrected : 66 | -7.223225107999999\n",
      "nihtbx_picture_uncorrected : 75 | 0.8957512769999996\n",
      "nihtbx_list_uncorrected : 58 | -0.9152392240000001\n",
      "nihtbx_flanker_uncorrected : 71 | 0.3193196719999986\n",
      "nihtbx_cardsort_uncorrected : 70 | -5.069252444000001\n",
      "nihtbx_cryst_uncorrected : 64 | 2.5439492219999993\n",
      "nihtbx_reading_uncorrected : 66 | 2.1927015800000005\n",
      "nihtbx_picvocab_uncorrected : 68 | 2.2848725870000006\n",
      "poa_total_6month_follow_up : 45 | 2.176349289\n",
      "friends : 36 | 1866.0\n",
      "close_friends : 18 | 554.0\n",
      "upps_negative_urgency : 12 | -6.807828356999998\n",
      "upps_lack_of_planning : 10 | -19.699672977\n",
      "upps_sensation_seeking : 13 | 0.37794519400000204\n",
      "upps_positive_urgency : 12 | -2.1524530900000007\n",
      "upps_lack_of_perseverance : 10 | -12.517888816000005\n",
      "upps_total : 29 | -11.238875178999999\n",
      "AnxDep.CBCL : 15 | 5305.0\n",
      "WithDep.CBCL : 10 | 5288.0\n",
      "Somatic.CBCL : 11 | 5531.0\n",
      "Social.CBCL : 13 | 5264.0\n",
      "Thought.CBCL : 11 | 5358.0\n",
      "Attention.CBCL : 12 | 5338.0\n",
      "RuleBreak.CBCL : 12 | 5214.0\n",
      "Aggressive.CBCL : 15 | 5273.0\n",
      "Internal.CBCL : 23 | 4877.0\n",
      "External.CBCL : 23 | 4610.0\n",
      "TotProb.CBCL : 32 | 4651.0\n",
      "Depress.CBCL : 10 | 5346.0\n",
      "AnxDisord.CBCL : 13 | 5312.0\n",
      "SomaticPr.CBCL : 12 | 5617.0\n",
      "ADHD.CBCL : 13 | 5271.0\n",
      "Opposit.CBCL : 11 | 5346.0\n",
      "Conduct.CBCL : 13 | 5242.0\n",
      "Sluggish.Cognitive.Tempo..SCT..CBCL : 6 | 5345.0\n",
      "Obsessive.Compulsive.Problems..OCD..CBCL : 9 | 5315.0\n",
      "Stress.CBCL : 13 | 5293.0\n",
      "Internal.and.External.Comobidity : 71 | 229182.0\n",
      "HC_PSD : 20 | -1.060014461999997\n",
      "HC_CHM : 22 | -19.570206715999998\n",
      "Ne_EN : 29 | -14.515229854999998\n",
      "Ne_PN : 29 | -3.910840000999998\n",
      "Ab_PA : 23 | -14.087030440999996\n",
      "HC_HSA : 50 | -16.773010297999996\n",
      "HC_MIH : 81 | -43.71660760899999\n",
      "Ab : 23 | -14.242431486999998\n",
      "HC : 92 | -30.852064221\n",
      "Ne : 62 | -11.328113892000001\n",
      "ELS_total : 100 | -26.587215532\n",
      "mania_score_1_year_follow_up : 69 | 71.0\n",
      "mania_binary_1_year_follow_up : 62 | 26.0\n",
      "DIMS_baseline : 16 | 1235\n",
      "SH_baseline : 6 | 240\n",
      "SWTD_baseline : 11 | 806\n",
      "SBD_baseline : 11 | 806\n",
      "DA_baseline : 8 | 378\n",
      "DOES_baseline : 13 | 726\n",
      "totalSDS_baseline : 29 | 3727\n",
      "Bipolar.I.Disorder.x : 2 | 4.0\n",
      "Bipolar.II.Disorder.x : 2 | 5.0\n",
      "Unspecified.Bipolar.and.Related.Disorder.x : 2 | 11.0\n",
      "Major.Depressive.Disorder.x : 2 | 3.0\n",
      "Persistent.Depressive.Disorder.x : 1 | 0.0\n",
      "Unspecified.Depressive.Disorder.x : 2 | 8.0\n",
      "Social.Anxiety.Disorder.x : 2 | 8.0\n",
      "Generalized.Anxiety.Disorder.x : 2 | 9.0\n",
      "SelfInjuriousBehaviorwithoutsuicidalintent.x : 2 | 7.0\n",
      "SuicidalideationPassive.x : 2 | 16.0\n",
      "SuicidalideationActive.x : 2 | 9.0\n",
      "PreparatoryActionstowardimminentSuicidalbehavior.x : 2 | 1.0\n",
      "InterruptedAttempt.x : 2 | 1.0\n",
      "AbortedAttempt.x : 2 | 1.0\n",
      "SuicideAttempt.x : 2 | 2.0\n",
      "SLEEP.PROBLEMS.x : 2 | 25.0\n",
      "Unspecified.Schizophrenia.Spectrum.and.Other.Psychotic.Disorder.x : 1 | 0.0\n",
      "Hallucinations.x : 1 | 0.0\n",
      "Delusions.x : 2 | 1.0\n",
      "Associated.Psychotic.Symptoms.x : 1 | 0.0\n",
      "Panic.Disorder.x : 2 | 1.0\n",
      "Separation.Anxiety.Disorder.x : 2 | 12.0\n",
      "Specific.Phobia.x : 2 | 20.0\n",
      "Obsessive.Compulsive.Disorder.x : 2 | 11.0\n",
      "Other.Specified.Obsessive.Compulsive.and.Related.Disorder.x : 2 | 1.0\n",
      "Binge.Eating.Disorder.x : 1 | 0.0\n",
      "Anorexia.Nervosa.x : 2 | 17.0\n",
      "Bulimia.Nervosa.x : 1 | 0.0\n",
      "Other.Specified.Feeding.or.Eating.Disorder.Bulimia.Nervosa.x : 1 | 0.0\n",
      "Unspecified.Attention.Deficit.Hyperactivity.Disorder.x : 2 | 3.0\n",
      "Attention.Deficit.Hyperactivity.Disorder.x : 2 | 24.0\n",
      "Oppositional.Defiant.Disorder.x : 2 | 17.0\n",
      "Conduct.Disorder.x : 2 | 5.0\n",
      "Other.Specified.Neurodevelopmental.Disorder.Autism.Spectrum.Disorder.x : 2 | 27.0\n",
      "Unspecified.Substance.Related.Disorder.x : 1 | 0.0\n",
      "Stimulant.Use.Disorder.x : 1 | 0.0\n",
      "Substance.Use.Disorder.x : 1 | 0.0\n",
      "Other.Drugs.Use.Disorder.x : 1 | 0.0\n",
      "Sedative.Hypnotic.or.Anxiolytic.Use.Disorder.x : 1 | 0.0\n",
      "Other.Specified.Trauma.and.Stressor.Related.Disorder.x : 2 | 6.0\n",
      "Post.Traumatic.Stress.Disorder.x : 1 | 0.0\n",
      "HOMICIDAL.IDEATION.AND.BEHAVIOR.x : 1 | 0.0\n",
      "totalBIS : 17 | 899.0\n",
      "totalBAS : 28 | 1996.0\n",
      "PPSP_frequency : 14 | 225\n",
      "PPSP_distress : 19 | 491\n"
     ]
    }
   ],
   "source": [
    "for i in label_tv:\n",
    "    print(i, end = \" : \")\n",
    "    print(len(set(label_tv[i].values)), end = \" | \" )\n",
    "    print((label_tv[i].sum()))"
   ]
  },
  {
   "cell_type": "markdown",
   "id": "23d55a37-ce4c-4af9-a929-8ed62d53139c",
   "metadata": {},
   "source": [
    "## 3.3. doing multilabel thing \n",
    "* did order = 2!! (much better) (maybe increase the ordeR?)"
   ]
  },
  {
   "cell_type": "code",
   "execution_count": 18,
   "id": "10040c45-90e2-4eb2-8451-35fa94bf81ce",
   "metadata": {
    "scrolled": true,
    "tags": []
   },
   "outputs": [
    {
     "name": "stdout",
     "output_type": "stream",
     "text": [
      "['sex', 'SLEEP.PROBLEMS.x', 'Conduct.Disorder.x', 'Unspecified.Bipolar.and.Related.Disorder.x']\n",
      "[[0.   0.75 0.95 0.89]\n",
      " [0.54 0.25 0.05 0.11]\n",
      " [0.46 0.   0.   0.  ]]\n",
      "===FOLD : 0===\n",
      "with training\n",
      "[[        nan  0.          0.         -0.00280899]\n",
      " [ 0.06481481  0.          0.          0.02272727]\n",
      " [-0.07608696         nan         nan         nan]]\n",
      "with validation\n",
      "[[        nan  0.          0.          0.01123596]\n",
      " [-0.25925926  0.          0.         -0.09090909]\n",
      " [ 0.30434783         nan         nan         nan]]\n",
      "===FOLD : 1===\n",
      "with training\n",
      "[[        nan  0.          0.         -0.00280899]\n",
      " [ 0.04166667  0.          0.          0.02272727]\n",
      " [-0.04891304         nan         nan         nan]]\n",
      "with validation\n",
      "[[        nan  0.          0.          0.01123596]\n",
      " [-0.16666667  0.          0.         -0.09090909]\n",
      " [ 0.19565217         nan         nan         nan]]\n",
      "===FOLD : 2===\n",
      "with training\n",
      "[[        nan  0.          0.         -0.00280899]\n",
      " [-0.07407407  0.          0.          0.02272727]\n",
      " [ 0.08695652         nan         nan         nan]]\n",
      "with validation\n",
      "[[        nan  0.          0.          0.01123596]\n",
      " [ 0.2962963   0.          0.         -0.09090909]\n",
      " [-0.34782609         nan         nan         nan]]\n",
      "===FOLD : 3===\n",
      "with training\n",
      "[[        nan  0.          0.         -0.00280899]\n",
      " [-0.02777778  0.          0.          0.02272727]\n",
      " [ 0.0326087          nan         nan         nan]]\n",
      "with validation\n",
      "[[        nan  0.          0.          0.01123596]\n",
      " [ 0.11111111  0.          0.         -0.09090909]\n",
      " [-0.13043478         nan         nan         nan]]\n",
      "===FOLD : 4===\n",
      "with training\n",
      "[[        nan  0.          0.          0.01123596]\n",
      " [-0.00462963  0.          0.         -0.09090909]\n",
      " [ 0.00543478         nan         nan         nan]]\n",
      "with validation\n",
      "[[        nan  0.          0.         -0.04494382]\n",
      " [ 0.01851852  0.          0.          0.36363636]\n",
      " [-0.02173913         nan         nan         nan]]\n"
     ]
    },
    {
     "name": "stderr",
     "output_type": "stream",
     "text": [
      "/tmp/ipykernel_1984956/4080913144.py:27: RuntimeWarning: invalid value encountered in divide\n",
      "  thing = (calc_prop(arr, set_thing)-calc_prop(base_arr,set_thing))/calc_prop(base_arr, set_thing)\n",
      "/tmp/ipykernel_1984956/4080913144.py:27: RuntimeWarning: invalid value encountered in divide\n",
      "  thing = (calc_prop(arr, set_thing)-calc_prop(base_arr,set_thing))/calc_prop(base_arr, set_thing)\n",
      "/tmp/ipykernel_1984956/4080913144.py:27: RuntimeWarning: invalid value encountered in divide\n",
      "  thing = (calc_prop(arr, set_thing)-calc_prop(base_arr,set_thing))/calc_prop(base_arr, set_thing)\n",
      "/tmp/ipykernel_1984956/4080913144.py:27: RuntimeWarning: invalid value encountered in divide\n",
      "  thing = (calc_prop(arr, set_thing)-calc_prop(base_arr,set_thing))/calc_prop(base_arr, set_thing)\n",
      "/tmp/ipykernel_1984956/4080913144.py:27: RuntimeWarning: invalid value encountered in divide\n",
      "  thing = (calc_prop(arr, set_thing)-calc_prop(base_arr,set_thing))/calc_prop(base_arr, set_thing)\n",
      "/tmp/ipykernel_1984956/4080913144.py:27: RuntimeWarning: invalid value encountered in divide\n",
      "  thing = (calc_prop(arr, set_thing)-calc_prop(base_arr,set_thing))/calc_prop(base_arr, set_thing)\n",
      "/tmp/ipykernel_1984956/4080913144.py:27: RuntimeWarning: invalid value encountered in divide\n",
      "  thing = (calc_prop(arr, set_thing)-calc_prop(base_arr,set_thing))/calc_prop(base_arr, set_thing)\n",
      "/tmp/ipykernel_1984956/4080913144.py:27: RuntimeWarning: invalid value encountered in divide\n",
      "  thing = (calc_prop(arr, set_thing)-calc_prop(base_arr,set_thing))/calc_prop(base_arr, set_thing)\n",
      "/tmp/ipykernel_1984956/4080913144.py:27: RuntimeWarning: invalid value encountered in divide\n",
      "  thing = (calc_prop(arr, set_thing)-calc_prop(base_arr,set_thing))/calc_prop(base_arr, set_thing)\n",
      "/tmp/ipykernel_1984956/4080913144.py:27: RuntimeWarning: invalid value encountered in divide\n",
      "  thing = (calc_prop(arr, set_thing)-calc_prop(base_arr,set_thing))/calc_prop(base_arr, set_thing)\n"
     ]
    },
    {
     "data": {
      "image/png": "[encoded data removed]",
      "text/plain": [
       "<Figure size 640x480 with 1 Axes>"
      ]
     },
     "metadata": {},
     "output_type": "display_data"
    },
    {
     "name": "stdout",
     "output_type": "stream",
     "text": [
      "[2. 2. 2. 2. 3.]\n",
      "0.019999999999999997\n"
     ]
    }
   ],
   "source": [
    "### 1. multilabel classification (\n",
    "from skmultilearn.model_selection import IterativeStratification\n",
    "kf = StratifiedKFold(n_splits=5)\n",
    "ikf = IterativeStratification(n_splits=5, order=2) #on't increae the order (i think)(if > 1, does with replacement)\n",
    "\n",
    "#below doesn't work because it won't work (not changed yet)\n",
    "#for FOLD, (train_idx, valid_idx) in enumerate(kf.split(label_tv, label_tv[label_name])): \n",
    "#col2view = ['sex','SLEEP.PROBLEMS.x']\n",
    "#col2view = ['sex', 'Conduct.Disorder.x']\n",
    "col2view = ['sex','SLEEP.PROBLEMS.x','Conduct.Disorder.x','Unspecified.Bipolar.and.Related.Disorder.x']\n",
    "print(col2view)\n",
    "print(calc_prop(label_tv[col2view].values))\n",
    "\n",
    "\n",
    "\n",
    "\n",
    "floatized_arr = np.array(label_tv[col2view].values, dtype = float)\n",
    "set_thing = set(label_tv[col2view].values.flatten()) #un split된 상태에서의 set을 써야함\n",
    "thing = []\n",
    "\n",
    "#single label\n",
    "#for FOLD, (train_idx, valid_idx) in enumerate(kf.split(label_tv, label_tv[label_name])): \n",
    "#multilabel\n",
    "for FOLD, (train_idx, valid_idx) in enumerate(ikf.split(floatized_arr, floatized_arr)): \n",
    "    print(f\"===FOLD : {FOLD}===\")\n",
    "    train = label_tv.iloc[train_idx]\n",
    "    valid = label_tv.iloc[valid_idx]\n",
    "\n",
    "    print(\"with training\")\n",
    "    print(calc_prop_change(train[col2view].values, label_tv[col2view].values, set_thing = set_thing))\n",
    "    #print(calc_prop(train[col2view].values)) \n",
    "    \n",
    "    print(\"with validation\")\n",
    "    print(calc_prop_change(valid[col2view].values, label_tv[col2view].values, set_thing = set_thing))\n",
    "    #print(calc_prop(valid[col2view].values)) \n",
    "    #plt.hist(valid['married'], density=True, alpha = 0.5,label=FOLD)\n",
    "    thing.append(valid[col2view[-1]])\n",
    "plt.hist(thing,bins = 20, label = [i for i in range(5)])\n",
    "plt.legend()\n",
    "plt.show()\n",
    "print(np.array(thing).sum(axis = 1))\n",
    "print(np.array(thing).mean(axis = 1).std())"
   ]
  },
  {
   "cell_type": "markdown",
   "id": "6944665d-465a-441c-80ce-fbfa1804687f",
   "metadata": {},
   "source": [
    "## 3.4. Now doing multiclass + multilabel"
   ]
  },
  {
   "cell_type": "code",
   "execution_count": 19,
   "id": "29d48c53-f99b-46b7-9f14-01c6e9f09a61",
   "metadata": {},
   "outputs": [],
   "source": [
    "from sklearn.preprocessing import OneHotEncoder"
   ]
  },
  {
   "cell_type": "code",
   "execution_count": 20,
   "id": "6e369e38-7998-48a8-8959-421a540b5574",
   "metadata": {},
   "outputs": [
    {
     "data": {
      "text/html": [
       "<style>#sk-container-id-1 {color: black;background-color: white;}#sk-container-id-1 pre{padding: 0;}#sk-container-id-1 div.sk-toggleable {background-color: white;}#sk-container-id-1 label.sk-toggleable__label {cursor: pointer;display: block;width: 100%;margin-bottom: 0;padding: 0.3em;box-sizing: border-box;text-align: center;}#sk-container-id-1 label.sk-toggleable__label-arrow:before {content: \"▸\";float: left;margin-right: 0.25em;color: #696969;}#sk-container-id-1 label.sk-toggleable__label-arrow:hover:before {color: black;}#sk-container-id-1 div.sk-estimator:hover label.sk-toggleable__label-arrow:before {color: black;}#sk-container-id-1 div.sk-toggleable__content {max-height: 0;max-width: 0;overflow: hidden;text-align: left;background-color: #f0f8ff;}#sk-container-id-1 div.sk-toggleable__content pre {margin: 0.2em;color: black;border-radius: 0.25em;background-color: #f0f8ff;}#sk-container-id-1 input.sk-toggleable__control:checked~div.sk-toggleable__content {max-height: 200px;max-width: 100%;overflow: auto;}#sk-container-id-1 input.sk-toggleable__control:checked~label.sk-toggleable__label-arrow:before {content: \"▾\";}#sk-container-id-1 div.sk-estimator input.sk-toggleable__control:checked~label.sk-toggleable__label {background-color: #d4ebff;}#sk-container-id-1 div.sk-label input.sk-toggleable__control:checked~label.sk-toggleable__label {background-color: #d4ebff;}#sk-container-id-1 input.sk-hidden--visually {border: 0;clip: rect(1px 1px 1px 1px);clip: rect(1px, 1px, 1px, 1px);height: 1px;margin: -1px;overflow: hidden;padding: 0;position: absolute;width: 1px;}#sk-container-id-1 div.sk-estimator {font-family: monospace;background-color: #f0f8ff;border: 1px dotted black;border-radius: 0.25em;box-sizing: border-box;margin-bottom: 0.5em;}#sk-container-id-1 div.sk-estimator:hover {background-color: #d4ebff;}#sk-container-id-1 div.sk-parallel-item::after {content: \"\";width: 100%;border-bottom: 1px solid gray;flex-grow: 1;}#sk-container-id-1 div.sk-label:hover label.sk-toggleable__label {background-color: #d4ebff;}#sk-container-id-1 div.sk-serial::before {content: \"\";position: absolute;border-left: 1px solid gray;box-sizing: border-box;top: 0;bottom: 0;left: 50%;z-index: 0;}#sk-container-id-1 div.sk-serial {display: flex;flex-direction: column;align-items: center;background-color: white;padding-right: 0.2em;padding-left: 0.2em;position: relative;}#sk-container-id-1 div.sk-item {position: relative;z-index: 1;}#sk-container-id-1 div.sk-parallel {display: flex;align-items: stretch;justify-content: center;background-color: white;position: relative;}#sk-container-id-1 div.sk-item::before, #sk-container-id-1 div.sk-parallel-item::before {content: \"\";position: absolute;border-left: 1px solid gray;box-sizing: border-box;top: 0;bottom: 0;left: 50%;z-index: -1;}#sk-container-id-1 div.sk-parallel-item {display: flex;flex-direction: column;z-index: 1;position: relative;background-color: white;}#sk-container-id-1 div.sk-parallel-item:first-child::after {align-self: flex-end;width: 50%;}#sk-container-id-1 div.sk-parallel-item:last-child::after {align-self: flex-start;width: 50%;}#sk-container-id-1 div.sk-parallel-item:only-child::after {width: 0;}#sk-container-id-1 div.sk-dashed-wrapped {border: 1px dashed gray;margin: 0 0.4em 0.5em 0.4em;box-sizing: border-box;padding-bottom: 0.4em;background-color: white;}#sk-container-id-1 div.sk-label label {font-family: monospace;font-weight: bold;display: inline-block;line-height: 1.2em;}#sk-container-id-1 div.sk-label-container {text-align: center;}#sk-container-id-1 div.sk-container {/* jupyter's `normalize.less` sets `[hidden] { display: none; }` but bootstrap.min.css set `[hidden] { display: none !important; }` so we also need the `!important` here to be able to override the default hidden behavior on the sphinx rendered scikit-learn.org. See: https://github.com/scikit-learn/scikit-learn/issues/21755 */display: inline-block !important;position: relative;}#sk-container-id-1 div.sk-text-repr-fallback {display: none;}</style><div id=\"sk-container-id-1\" class=\"sk-top-container\"><div class=\"sk-text-repr-fallback\"><pre>OneHotEncoder()</pre><b>In a Jupyter environment, please rerun this cell to show the HTML representation or trust the notebook. <br />On GitHub, the HTML representation is unable to render, please try loading this page with nbviewer.org.</b></div><div class=\"sk-container\" hidden><div class=\"sk-item\"><div class=\"sk-estimator sk-toggleable\"><input class=\"sk-toggleable__control sk-hidden--visually\" id=\"sk-estimator-id-1\" type=\"checkbox\" checked><label for=\"sk-estimator-id-1\" class=\"sk-toggleable__label sk-toggleable__label-arrow\">OneHotEncoder</label><div class=\"sk-toggleable__content\"><pre>OneHotEncoder()</pre></div></div></div></div></div>"
      ],
      "text/plain": [
       "OneHotEncoder()"
      ]
     },
     "execution_count": 20,
     "metadata": {},
     "output_type": "execute_result"
    }
   ],
   "source": [
    "df_col = label_tv[['race.ethnicity']]#column 으로 df 를 추려낸 것 \n",
    "#has to be [[]] not [] because we need to use 2D array\n",
    "\n",
    "\n",
    "ohe = OneHotEncoder()  #default : sparse True\n",
    "ohe.fit(df_col) "
   ]
  },
  {
   "cell_type": "code",
   "execution_count": 21,
   "id": "36176016-76b3-445d-a8fa-bc7d60a185c1",
   "metadata": {},
   "outputs": [],
   "source": [
    "#print(ohe.transform(valid[['married']])) #change to dense"
   ]
  },
  {
   "cell_type": "code",
   "execution_count": 22,
   "id": "08448754-a5d5-489f-8e5d-e3605b88f4b3",
   "metadata": {
    "scrolled": true,
    "tags": []
   },
   "outputs": [
    {
     "name": "stdout",
     "output_type": "stream",
     "text": [
      "[array([1., 2., 3., 4., 5.])]\n",
      "[[1. 0. 0. 0. 0.]\n",
      " [1. 0. 0. 0. 0.]\n",
      " [1. 0. 0. 0. 0.]\n",
      " [1. 0. 0. 0. 0.]\n",
      " [0. 1. 0. 0. 0.]\n",
      " [0. 0. 1. 0. 0.]\n",
      " [0. 0. 0. 0. 1.]\n",
      " [1. 0. 0. 0. 0.]\n",
      " [1. 0. 0. 0. 0.]\n",
      " [0. 0. 0. 0. 1.]\n",
      " [0. 1. 0. 0. 0.]\n",
      " [0. 0. 1. 0. 0.]\n",
      " [1. 0. 0. 0. 0.]\n",
      " [1. 0. 0. 0. 0.]\n",
      " [1. 0. 0. 0. 0.]\n",
      " [0. 0. 0. 0. 1.]\n",
      " [1. 0. 0. 0. 0.]\n",
      " [1. 0. 0. 0. 0.]\n",
      " [0. 0. 1. 0. 0.]\n",
      " [0. 1. 0. 0. 0.]\n",
      " [1. 0. 0. 0. 0.]\n",
      " [1. 0. 0. 0. 0.]\n",
      " [1. 0. 0. 0. 0.]\n",
      " [0. 1. 0. 0. 0.]\n",
      " [1. 0. 0. 0. 0.]\n",
      " [1. 0. 0. 0. 0.]\n",
      " [1. 0. 0. 0. 0.]\n",
      " [1. 0. 0. 0. 0.]\n",
      " [0. 0. 1. 0. 0.]\n",
      " [0. 1. 0. 0. 0.]\n",
      " [0. 0. 0. 0. 1.]\n",
      " [1. 0. 0. 0. 0.]\n",
      " [1. 0. 0. 0. 0.]\n",
      " [1. 0. 0. 0. 0.]\n",
      " [1. 0. 0. 0. 0.]\n",
      " [1. 0. 0. 0. 0.]\n",
      " [1. 0. 0. 0. 0.]\n",
      " [0. 0. 1. 0. 0.]\n",
      " [1. 0. 0. 0. 0.]\n",
      " [1. 0. 0. 0. 0.]\n",
      " [1. 0. 0. 0. 0.]\n",
      " [1. 0. 0. 0. 0.]\n",
      " [1. 0. 0. 0. 0.]\n",
      " [1. 0. 0. 0. 0.]\n",
      " [1. 0. 0. 0. 0.]\n",
      " [1. 0. 0. 0. 0.]\n",
      " [1. 0. 0. 0. 0.]\n",
      " [0. 0. 0. 0. 1.]\n",
      " [1. 0. 0. 0. 0.]\n",
      " [1. 0. 0. 0. 0.]\n",
      " [1. 0. 0. 0. 0.]\n",
      " [1. 0. 0. 0. 0.]\n",
      " [0. 0. 1. 0. 0.]\n",
      " [1. 0. 0. 0. 0.]\n",
      " [1. 0. 0. 0. 0.]\n",
      " [0. 0. 1. 0. 0.]\n",
      " [0. 0. 1. 0. 0.]\n",
      " [1. 0. 0. 0. 0.]\n",
      " [0. 0. 0. 0. 1.]\n",
      " [0. 0. 1. 0. 0.]\n",
      " [0. 0. 1. 0. 0.]\n",
      " [0. 0. 0. 0. 1.]\n",
      " [1. 0. 0. 0. 0.]\n",
      " [1. 0. 0. 0. 0.]\n",
      " [1. 0. 0. 0. 0.]\n",
      " [0. 1. 0. 0. 0.]\n",
      " [0. 0. 0. 0. 1.]\n",
      " [1. 0. 0. 0. 0.]\n",
      " [0. 1. 0. 0. 0.]\n",
      " [1. 0. 0. 0. 0.]\n",
      " [1. 0. 0. 0. 0.]\n",
      " [1. 0. 0. 0. 0.]\n",
      " [0. 0. 1. 0. 0.]\n",
      " [1. 0. 0. 0. 0.]\n",
      " [1. 0. 0. 0. 0.]\n",
      " [0. 1. 0. 0. 0.]\n",
      " [1. 0. 0. 0. 0.]\n",
      " [0. 0. 0. 1. 0.]\n",
      " [1. 0. 0. 0. 0.]\n",
      " [0. 0. 1. 0. 0.]\n",
      " [1. 0. 0. 0. 0.]\n",
      " [1. 0. 0. 0. 0.]\n",
      " [0. 0. 0. 1. 0.]\n",
      " [1. 0. 0. 0. 0.]\n",
      " [1. 0. 0. 0. 0.]\n",
      " [0. 0. 0. 0. 1.]\n",
      " [1. 0. 0. 0. 0.]\n",
      " [1. 0. 0. 0. 0.]\n",
      " [1. 0. 0. 0. 0.]\n",
      " [0. 1. 0. 0. 0.]\n",
      " [1. 0. 0. 0. 0.]\n",
      " [1. 0. 0. 0. 0.]\n",
      " [0. 0. 1. 0. 0.]\n",
      " [1. 0. 0. 0. 0.]\n",
      " [0. 0. 0. 0. 1.]\n",
      " [0. 1. 0. 0. 0.]\n",
      " [0. 0. 1. 0. 0.]\n",
      " [1. 0. 0. 0. 0.]\n",
      " [0. 0. 0. 0. 1.]\n",
      " [1. 0. 0. 0. 0.]]\n"
     ]
    },
    {
     "data": {
      "text/plain": [
       "(array([63.,  0., 10.,  0.,  0., 14.,  0.,  2.,  0., 11.]),\n",
       " array([1. , 1.4, 1.8, 2.2, 2.6, 3. , 3.4, 3.8, 4.2, 4.6, 5. ]),\n",
       " <BarContainer object of 10 artists>)"
      ]
     },
     "execution_count": 22,
     "metadata": {},
     "output_type": "execute_result"
    },
    {
     "data": {
      "image/png": "[encoded data removed]",
      "text/plain": [
       "<Figure size 640x480 with 1 Axes>"
      ]
     },
     "metadata": {},
     "output_type": "display_data"
    }
   ],
   "source": [
    "print(ohe.categories_)\n",
    "print(ohe.transform(df_col).todense())\n",
    "plt.hist(df_col)"
   ]
  },
  {
   "cell_type": "code",
   "execution_count": 48,
   "id": "0ebec127-54b0-4c7f-989f-23f01052d79c",
   "metadata": {
    "scrolled": true,
    "tags": []
   },
   "outputs": [
    {
     "name": "stdout",
     "output_type": "stream",
     "text": [
      "===FOLD : 0===\n",
      "with training\n",
      "[[-0.02018421]\n",
      " [-0.01234568]\n",
      " [ 0.05820106]\n",
      " [ 0.2345679 ]\n",
      " [ 0.01010101]]\n",
      "with validation\n",
      "[[ 0.08604845]\n",
      " [ 0.05263158]\n",
      " [-0.2481203 ]\n",
      " [-1.        ]\n",
      " [-0.0430622 ]]\n",
      "===FOLD : 1===\n",
      "with training\n",
      "[[ 0.02471368]\n",
      " [ 0.01265823]\n",
      " [-0.00542495]\n",
      " [-0.36708861]\n",
      " [-0.07940161]]\n",
      "with validation\n",
      "[[-0.09297052]\n",
      " [-0.04761905]\n",
      " [ 0.02040816]\n",
      " [ 1.38095238]\n",
      " [ 0.2987013 ]]\n",
      "===FOLD : 2===\n",
      "with training\n",
      "[[-0.00793651]\n",
      " [ 0.        ]\n",
      " [-0.01785714]\n",
      " [ 0.25      ]\n",
      " [ 0.02272727]]\n",
      "with validation\n",
      "[[ 0.03174603]\n",
      " [ 0.        ]\n",
      " [ 0.07142857]\n",
      " [-1.        ]\n",
      " [-0.09090909]]\n",
      "===FOLD : 3===\n",
      "with training\n",
      "[[ 0.01190476]\n",
      " [ 0.        ]\n",
      " [-0.01785714]\n",
      " [-0.375     ]\n",
      " [ 0.02272727]]\n",
      "with validation\n",
      "[[-0.04761905]\n",
      " [ 0.        ]\n",
      " [ 0.07142857]\n",
      " [ 1.5       ]\n",
      " [-0.09090909]]\n",
      "===FOLD : 4===\n",
      "with training\n",
      "[[-0.00793651]\n",
      " [ 0.        ]\n",
      " [-0.01785714]\n",
      " [ 0.25      ]\n",
      " [ 0.02272727]]\n",
      "with validation\n",
      "[[ 0.03174603]\n",
      " [ 0.        ]\n",
      " [ 0.07142857]\n",
      " [-1.        ]\n",
      " [-0.09090909]]\n"
     ]
    }
   ],
   "source": [
    "##single (final_df)로 하기 \n",
    "\n",
    "final_df = ohe.transform(df_col).todense()\n",
    "final_df.sum(axis=0)\n",
    "\n",
    "col2view = ['race.ethnicity']\n",
    "set_thing = set(label_tv[col2view].values.flatten()) #un split된 상태에서의 set을 써야함\n",
    "for FOLD, (train_idx, valid_idx) in enumerate(ikf.split(final_df, final_df)): \n",
    "    print(f\"===FOLD : {FOLD}===\")\n",
    "    train = label_tv.iloc[train_idx]\n",
    "    valid = label_tv.iloc[valid_idx]\n",
    "\n",
    "    print(\"with training\")\n",
    "    print(calc_prop_change(train[col2view].values, label_tv[col2view].values, set_thing = set_thing))\n",
    "    #print(calc_prop(train[col2view].values)) \n",
    "    \n",
    "    print(\"with validation\")\n",
    "    print(calc_prop_change(valid[col2view].values, label_tv[col2view].values, set_thing = set_thing))\n",
    "    \n",
    "##밑에 multilabel_matrix_maker를 정의해서 쓸것이기에 일단은 비워둠"
   ]
  },
  {
   "cell_type": "markdown",
   "id": "aff2308b-5711-4b32-9539-bf7fc44bf17c",
   "metadata": {},
   "source": [
    "## 3.5. Now doing regression thing "
   ]
  },
  {
   "cell_type": "code",
   "execution_count": 54,
   "id": "a90b9773-19f1-4cc2-b324-48c3f4f9fd90",
   "metadata": {},
   "outputs": [
    {
     "data": {
      "text/plain": [
       "(array([10., 33., 26., 18.,  3.,  5.,  2.,  1.,  0.,  2.]),\n",
       " array([ 42.75 ,  58.075,  73.4  ,  88.725, 104.05 , 119.375, 134.7  ,\n",
       "        150.025, 165.35 , 180.675, 196.   ]),\n",
       " <BarContainer object of 10 artists>)"
      ]
     },
     "execution_count": 54,
     "metadata": {},
     "output_type": "execute_result"
    },
    {
     "data": {
      "image/png": "[encoded data removed]",
      "text/plain": [
       "<Figure size 640x480 with 1 Axes>"
      ]
     },
     "metadata": {},
     "output_type": "display_data"
    }
   ],
   "source": [
    "plt.hist(label_tv[\"weight\"])"
   ]
  },
  {
   "cell_type": "code",
   "execution_count": 56,
   "id": "cf75370d-55fc-4a6d-9f1a-c12779ddb006",
   "metadata": {},
   "outputs": [],
   "source": []
  },
  {
   "cell_type": "code",
   "execution_count": 76,
   "id": "93202388-0df7-40ee-bdc4-a7409cfe188c",
   "metadata": {},
   "outputs": [
    {
     "data": {
      "text/plain": [
       "array([ 42.75,  60.  ,  64.5 ,  68.5 ,  73.  ,  76.8 ,  84.  ,  91.  ,\n",
       "        96.  , 123.  ])"
      ]
     },
     "execution_count": 76,
     "metadata": {},
     "output_type": "execute_result"
    }
   ],
   "source": [
    "np.sort(array)[::10]"
   ]
  },
  {
   "cell_type": "code",
   "execution_count": 101,
   "id": "6a7bcf4d-cdfc-4dba-ba8a-a70d92c073c1",
   "metadata": {},
   "outputs": [
    {
     "name": "stdout",
     "output_type": "stream",
     "text": [
      "-inf 57.6\n",
      "10\n",
      "57.6 64.0\n",
      "10\n",
      "64.0 68.0\n",
      "10\n",
      "68.0 73.0\n",
      "13\n",
      "73.0 76.75\n",
      "7\n",
      "76.75 83.0\n",
      "10\n",
      "83.0 89.2\n",
      "10\n",
      "89.2 95.0\n",
      "10\n",
      "95.0 116.55\n",
      "10\n",
      "116.55 196.0\n",
      "10\n"
     ]
    }
   ],
   "source": [
    "boundaries = np.sort(array)[::-10] #10개씩 자른다고 할때\n",
    "[(label_tv['weight']>=i).values.sum() for i in boundaries]\n",
    "\n",
    "\n",
    "total_df = []\n",
    "i_below = -np.infty\n",
    "for i in reversed(boundaries):\n",
    "    print(i_below, i)\n",
    "    labels = (label_tv['weight']>i_below) & (label_tv['weight']<=i) \n",
    "    i_below = i \n",
    "    \n",
    "    total_df.append(labels)\n",
    "    \n",
    "    print(labels.values.sum())"
   ]
  },
  {
   "cell_type": "code",
   "execution_count": null,
   "id": "69fd8a29-52ef-42b9-9a5d-f3dc736c122a",
   "metadata": {},
   "outputs": [],
   "source": []
  },
  {
   "cell_type": "code",
   "execution_count": 167,
   "id": "93bbb61c-8ccf-45ce-bd53-5775f6e4a487",
   "metadata": {},
   "outputs": [],
   "source": [
    "from sklearn.preprocessing import OneHotEncoder\n",
    "\n",
    "#get the boundaries to use to split into chunks with increasing value \n",
    "def slice_index(array, n_chunks ):\n",
    "    partitioned_list = np.array_split(np.sort(array), n_chunks)\n",
    "    return [i[-1] for i in partitioned_list]\n",
    "    \n",
    "\n",
    "def multilabel_matrix_maker(df, binary_cols = None, multiclass_cols = None , contiuous_cols = None , n_chunks = None) :\n",
    "    \"\"\"\n",
    "    returns matrix that will be used for multilabel, taking into account columns that are either multiclass or continuous\n",
    "    * df : the dataframe to be split\n",
    "    * binary_cols : LIST of cols (str)just cols that will be used (binarized)\n",
    "    * multiclass_cols : LIST of the cols (str) that are multi class\n",
    "    * continuous_cols : LIST of the cols (str) that will be split (continouous)\n",
    "    * n_chunks : if using continouous cols are used, how many split?\n",
    "    \n",
    "    outputs matrix that has binarized binarized for all columns (only needs to be used during iskf to get the indices)\n",
    "    \"\"\"\n",
    "    \n",
    "    \n",
    "    if binary_cols == multiclass_cols == contiuous_cols == None : #i.e. if all are None\n",
    "        raise ValueError(\"at least one of the cols have to be put.. currently all cols are selected as None\")\n",
    "    \n",
    "    #now adding binarized columns for each column types and aggregating them into total_cols\n",
    "    total_cols = []\n",
    "    if binary_cols : \n",
    "        for col in binary_cols :\n",
    "            print(col)\n",
    "            total_cols.append(df[col].values) #or single []?  ([[]] : df 로 만드는 것, [] : series로 만듬) \n",
    "            \n",
    "    if multiclass_cols :\n",
    "        for col in multiclass_cols : \n",
    "            df_col = df[[col]] #[[]] not [] because of dims \n",
    "            ohe = OneHotEncoder()\n",
    "            ohe.fit(df_col)\n",
    "            binarized_col = ohe.transform(df_col).todense() \n",
    "            total_cols.append(binarized_col)\n",
    "\n",
    "    if contiuous_cols : \n",
    "        if not n_chunks : \n",
    "            raise ValueError(\"n_chunks must be provided when runing continouous cols\")\n",
    "        else : \n",
    "            for col in contiuous_cols:\n",
    "                array = df[col].values\n",
    "                boundaries = slice_index(array, n_chunks)\n",
    "                print(boundaries)\n",
    "                i_below = -np.infty\n",
    "                for i in boundaries:\n",
    "                    print(i_below, i)\n",
    "                    extracted_df = (df[col]>i_below) & (df[col]<=i) \n",
    "                    i_below = i #update i_below\n",
    "                    \n",
    "                    total_cols.append(extracted_df.values.astype(float))     \n",
    "    \n",
    "    #adding all together, and doing some sanity check before returning the final thing \n",
    "    final_arr = np.column_stack(total_cols)\n",
    "    if np.isnan(final_arr).any():\n",
    "        raise ValueError(\"at least one of the leemnts of the final array is NaN. most likely your provided df had some NaN in columns that you are wanting to do iskf on\")\n",
    "    \n",
    "    return final_arr\n",
    "    \n",
    "    \n",
    "    \n",
    "    \n",
    "    "
   ]
  },
  {
   "cell_type": "code",
   "execution_count": 171,
   "id": "b9281887-dd5b-40af-bc17-464baa0bfc44",
   "metadata": {},
   "outputs": [
    {
     "name": "stdout",
     "output_type": "stream",
     "text": [
      "sex\n",
      "[115.0, 123.0, 131.0]\n",
      "-inf 115.0\n",
      "115.0 123.0\n",
      "123.0 131.0\n",
      "[16.32979962, 19.10771358, 35.09129664]\n",
      "-inf 16.32979962\n",
      "16.32979962 19.10771358\n",
      "19.10771358 35.09129664\n"
     ]
    }
   ],
   "source": [
    "aa = multilabel_matrix_maker(label_tv,binary_cols= ['sex'], contiuous_cols=['age', 'BMI'], n_chunks=3)"
   ]
  },
  {
   "cell_type": "code",
   "execution_count": 146,
   "id": "80b84625-502d-43df-81e0-8c391799b548",
   "metadata": {},
   "outputs": [
    {
     "data": {
      "text/plain": [
       "33"
      ]
     },
     "execution_count": 146,
     "metadata": {},
     "output_type": "execute_result"
    }
   ],
   "source": [
    "100//3"
   ]
  },
  {
   "cell_type": "code",
   "execution_count": 117,
   "id": "4db7554a-d061-4cf9-89af-72826335e0b3",
   "metadata": {},
   "outputs": [
    {
     "data": {
      "text/plain": [
       "20"
      ]
     },
     "execution_count": 117,
     "metadata": {},
     "output_type": "execute_result"
    }
   ],
   "source": [
    "round(100/5)"
   ]
  },
  {
   "cell_type": "code",
   "execution_count": 172,
   "id": "f66d094e-7c97-4e5d-bd2e-3bb55e1bf3a3",
   "metadata": {},
   "outputs": [
    {
     "name": "stdout",
     "output_type": "stream",
     "text": [
      "[16.32979962, 19.10771358, 35.09129664]\n",
      "-inf 16.32979962\n",
      "34\n",
      "16.32979962 19.10771358\n",
      "33\n",
      "19.10771358 35.09129664\n",
      "33\n"
     ]
    }
   ],
   "source": [
    "def slice_index(array, n_chunks ):\n",
    "    partitioned_list = np.array_split(np.sort(array), n_chunks)\n",
    "    return [i[-1] for i in partitioned_list]\n",
    "\n",
    "col = 'BMI'\n",
    "n_chunks = 3\n",
    "array = label_tv[col].values\n",
    "#boundaries = np.sort(array)[::-10] #10개씩 자른다고 할때\n",
    "\n",
    "boundaries = slice_index(array, n_chunks)\n",
    "print(boundaries)\n",
    "\n",
    "total_df = []\n",
    "i_below = -np.infty\n",
    "for i in boundaries:\n",
    "    print(i_below, i)\n",
    "    labels = (label_tv[col]>i_below) & (label_tv[col]<=i) \n",
    "    i_below = i \n",
    "    \n",
    "    total_df.append(labels)\n",
    "    \n",
    "    print(labels.values.sum())\n",
    "    \n",
    "\n",
    "    \n",
    "    \n",
    "    \n",
    "#not all chunks will have equal size, because in the case of age, multiple subjects have the same age, so dividing it doesn't work that well\n"
   ]
  },
  {
   "cell_type": "code",
   "execution_count": 164,
   "id": "afde0651-0224-4bf4-86d7-50a5109e1d41",
   "metadata": {},
   "outputs": [
    {
     "data": {
      "text/plain": [
       "array([1., 1., 0., 1., 1., 0., 0., 0., 0., 1., 0., 1., 0., 0., 0., 0., 1.,\n",
       "       0., 0., 0., 0., 1., 0., 0., 0., 0., 0., 0., 0., 0., 0., 0., 0., 0.,\n",
       "       0., 1., 0., 1., 1., 0., 0., 0., 1., 0., 0., 0., 0., 0., 1., 1., 0.,\n",
       "       1., 1., 0., 1., 1., 0., 0., 0., 0., 0., 1., 1., 0., 0., 1., 0., 1.,\n",
       "       0., 0., 0., 1., 0., 1., 0., 1., 0., 1., 0., 0., 0., 0., 0., 0., 0.,\n",
       "       1., 1., 0., 0., 0., 0., 1., 0., 1., 0., 1., 0., 0., 1., 1.])"
      ]
     },
     "execution_count": 164,
     "metadata": {},
     "output_type": "execute_result"
    }
   ],
   "source": [
    "labels.values.astype(float)"
   ]
  },
  {
   "cell_type": "code",
   "execution_count": 151,
   "id": "bf317645-2211-4690-b386-d3ef5f560da0",
   "metadata": {},
   "outputs": [
    {
     "data": {
      "text/plain": [
       "[array([108., 108., 108., 109., 109., 109., 109., 109., 109., 109., 109.,\n",
       "        109., 109., 109., 110., 110., 110., 111., 111., 111., 111., 111.,\n",
       "        111., 112., 112., 112., 113., 114., 114., 114., 114., 115., 115.,\n",
       "        115.]),\n",
       " array([116., 116., 116., 116., 117., 117., 118., 118., 118., 119., 119.,\n",
       "        119., 119., 119., 119., 120., 120., 120., 121., 122., 122., 122.,\n",
       "        122., 122., 122., 123., 123., 123., 123., 123., 123., 123., 123.]),\n",
       " array([124., 125., 125., 126., 126., 126., 126., 126., 126., 126., 127.,\n",
       "        127., 127., 128., 128., 128., 128., 128., 128., 129., 130., 130.,\n",
       "        130., 130., 130., 130., 131., 131., 131., 131., 131., 131., 131.])]"
      ]
     },
     "execution_count": 151,
     "metadata": {},
     "output_type": "execute_result"
    }
   ],
   "source": [
    "split_chunk(label_tv[col].values, 3)"
   ]
  },
  {
   "cell_type": "code",
   "execution_count": 150,
   "id": "ee8ed89d-e1de-450d-acd3-4097d543ec57",
   "metadata": {},
   "outputs": [
    {
     "data": {
      "text/plain": [
       "[115.0, 123.0, 131.0]"
      ]
     },
     "execution_count": 150,
     "metadata": {},
     "output_type": "execute_result"
    }
   ],
   "source": [
    "[i[-1] for i in split_chunk(label_tv[col].values, 3)]"
   ]
  },
  {
   "cell_type": "code",
   "execution_count": 154,
   "id": "66e8726f-5986-4944-9005-ab8198157632",
   "metadata": {},
   "outputs": [],
   "source": []
  },
  {
   "cell_type": "code",
   "execution_count": 155,
   "id": "0b2a6bf2-4f59-46c5-ab25-921a068fb6d7",
   "metadata": {},
   "outputs": [
    {
     "data": {
      "text/plain": [
       "[115.0, 123.0, 131.0]"
      ]
     },
     "execution_count": 155,
     "metadata": {},
     "output_type": "execute_result"
    }
   ],
   "source": [
    "slice_index(label_tv[col].values, 3)"
   ]
  },
  {
   "cell_type": "code",
   "execution_count": null,
   "id": "2cee3b90-0126-488c-9ed8-14ea8a940a55",
   "metadata": {},
   "outputs": [],
   "source": [
    "col = 'age'\n",
    "n_chunks = 3\n",
    "array = label_tv[col].values\n",
    "#boundaries = np.sort(array)[::-10] #10개씩 자른다고 할때\n",
    "\n",
    "boundaries = np.sort(array)[::-int(len(array)/n_chunks)] #10개씩 자른다고 할때\n",
    "print(boundaries)\n",
    "\n",
    "total_df = []\n",
    "i_below = -np.infty\n",
    "for i in reversed(boundaries):\n",
    "    print(i_below, i)\n",
    "    labels = (label_tv[col]>i_below) & (label_tv[col]<=i) \n",
    "    i_below = i \n",
    "    \n",
    "    total_df.append(labels)\n",
    "    \n",
    "    print(labels.values.sum())\n",
    "    \n",
    "#not all chunks will have equal size, because in the case of age, multiple subjects have the same age, so dividing it doesn't work that well\n",
    "\n"
   ]
  },
  {
   "cell_type": "code",
   "execution_count": null,
   "id": "61744f81-3843-4a5d-8107-4eba4c5b29de",
   "metadata": {},
   "outputs": [],
   "source": []
  },
  {
   "cell_type": "code",
   "execution_count": null,
   "id": "dc2758bd-11d0-41cb-9161-b1fabdad907f",
   "metadata": {},
   "outputs": [],
   "source": []
  },
  {
   "cell_type": "code",
   "execution_count": null,
   "id": "d83c5277-9f5c-4f98-89fd-59dd5010c550",
   "metadata": {},
   "outputs": [],
   "source": []
  },
  {
   "cell_type": "code",
   "execution_count": 134,
   "id": "eb816155-ccec-4fb0-9c99-d8ed8ae23df1",
   "metadata": {},
   "outputs": [
    {
     "data": {
      "text/plain": [
       "array([108., 108., 108., 109., 109., 109., 109., 109., 109., 109., 109.,\n",
       "       109., 109., 109., 110., 110., 110., 111., 111., 111., 111., 111.,\n",
       "       111., 112., 112., 112., 113., 114., 114., 114., 114., 115., 115.,\n",
       "       115., 116., 116., 116., 116., 117., 117., 118., 118., 118., 119.,\n",
       "       119., 119., 119., 119., 119., 120., 120., 120., 121., 122., 122.,\n",
       "       122., 122., 122., 122., 123., 123., 123., 123., 123., 123., 123.,\n",
       "       123., 124., 125., 125., 126., 126., 126., 126., 126., 126., 126.,\n",
       "       127., 127., 127., 128., 128., 128., 128., 128., 128., 129., 130.,\n",
       "       130., 130., 130., 130., 130., 131., 131., 131., 131., 131., 131.,\n",
       "       131.])"
      ]
     },
     "execution_count": 134,
     "metadata": {},
     "output_type": "execute_result"
    }
   ],
   "source": [
    "np.sort(label_tv['age'].values)"
   ]
  },
  {
   "cell_type": "code",
   "execution_count": 50,
   "id": "9bd058e4-84b6-442a-807c-64c52c989670",
   "metadata": {},
   "outputs": [
    {
     "data": {
      "text/plain": [
       "matrix([[63., 10., 14.,  2., 11.]])"
      ]
     },
     "execution_count": 50,
     "metadata": {},
     "output_type": "execute_result"
    }
   ],
   "source": [
    "final_df.sum(axis = 0)"
   ]
  },
  {
   "cell_type": "code",
   "execution_count": 53,
   "id": "7b8eed1b-98d5-43e3-af1f-dcfc4caf16c5",
   "metadata": {},
   "outputs": [
    {
     "name": "stdout",
     "output_type": "stream",
     "text": [
      "sex\n"
     ]
    },
    {
     "data": {
      "text/plain": [
       "matrix([[146.,  63.,  10.,  14.,   2.,  11.]])"
      ]
     },
     "execution_count": 53,
     "metadata": {},
     "output_type": "execute_result"
    }
   ],
   "source": [
    "multilabel_matrix_maker(label_tv, binary_cols=[\"sex\"],multiclass_cols= [\"race.ethnicity\"]).sum(axis=0)\n",
    "\n",
    "#multilabel_matrix_maker(label_tv,multiclass_cols= [\"race.ethnicity\"]).sum(axis=0)\n"
   ]
  },
  {
   "cell_type": "code",
   "execution_count": null,
   "id": "32bdab42-fe93-4cee-988c-81431e941ccc",
   "metadata": {},
   "outputs": [],
   "source": []
  },
  {
   "cell_type": "code",
   "execution_count": null,
   "id": "3ebdde46-2ef0-415b-8b97-bb2803864b85",
   "metadata": {},
   "outputs": [],
   "source": []
  },
  {
   "cell_type": "code",
   "execution_count": null,
   "id": "a4869b52-5d96-42cd-90cd-18834c52320e",
   "metadata": {},
   "outputs": [],
   "source": []
  },
  {
   "cell_type": "code",
   "execution_count": null,
   "id": "348144eb-c9ad-4e83-931f-68b0a33832fb",
   "metadata": {},
   "outputs": [],
   "source": []
  },
  {
   "cell_type": "code",
   "execution_count": null,
   "id": "e1997242-95e4-4826-a7d7-c60af2fe418d",
   "metadata": {},
   "outputs": [],
   "source": []
  },
  {
   "cell_type": "code",
   "execution_count": null,
   "id": "3568f987-8625-42fa-ae46-476e512ddc2e",
   "metadata": {},
   "outputs": [],
   "source": []
  },
  {
   "cell_type": "code",
   "execution_count": null,
   "id": "1be20691-6621-43a0-bd2b-0204a715331f",
   "metadata": {},
   "outputs": [],
   "source": []
  },
  {
   "cell_type": "code",
   "execution_count": null,
   "id": "932baf2b-d0ac-4de0-9928-d6adb51b3d89",
   "metadata": {},
   "outputs": [],
   "source": []
  },
  {
   "cell_type": "code",
   "execution_count": null,
   "id": "38bb176c-380b-4383-8790-47c220d049de",
   "metadata": {},
   "outputs": [],
   "source": [
    "label_tv[\"Conduct.Disorder.x\"].values"
   ]
  },
  {
   "cell_type": "code",
   "execution_count": null,
   "id": "256138d8-193d-4328-ac14-e2bd554b5ee4",
   "metadata": {},
   "outputs": [],
   "source": [
    "label_tv[col2view]"
   ]
  },
  {
   "cell_type": "code",
   "execution_count": null,
   "id": "155e4632-2ea4-4c1b-8034-0d624523bb70",
   "metadata": {},
   "outputs": [],
   "source": [
    "for train,test in k_fold.split(X,y_multiclass):\n",
    "    x_train,y_train = X[train], y_multiclass[train]\n",
    "    x_test,y_test = X[test], y_multiclass[test]\n",
    "    #print(x_train.shape, x_test.shape)\n",
    "    \n",
    "#이거보고하기!"
   ]
  },
  {
   "cell_type": "code",
   "execution_count": null,
   "id": "609e79b8-0909-4368-a320-1053d0fffbf5",
   "metadata": {},
   "outputs": [],
   "source": [
    "float_thing = np.array(label_tv[['sex','married']].values, dtype = float)\n",
    "for train_idx, valid_idx in kf.split(np.arange(len(label_tv)), float_thing): \n",
    "    print(train_idx)"
   ]
  },
  {
   "cell_type": "code",
   "execution_count": null,
   "id": "5740b388-9090-4014-8180-9ad05ea63ea3",
   "metadata": {},
   "outputs": [],
   "source": [
    "for i, (train,test) in enumerate(k_fold.split(np.arange(len(y)),y)):\n",
    "    #X is meaningless so just ignore \n",
    "    #x_train,y_train = X[train], y[train]\n",
    "    #x_test,y_test = X[test], y[test]\n",
    "    \n",
    "    print(y[train].shape, y[test].shape)\n"
   ]
  },
  {
   "cell_type": "code",
   "execution_count": null,
   "id": "1c18aedd-6d22-472e-9c27-c9405254b2a1",
   "metadata": {},
   "outputs": [],
   "source": [
    "X.shape"
   ]
  },
  {
   "cell_type": "code",
   "execution_count": null,
   "id": "6a800cd0-a8b0-4c91-b66d-b010c300b107",
   "metadata": {},
   "outputs": [],
   "source": [
    "len(y)"
   ]
  },
  {
   "cell_type": "code",
   "execution_count": null,
   "id": "83051799-15bb-47bc-81fd-c7b63def78f6",
   "metadata": {},
   "outputs": [],
   "source": [
    "np.array(label_tv[[\"sex\", \"married\"]].values, dtype = float)"
   ]
  },
  {
   "cell_type": "code",
   "execution_count": null,
   "id": "02d60e0d-dda6-4d43-9ec2-81b6267771da",
   "metadata": {},
   "outputs": [],
   "source": []
  },
  {
   "cell_type": "code",
   "execution_count": null,
   "id": "c70664c7-a9ba-418f-8150-d2faaad907e7",
   "metadata": {},
   "outputs": [],
   "source": []
  },
  {
   "cell_type": "code",
   "execution_count": null,
   "id": "a177b0e4-623f-473c-9544-454647b1cdd7",
   "metadata": {},
   "outputs": [],
   "source": []
  },
  {
   "cell_type": "code",
   "execution_count": null,
   "id": "c52421d9-4d02-4509-84db-eb0b3e71bff9",
   "metadata": {},
   "outputs": [],
   "source": []
  },
  {
   "cell_type": "code",
   "execution_count": null,
   "id": "f1e65904-1beb-440e-a745-9c0398130f15",
   "metadata": {},
   "outputs": [],
   "source": []
  },
  {
   "cell_type": "code",
   "execution_count": null,
   "id": "cedecd09-1195-4a5f-93b6-9eec4ef827aa",
   "metadata": {},
   "outputs": [],
   "source": []
  },
  {
   "cell_type": "code",
   "execution_count": null,
   "id": "cdd8146d-b31b-4600-8282-8a7dc7665dfe",
   "metadata": {},
   "outputs": [],
   "source": []
  },
  {
   "cell_type": "code",
   "execution_count": null,
   "id": "5599b6ff-3783-43e0-9f3a-068f0b21f8af",
   "metadata": {},
   "outputs": [],
   "source": []
  },
  {
   "cell_type": "code",
   "execution_count": null,
   "id": "1ebc9a52-e202-49cc-8daf-4ecdf289d48c",
   "metadata": {},
   "outputs": [],
   "source": [
    "train_idx"
   ]
  },
  {
   "cell_type": "code",
   "execution_count": null,
   "id": "0363c9ab-0ef1-4016-b0dd-5a3a5adac38d",
   "metadata": {},
   "outputs": [],
   "source": [
    "label_tv[label_name]"
   ]
  },
  {
   "cell_type": "code",
   "execution_count": null,
   "id": "4d5f0404-cffd-41e3-b4b0-f56a13202624",
   "metadata": {},
   "outputs": [],
   "source": [
    "np.max(train[label_name])"
   ]
  },
  {
   "cell_type": "code",
   "execution_count": null,
   "id": "8bfa1176-0151-4884-8adf-f75cff6c44c7",
   "metadata": {},
   "outputs": [],
   "source": [
    "set(train[label_name])"
   ]
  },
  {
   "cell_type": "code",
   "execution_count": null,
   "id": "0c43a8de-9b69-4849-b611-ff1f7481b9aa",
   "metadata": {},
   "outputs": [],
   "source": [
    "aggregate = []\n",
    "arr = train[label_name]\n",
    "for i in set(train[label_name]):\n",
    "    aggregate.append(np.count_nonzero(arr == i, axis=0))\n",
    "print(np.array(aggregate)/arr.shape[0])"
   ]
  },
  {
   "cell_type": "code",
   "execution_count": null,
   "id": "a686adc3-2e93-4484-81a8-ea5a42ac9dab",
   "metadata": {},
   "outputs": [],
   "source": [
    "aaaa #meant to interrupt it "
   ]
  },
  {
   "cell_type": "code",
   "execution_count": null,
   "id": "fd029f9c-d4bd-4202-9586-b9a4f02c746f",
   "metadata": {},
   "outputs": [],
   "source": [
    "small_y = y_multiclass[:5]\n",
    "print(np.count_nonzero(small_y == 0, axis = 0),\n",
    "np.count_nonzero(small_y == 1, axis = 0),\n",
    "np.count_nonzero(small_y == 2, axis = 0))\n",
    "\n",
    "\n"
   ]
  },
  {
   "cell_type": "code",
   "execution_count": null,
   "id": "6134d44c-c661-4730-8a87-7bb1ac49c93b",
   "metadata": {},
   "outputs": [],
   "source": [
    "small_y"
   ]
  },
  {
   "cell_type": "code",
   "execution_count": null,
   "id": "954b97fe-923c-4591-8204-9c3577a9a9e1",
   "metadata": {},
   "outputs": [],
   "source": [
    "100*calc_prop(y)"
   ]
  },
  {
   "cell_type": "code",
   "execution_count": null,
   "id": "3cd55f99-6089-4196-a2e2-72a4bde857fc",
   "metadata": {},
   "outputs": [],
   "source": [
    "np.max(small_y)"
   ]
  },
  {
   "cell_type": "code",
   "execution_count": null,
   "id": "6556b95d-912c-4e44-8822-31db79facc6c",
   "metadata": {},
   "outputs": [],
   "source": [
    "def calc_prop_multiclass(arr):\n",
    "    aggregate = []\n",
    "    for i in range(np.max(arr)+1):\n",
    "        aggregate.append(np.count_nonzero(arr == i, axis=0))\n",
    "    return np.array(aggregate)/arr.shape[0]\n",
    "\n",
    "\n",
    "\n",
    "def calc_prop_change_multiclass(arr, base_arr):\n",
    "    thing = (calc_prop_multiclass(arr)-calc_prop_multiclass(base_arr))/calc_prop_multiclass(base_arr)\n",
    "    return thing"
   ]
  },
  {
   "cell_type": "code",
   "execution_count": null,
   "id": "7f1b94b8-ca6f-482f-9685-7ae43a5fde69",
   "metadata": {},
   "outputs": [],
   "source": [
    "calc_prop_multiclass(y_multiclass)"
   ]
  },
  {
   "cell_type": "code",
   "execution_count": null,
   "id": "d31ac180-6c36-4448-b35b-d284870a5610",
   "metadata": {},
   "outputs": [],
   "source": [
    "calc_prop_change_multiclass(y_multiclass[:8],y_multiclass)"
   ]
  },
  {
   "cell_type": "code",
   "execution_count": null,
   "id": "a18e0a9e-937b-4138-bbcb-61a6a2f8adcd",
   "metadata": {},
   "outputs": [],
   "source": [
    "y_multiclass[:10]"
   ]
  },
  {
   "cell_type": "code",
   "execution_count": null,
   "id": "10b229e2-d694-494d-8edf-6835a1c60cc6",
   "metadata": {},
   "outputs": [],
   "source": [
    "y_multiclass"
   ]
  },
  {
   "cell_type": "code",
   "execution_count": null,
   "id": "fa702090-fb78-4760-a1b2-17244c63cf7b",
   "metadata": {},
   "outputs": [],
   "source": []
  },
  {
   "cell_type": "code",
   "execution_count": null,
   "id": "f0e45e19-b083-4b9f-bb1a-e7081897d403",
   "metadata": {},
   "outputs": [],
   "source": []
  },
  {
   "cell_type": "code",
   "execution_count": null,
   "id": "656e3f3f-5ac4-4a71-abb0-2b16ee4fa54a",
   "metadata": {},
   "outputs": [],
   "source": []
  },
  {
   "cell_type": "code",
   "execution_count": null,
   "id": "64c0a71e-4b21-48fa-8e42-32e28ff319de",
   "metadata": {},
   "outputs": [],
   "source": []
  },
  {
   "cell_type": "markdown",
   "id": "95bd8567-9dc7-4c73-8707-b3c99a24a719",
   "metadata": {},
   "source": [
    "### past stuff (sparse X, y 쓸대인데... 그냥 일반적인 dense 써도 되어서 아놤)"
   ]
  },
  {
   "cell_type": "code",
   "execution_count": null,
   "id": "b0a3732b-7166-4960-a007-95e3deab665d",
   "metadata": {},
   "outputs": [],
   "source": [
    "from skmultilearn.dataset import load_dataset\n",
    "X, y, _, _ = load_dataset('emotions', 'train')"
   ]
  },
  {
   "cell_type": "code",
   "execution_count": null,
   "id": "33c5e38d-1b6a-450f-b838-46fb249f5bac",
   "metadata": {},
   "outputs": [],
   "source": [
    "##looking at data\n",
    "print(X.shape, y.shape)\n",
    "\n",
    "\n",
    "for i, y_i in enumerate(y):\n",
    "    print(f\"===the {i}th target is===\")\n",
    "    print(y_i)\n",
    "    if i == 5:\n",
    "        break\n",
    "#here, y is sparse (hence where the sparse thing came from)"
   ]
  },
  {
   "cell_type": "code",
   "execution_count": null,
   "id": "9cfbc692-da57-4ec7-9937-c512f66dfdbd",
   "metadata": {},
   "outputs": [],
   "source": []
  }
 ],
 "metadata": {
  "kernelspec": {
   "display_name": "VAE_3DCNN_older_MONAI",
   "language": "python",
   "name": "vae_3dcnn_older_monai"
  },
  "language_info": {
   "codemirror_mode": {
    "name": "ipython",
    "version": 3
   },
   "file_extension": ".py",
   "mimetype": "text/x-python",
   "name": "python",
   "nbconvert_exporter": "python",
   "pygments_lexer": "ipython3",
   "version": "3.8.10"
  }
 },
 "nbformat": 4,
 "nbformat_minor": 5
}
