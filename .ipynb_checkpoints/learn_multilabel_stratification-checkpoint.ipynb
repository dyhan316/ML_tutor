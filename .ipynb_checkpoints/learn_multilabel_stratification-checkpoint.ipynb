{
 "cells": [
  {
   "cell_type": "markdown",
   "id": "4f59615e-eabb-4ec5-a191-837660c5b558",
   "metadata": {
    "tags": []
   },
   "source": [
    "## study multilabel stratification function \n",
    "\n",
    "study https://stackoverflow.com/questions/53378970/how-to-perform-multilabel-stratified-sampling"
   ]
  },
  {
   "cell_type": "code",
   "execution_count": 1,
   "id": "ff275249-81dd-4f8a-bf8a-ff013ad7a134",
   "metadata": {},
   "outputs": [
    {
     "name": "stdout",
     "output_type": "stream",
     "text": [
      "(1000, 10) (1000, 3)\n",
      "[ 3.  3.  6.  7.  8.  2. 11. 11.  1.  3.] [1 1 0]\n",
      "[7. 6. 4. 4. 6. 8. 3. 4. 6. 4.] [0 0 0]\n",
      "[ 5.  5. 13.  7.  6.  3.  6. 11.  4.  2.] [1 1 0]\n",
      "[1. 1. 5. 5. 7. 3. 4. 6. 4. 4.] [1 1 1]\n",
      "[ 4.  2.  3. 13.  7.  2.  4. 12.  1.  7.] [0 1 0]\n",
      "[ 4.  3.  3.  2.  5.  2.  3.  7.  2. 10.] [0 0 0]\n",
      "[ 3.  3.  3. 11.  6.  3.  4. 14.  1.  3.] [0 1 0]\n",
      "[ 2.  1.  7.  8.  4.  5. 10.  4.  6.  6.] [1 1 1]\n",
      "[ 5.  1.  9.  5.  3.  4. 11.  8.  1.  8.] [1 1 1]\n",
      "[ 2. 11.  7.  6.  2.  2.  9. 11.  9.  3.] [1 1 1]\n"
     ]
    }
   ],
   "source": [
    "# example of a multi-label classification task\n",
    "from sklearn.datasets import make_multilabel_classification\n",
    "import numpy as np \n",
    "# define dataset\n",
    "X, y = make_multilabel_classification(n_samples=1000, n_features=10, n_classes=3, n_labels=2, random_state=1)\n",
    "# summarize dataset shape\n",
    "print(X.shape, y.shape)\n",
    "# summarize first few examples\n",
    "for i in range(10):\n",
    "\tprint(X[i], y[i])"
   ]
  },
  {
   "cell_type": "code",
   "execution_count": 2,
   "id": "8d24194c-ee55-4bb3-9dbe-0b7a764e3c2a",
   "metadata": {},
   "outputs": [],
   "source": [
    "from skmultilearn.model_selection import iterative_train_test_split\n",
    "x_train, y_train, x_test, y_test = iterative_train_test_split(X, y, test_size = 0.2)"
   ]
  },
  {
   "cell_type": "code",
   "execution_count": 3,
   "id": "349ebbe6-a829-44a0-a85d-01125098c7bf",
   "metadata": {},
   "outputs": [],
   "source": [
    "#def calc_prop(arr):\n",
    "#    return arr.sum(axis=0)/arr.shape[0]\n",
    "#\n",
    "#def calc_prop_change(arr, base_arr):\n",
    "#    thing = (calc_prop(arr)-calc_prop(base_arr))/calc_prop(base_arr)\n",
    "#    #return np.array([round(thing_i,5) for thing_i in thing])\n",
    "#    return thing\n",
    "\n",
    "\n",
    "def calc_prop(arr):\n",
    "    aggregate = []\n",
    "    #for i in range(np.max(arr)+1):\n",
    "    if type(arr) == np.ndarray : \n",
    "        set_thing = set(arr.flatten())\n",
    "    else : \n",
    "        set_thing = set(arr)\n",
    "    for i in set_thing:\n",
    "        aggregate.append(np.count_nonzero(arr == i, axis=0))\n",
    "    return np.array(aggregate)/arr.shape[0]\n",
    "\n",
    "\n",
    "def calc_prop_change(arr, base_arr):\n",
    "    thing = (calc_prop(arr)-calc_prop(base_arr))/calc_prop(base_arr)\n",
    "    return thing"
   ]
  },
  {
   "cell_type": "code",
   "execution_count": 4,
   "id": "7955fc9c-750b-41b0-8e3b-6bc7a9ade94d",
   "metadata": {},
   "outputs": [
    {
     "data": {
      "text/plain": [
       "array([[36.3, 26.9, 79.5],\n",
       "       [63.7, 73.1, 20.5]])"
      ]
     },
     "execution_count": 4,
     "metadata": {},
     "output_type": "execute_result"
    }
   ],
   "source": [
    "##base proportions\n",
    "100*calc_prop(y)"
   ]
  },
  {
   "cell_type": "code",
   "execution_count": 5,
   "id": "fcc1f30d-acc3-4298-9fac-158518fafa96",
   "metadata": {},
   "outputs": [
    {
     "data": {
      "text/plain": [
       "(array([[-0.13774105, -0.0929368 ,  1.41509434],\n",
       "        [ 0.07849294,  0.03419973, -5.48780488]]),\n",
       " array([[ 0.55096419,  0.37174721, -5.66037736],\n",
       "        [-0.31397174, -0.13679891, 21.95121951]]))"
      ]
     },
     "execution_count": 5,
     "metadata": {},
     "output_type": "execute_result"
    }
   ],
   "source": [
    "##y-wise difference\n",
    "100*calc_prop_change(y_train,y), 100*calc_prop_change(y_test,y) #percentage wise"
   ]
  },
  {
   "cell_type": "code",
   "execution_count": 6,
   "id": "2657b9c2-c21f-46d5-9cf5-6a44c7efa7e2",
   "metadata": {},
   "outputs": [],
   "source": [
    "##can see that division was well done, and the proportions was somewhat well preserved for all the three categories\n",
    "#however, NOT cross validation (only one split)"
   ]
  },
  {
   "cell_type": "markdown",
   "id": "7e518ce8-4abc-4d2e-bdb3-32b06260de45",
   "metadata": {
    "tags": []
   },
   "source": [
    "# Cross validaiton using multilabel \n",
    "* http://scikit.ml/concepts.html#The-multi-label-data-representation, http://scikit.ml/stratification.html\n",
    "\n",
    "look at this! (iterative stratification) : http://scikit.ml/api/skmultilearn.model_selection.iterative_stratification.html#module-skmultilearn.model_selection.iterative_stratification => this seems to be the kfold versio nthingie\n",
    "\n",
    "\n",
    "* X : (n_samples, n_features) (dense ones like np arrays are possible)\n",
    "* y : (n_samples, n_labels)\n",
    "    * **the labels in y shouldn't be mmore than binary class!** (see below)\n",
    "> y is expected to be a binary integer indicator matrix of shape. In the binary indicator matrix each matrix element A[i,j] should be either 1 if label j is assigned to an object no i, and 0 if not.\n",
    "    * therefore, stratified 할때 binary 해야함!\n",
    "        * **sklearn은 binary/multiclass 다되는데.... 이거는 안되나?**"
   ]
  },
  {
   "cell_type": "markdown",
   "id": "383cea3f-0c4f-4a78-83f4-931ff36fd860",
   "metadata": {
    "tags": []
   },
   "source": [
    "## 2.1. ABCD config에서 가져오기 \n"
   ]
  },
  {
   "cell_type": "code",
   "execution_count": 7,
   "id": "af34ae8c-a52c-4967-b868-c4583cd4727a",
   "metadata": {},
   "outputs": [],
   "source": [
    "import sys \n",
    "import pandas as pd \n",
    "import numpy as np \n",
    "label_csv = '/scratch/connectome/dyhan316/VAE_ADHD/junbeom_finetuning/csv/ABCD_csv/ABCD_phenotype_total_ONLY_MRI.csv'"
   ]
  },
  {
   "cell_type": "code",
   "execution_count": 8,
   "id": "3834df8c-0508-44c2-b660-d849140633d5",
   "metadata": {},
   "outputs": [],
   "source": [
    "from sklearn.model_selection import StratifiedKFold, KFold\n",
    "kf = StratifiedKFold(n_splits=5)\n",
    "\n",
    "labels = pd.read_csv(label_csv)\n",
    "\n",
    "label_name = \"sex\"\n",
    "labels = labels[labels[label_name].notna()] #이파트를 더 추가해야할듯 (if doing stuff)\n",
    "labels = labels[labels['married'].notna()] #이파트를 더 추가해야할듯 (if doing stuff)\n",
    "labels[label_name] = labels[label_name].astype('str') #regressino하려면 이파트를 바꿔야할듯 \n",
    "\n",
    "task_include = ['1.0','2.0']\n",
    "data_1 = labels[labels[label_name] == task_include[0]]\n",
    "data_2 = labels[labels[label_name] == task_include[1]]\n",
    "data_1 = data_1[:50]\n",
    "data_2 = data_2[:50]\n",
    "\n",
    "label_tv = pd.concat([data_1, data_2])\n",
    "\n",
    "col2view = ['sex','age']\n",
    "\n",
    "##default thing \n"
   ]
  },
  {
   "cell_type": "code",
   "execution_count": 9,
   "id": "9a98fdb7-cb93-4c26-bc6d-c50f3c3e4a71",
   "metadata": {},
   "outputs": [
    {
     "name": "stdout",
     "output_type": "stream",
     "text": [
      "['sex', 'age']\n",
      "[[0.   0.06]\n",
      " [0.   0.02]\n",
      " [0.   0.06]\n",
      " [0.   0.06]\n",
      " [0.5  0.  ]\n",
      " [0.5  0.  ]\n",
      " [0.   0.03]\n",
      " [0.   0.1 ]\n",
      " [0.   0.03]\n",
      " [0.   0.06]\n",
      " [0.   0.03]\n",
      " [0.   0.01]\n",
      " [0.   0.04]\n",
      " [0.   0.03]\n",
      " [0.   0.03]\n",
      " [0.   0.02]\n",
      " [0.   0.05]\n",
      " [0.   0.07]\n",
      " [0.   0.02]\n",
      " [0.   0.02]\n",
      " [0.   0.06]\n",
      " [0.   0.08]\n",
      " [0.   0.01]\n",
      " [0.   0.02]\n",
      " [0.   0.07]\n",
      " [0.   0.02]]\n",
      "===FOLD : 0===\n",
      "with training\n"
     ]
    },
    {
     "ename": "ValueError",
     "evalue": "operands could not be broadcast together with shapes (25,2) (26,2) ",
     "output_type": "error",
     "traceback": [
      "\u001b[0;31m---------------------------------------------------------------------------\u001b[0m",
      "\u001b[0;31mValueError\u001b[0m                                Traceback (most recent call last)",
      "Input \u001b[0;32mIn [9]\u001b[0m, in \u001b[0;36m<cell line: 8>\u001b[0;34m()\u001b[0m\n\u001b[1;32m     11\u001b[0m valid \u001b[38;5;241m=\u001b[39m label_tv\u001b[38;5;241m.\u001b[39miloc[valid_idx]\n\u001b[1;32m     13\u001b[0m \u001b[38;5;28mprint\u001b[39m(\u001b[38;5;124m\"\u001b[39m\u001b[38;5;124mwith training\u001b[39m\u001b[38;5;124m\"\u001b[39m)\n\u001b[0;32m---> 14\u001b[0m \u001b[38;5;28mprint\u001b[39m(\u001b[43mcalc_prop_change\u001b[49m\u001b[43m(\u001b[49m\u001b[43mtrain\u001b[49m\u001b[43m[\u001b[49m\u001b[43mcol2view\u001b[49m\u001b[43m]\u001b[49m\u001b[38;5;241;43m.\u001b[39;49m\u001b[43mvalues\u001b[49m\u001b[43m,\u001b[49m\u001b[43m \u001b[49m\u001b[43mlabel_tv\u001b[49m\u001b[43m[\u001b[49m\u001b[43mcol2view\u001b[49m\u001b[43m]\u001b[49m\u001b[38;5;241;43m.\u001b[39;49m\u001b[43mvalues\u001b[49m\u001b[43m)\u001b[49m)\n\u001b[1;32m     17\u001b[0m \u001b[38;5;28mprint\u001b[39m(\u001b[38;5;124m\"\u001b[39m\u001b[38;5;124mwith validation\u001b[39m\u001b[38;5;124m\"\u001b[39m)\n\u001b[1;32m     18\u001b[0m \u001b[38;5;28;01mif\u001b[39;00m FOLD \u001b[38;5;241m==\u001b[39m \u001b[38;5;241m2\u001b[39m : \n",
      "Input \u001b[0;32mIn [3]\u001b[0m, in \u001b[0;36mcalc_prop_change\u001b[0;34m(arr, base_arr)\u001b[0m\n\u001b[1;32m     22\u001b[0m \u001b[38;5;28;01mdef\u001b[39;00m \u001b[38;5;21mcalc_prop_change\u001b[39m(arr, base_arr):\n\u001b[0;32m---> 23\u001b[0m     thing \u001b[38;5;241m=\u001b[39m (\u001b[43mcalc_prop\u001b[49m\u001b[43m(\u001b[49m\u001b[43marr\u001b[49m\u001b[43m)\u001b[49m\u001b[38;5;241;43m-\u001b[39;49m\u001b[43mcalc_prop\u001b[49m\u001b[43m(\u001b[49m\u001b[43mbase_arr\u001b[49m\u001b[43m)\u001b[49m)\u001b[38;5;241m/\u001b[39mcalc_prop(base_arr)\n\u001b[1;32m     24\u001b[0m     \u001b[38;5;28;01mreturn\u001b[39;00m thing\n",
      "\u001b[0;31mValueError\u001b[0m: operands could not be broadcast together with shapes (25,2) (26,2) "
     ]
    }
   ],
   "source": [
    "\n",
    "##first, get the things\n",
    "\n",
    "#print(calc_prop(label_tv[['sex','married']].values))\n",
    "print(col2view)\n",
    "print(calc_prop(label_tv[col2view].values))\n",
    "\n",
    "\n",
    "for FOLD, (train_idx, valid_idx) in enumerate(kf.split(label_tv, label_tv[label_name])): \n",
    "    print(f\"===FOLD : {FOLD}===\")\n",
    "    train = label_tv.iloc[train_idx]\n",
    "    valid = label_tv.iloc[valid_idx]\n",
    "    \n",
    "    print(\"with training\")\n",
    "    print(calc_prop_change(train[col2view].values, label_tv[col2view].values))\n",
    "    \n",
    "    \n",
    "    print(\"with validation\")\n",
    "    if FOLD == 2 : \n",
    "        import pdb; pdb.set_trace()\n",
    "    print(calc_prop_change(valid[col2view].values, label_tv[col2view].values))\n",
    "    #view_train = train[['sex','married']]\n",
    "    #print(calc_prop_change(.values, values = ))"
   ]
  },
  {
   "cell_type": "code",
   "execution_count": null,
   "id": "a187439d-57f6-4368-8c3a-a54a24bb44a7",
   "metadata": {},
   "outputs": [],
   "source": [
    "train[['sex','married']].values\n"
   ]
  },
  {
   "cell_type": "code",
   "execution_count": null,
   "id": "c7ffc2c4-3af7-4680-a9c5-ce7e5f853b94",
   "metadata": {},
   "outputs": [],
   "source": [
    "label_tv.iloc[train_idx]"
   ]
  },
  {
   "cell_type": "code",
   "execution_count": null,
   "id": "1ebc9a52-e202-49cc-8daf-4ecdf289d48c",
   "metadata": {},
   "outputs": [],
   "source": [
    "train_idx"
   ]
  },
  {
   "cell_type": "code",
   "execution_count": null,
   "id": "0363c9ab-0ef1-4016-b0dd-5a3a5adac38d",
   "metadata": {},
   "outputs": [],
   "source": [
    "label_tv[label_name]"
   ]
  },
  {
   "cell_type": "code",
   "execution_count": null,
   "id": "4d5f0404-cffd-41e3-b4b0-f56a13202624",
   "metadata": {},
   "outputs": [],
   "source": [
    "np.max(train[label_name])"
   ]
  },
  {
   "cell_type": "code",
   "execution_count": null,
   "id": "8bfa1176-0151-4884-8adf-f75cff6c44c7",
   "metadata": {},
   "outputs": [],
   "source": [
    "set(train[label_name])"
   ]
  },
  {
   "cell_type": "code",
   "execution_count": null,
   "id": "0c43a8de-9b69-4849-b611-ff1f7481b9aa",
   "metadata": {},
   "outputs": [],
   "source": [
    "aggregate = []\n",
    "arr = train[label_name]\n",
    "for i in set(train[label_name]):\n",
    "    aggregate.append(np.count_nonzero(arr == i, axis=0))\n",
    "print(np.array(aggregate)/arr.shape[0])"
   ]
  },
  {
   "cell_type": "markdown",
   "id": "8ab7c62c-5cc6-4be6-b320-4f42ae8caa81",
   "metadata": {},
   "source": [
    "## 2.2. now doing iterative stratification\n",
    "(http://scikit.ml/api/skmultilearn.model_selection.iterative_stratification.html#module-skmultilearn.model_selection.iterative_stratification) \n",
    "\n"
   ]
  },
  {
   "cell_type": "code",
   "execution_count": null,
   "id": "40a3438f-7ca9-43da-90ac-4287b6d1d29d",
   "metadata": {},
   "outputs": [],
   "source": [
    "from skmultilearn.model_selection import IterativeStratification\n",
    "k_fold = IterativeStratification(n_splits=5, order=1) #on't increae the order (i think)(if > 1, does with replacement)\n",
    "print(100*calc_prop(y))\n",
    "\n",
    "total_val_set = set()\n",
    "\n",
    "for train,test in k_fold.split(X,y):\n",
    "    x_train,y_train = X[train], y[train]\n",
    "    x_test,y_test = X[test], y[test]\n",
    "    print(\"\\n===y_train, y_test percentage deviations from y (%)===\")\n",
    "    print(x_train.shape, y_train.shape, x_test.shape, y_test.shape)\n",
    "    \n",
    "    print(100*calc_prop_change(y_train,y))\n",
    "    print(100*calc_prop_change(y_test,y))\n",
    "    #print(calc_prop_change(train,X))\n",
    "    \n",
    "    total_val_set = total_val_set.union(train)\n"
   ]
  },
  {
   "cell_type": "code",
   "execution_count": null,
   "id": "5292194a-a813-4cc7-81cb-9c5c08c8c801",
   "metadata": {},
   "outputs": [],
   "source": [
    "len(total_val_set) #as expected => i.e. didn't reuse the things, but CV was actually well done "
   ]
  },
  {
   "cell_type": "markdown",
   "id": "99d6ea1b-53ec-4bc9-b2ab-c7c7ff3053d9",
   "metadata": {},
   "source": [
    "## NOW HAVE TO CHECK IF multiclass + multilabel works!(i.e. try multiclass)"
   ]
  },
  {
   "cell_type": "code",
   "execution_count": null,
   "id": "5d1a5b90-f382-4964-bd4a-e98f8fdd0c44",
   "metadata": {},
   "outputs": [],
   "source": [
    "#y_multiclass (modifing)\n",
    "y_multiclass = y.copy()\n",
    "y_multiclass[::10,0] = 2 #changing the first labels to 2 (multiclass) every 5 things\n",
    "#y_multiclass[::11,0] = 3 #changing the first labels to 2 (multiclass) every 5 things"
   ]
  },
  {
   "cell_type": "code",
   "execution_count": null,
   "id": "b52c8c4f-683c-4f3c-a664-dea6eae7ce96",
   "metadata": {},
   "outputs": [],
   "source": [
    "y_multiclass"
   ]
  },
  {
   "cell_type": "code",
   "execution_count": null,
   "id": "6450b76f-bcf3-4a71-a83a-9acc9cc86d81",
   "metadata": {},
   "outputs": [],
   "source": [
    "from skmultilearn.model_selection import IterativeStratification\n",
    "k_fold = IterativeStratification(n_splits=5, order = 1) #on't increae the order (i think)(if > 1, does with replacement)\n",
    "print(\"below : the shapes of (class_i, n_labels)\")\n",
    "print(100*calc_prop(y_multiclass))\n",
    "\n",
    "total_val_set = set()\n",
    "\n",
    "for train,test in k_fold.split(X,y_multiclass):\n",
    "    x_train,y_train = X[train], y_multiclass[train]\n",
    "    x_test,y_test = X[test], y_multiclass[test]\n",
    "    #print(x_train.shape, x_test.shape)\n",
    "\n",
    "    print(\"\\n===y_train, y_test percentage deviations from y (%)===\")\n",
    "    print(x_train.shape, x_test.shape, y_train.shape, y_test.shape)\n",
    "    print(100*calc_prop_change(y_train,y_multiclass))\n",
    "    print(100*calc_prop_change(y_test,y_multiclass))\n",
    "    #print(calc_prop_change(train,X))\n",
    "    \n",
    "    total_val_set = total_val_set.union(train)"
   ]
  },
  {
   "cell_type": "markdown",
   "id": "86137e1b-6670-4292-985d-a84769143145",
   "metadata": {
    "tags": []
   },
   "source": [
    "# 보듯이, https://github.com/scikit-multilearn/scikit-multilearn/issues/132\n",
    "> multiclass + multilabel은 잘 안되는 것 같다!\n",
    "\n",
    "https://github.com/trent-b/iterative-stratification/issues/27#issue-1577817136\n",
    "\n",
    "일단 위에 두개보고, 되는지 안되는지 확인해보자 => 안된다면.. 흠.. 어떻게 하지? \n",
    "(그리고 어차피, age같은 것은 하지도 못할거같은데..?)(unless artificially splitting into age brackets and treating age as a categorical thing)\n",
    "\n",
    "=> 이것 보고 하기!\n"
   ]
  },
  {
   "cell_type": "code",
   "execution_count": null,
   "id": "a686adc3-2e93-4484-81a8-ea5a42ac9dab",
   "metadata": {},
   "outputs": [],
   "source": [
    "aaaa #meant to interrupt it "
   ]
  },
  {
   "cell_type": "code",
   "execution_count": null,
   "id": "fd029f9c-d4bd-4202-9586-b9a4f02c746f",
   "metadata": {},
   "outputs": [],
   "source": [
    "small_y = y_multiclass[:5]\n",
    "print(np.count_nonzero(small_y == 0, axis = 0),\n",
    "np.count_nonzero(small_y == 1, axis = 0),\n",
    "np.count_nonzero(small_y == 2, axis = 0))\n",
    "\n",
    "\n"
   ]
  },
  {
   "cell_type": "code",
   "execution_count": null,
   "id": "6134d44c-c661-4730-8a87-7bb1ac49c93b",
   "metadata": {},
   "outputs": [],
   "source": [
    "small_y"
   ]
  },
  {
   "cell_type": "code",
   "execution_count": null,
   "id": "954b97fe-923c-4591-8204-9c3577a9a9e1",
   "metadata": {},
   "outputs": [],
   "source": [
    "100*calc_prop(y)"
   ]
  },
  {
   "cell_type": "code",
   "execution_count": null,
   "id": "3cd55f99-6089-4196-a2e2-72a4bde857fc",
   "metadata": {},
   "outputs": [],
   "source": [
    "np.max(small_y)"
   ]
  },
  {
   "cell_type": "code",
   "execution_count": null,
   "id": "6556b95d-912c-4e44-8822-31db79facc6c",
   "metadata": {},
   "outputs": [],
   "source": [
    "def calc_prop_multiclass(arr):\n",
    "    aggregate = []\n",
    "    for i in range(np.max(arr)+1):\n",
    "        aggregate.append(np.count_nonzero(arr == i, axis=0))\n",
    "    return np.array(aggregate)/arr.shape[0]\n",
    "\n",
    "\n",
    "\n",
    "def calc_prop_change_multiclass(arr, base_arr):\n",
    "    thing = (calc_prop_multiclass(arr)-calc_prop_multiclass(base_arr))/calc_prop_multiclass(base_arr)\n",
    "    return thing"
   ]
  },
  {
   "cell_type": "code",
   "execution_count": null,
   "id": "7f1b94b8-ca6f-482f-9685-7ae43a5fde69",
   "metadata": {},
   "outputs": [],
   "source": [
    "calc_prop_multiclass(y_multiclass)"
   ]
  },
  {
   "cell_type": "code",
   "execution_count": null,
   "id": "d31ac180-6c36-4448-b35b-d284870a5610",
   "metadata": {},
   "outputs": [],
   "source": [
    "calc_prop_change_multiclass(y_multiclass[:8],y_multiclass)"
   ]
  },
  {
   "cell_type": "code",
   "execution_count": null,
   "id": "a18e0a9e-937b-4138-bbcb-61a6a2f8adcd",
   "metadata": {},
   "outputs": [],
   "source": [
    "y_multiclass[:10]"
   ]
  },
  {
   "cell_type": "code",
   "execution_count": null,
   "id": "10b229e2-d694-494d-8edf-6835a1c60cc6",
   "metadata": {},
   "outputs": [],
   "source": [
    "y_multiclass"
   ]
  },
  {
   "cell_type": "code",
   "execution_count": null,
   "id": "fa702090-fb78-4760-a1b2-17244c63cf7b",
   "metadata": {},
   "outputs": [],
   "source": []
  },
  {
   "cell_type": "code",
   "execution_count": null,
   "id": "f0e45e19-b083-4b9f-bb1a-e7081897d403",
   "metadata": {},
   "outputs": [],
   "source": []
  },
  {
   "cell_type": "code",
   "execution_count": null,
   "id": "656e3f3f-5ac4-4a71-abb0-2b16ee4fa54a",
   "metadata": {},
   "outputs": [],
   "source": []
  },
  {
   "cell_type": "code",
   "execution_count": null,
   "id": "64c0a71e-4b21-48fa-8e42-32e28ff319de",
   "metadata": {},
   "outputs": [],
   "source": []
  },
  {
   "cell_type": "markdown",
   "id": "95bd8567-9dc7-4c73-8707-b3c99a24a719",
   "metadata": {},
   "source": [
    "### past stuff (sparse X, y 쓸대인데... 그냥 일반적인 dense 써도 되어서 아놤)"
   ]
  },
  {
   "cell_type": "code",
   "execution_count": null,
   "id": "b0a3732b-7166-4960-a007-95e3deab665d",
   "metadata": {},
   "outputs": [],
   "source": [
    "from skmultilearn.dataset import load_dataset\n",
    "X, y, _, _ = load_dataset('emotions', 'train')"
   ]
  },
  {
   "cell_type": "code",
   "execution_count": null,
   "id": "33c5e38d-1b6a-450f-b838-46fb249f5bac",
   "metadata": {},
   "outputs": [],
   "source": [
    "##looking at data\n",
    "print(X.shape, y.shape)\n",
    "\n",
    "\n",
    "for i, y_i in enumerate(y):\n",
    "    print(f\"===the {i}th target is===\")\n",
    "    print(y_i)\n",
    "    if i == 5:\n",
    "        break\n",
    "#here, y is sparse (hence where the sparse thing came from)"
   ]
  },
  {
   "cell_type": "code",
   "execution_count": null,
   "id": "9cfbc692-da57-4ec7-9937-c512f66dfdbd",
   "metadata": {},
   "outputs": [],
   "source": []
  }
 ],
 "metadata": {
  "kernelspec": {
   "display_name": "VAE_3DCNN_older_MONAI",
   "language": "python",
   "name": "vae_3dcnn_older_monai"
  },
  "language_info": {
   "codemirror_mode": {
    "name": "ipython",
    "version": 3
   },
   "file_extension": ".py",
   "mimetype": "text/x-python",
   "name": "python",
   "nbconvert_exporter": "python",
   "pygments_lexer": "ipython3",
   "version": "3.8.10"
  }
 },
 "nbformat": 4,
 "nbformat_minor": 5
}
