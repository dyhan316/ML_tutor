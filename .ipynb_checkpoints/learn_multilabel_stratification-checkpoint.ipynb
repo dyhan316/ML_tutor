{
 "cells": [
  {
   "cell_type": "markdown",
   "id": "4f59615e-eabb-4ec5-a191-837660c5b558",
   "metadata": {},
   "source": [
    "study https://stackoverflow.com/questions/53378970/how-to-perform-multilabel-stratified-sampling"
   ]
  },
  {
   "cell_type": "code",
   "execution_count": 1,
   "id": "ff275249-81dd-4f8a-bf8a-ff013ad7a134",
   "metadata": {},
   "outputs": [
    {
     "name": "stdout",
     "output_type": "stream",
     "text": [
      "(1000, 10) (1000, 3)\n",
      "[ 3.  3.  6.  7.  8.  2. 11. 11.  1.  3.] [1 1 0]\n",
      "[7. 6. 4. 4. 6. 8. 3. 4. 6. 4.] [0 0 0]\n",
      "[ 5.  5. 13.  7.  6.  3.  6. 11.  4.  2.] [1 1 0]\n",
      "[1. 1. 5. 5. 7. 3. 4. 6. 4. 4.] [1 1 1]\n",
      "[ 4.  2.  3. 13.  7.  2.  4. 12.  1.  7.] [0 1 0]\n",
      "[ 4.  3.  3.  2.  5.  2.  3.  7.  2. 10.] [0 0 0]\n",
      "[ 3.  3.  3. 11.  6.  3.  4. 14.  1.  3.] [0 1 0]\n",
      "[ 2.  1.  7.  8.  4.  5. 10.  4.  6.  6.] [1 1 1]\n",
      "[ 5.  1.  9.  5.  3.  4. 11.  8.  1.  8.] [1 1 1]\n",
      "[ 2. 11.  7.  6.  2.  2.  9. 11.  9.  3.] [1 1 1]\n"
     ]
    }
   ],
   "source": [
    "# example of a multi-label classification task\n",
    "from sklearn.datasets import make_multilabel_classification\n",
    "import numpy as np \n",
    "# define dataset\n",
    "X, y = make_multilabel_classification(n_samples=1000, n_features=10, n_classes=3, n_labels=2, random_state=1)\n",
    "# summarize dataset shape\n",
    "print(X.shape, y.shape)\n",
    "# summarize first few examples\n",
    "for i in range(10):\n",
    "\tprint(X[i], y[i])"
   ]
  },
  {
   "cell_type": "code",
   "execution_count": 2,
   "id": "8d24194c-ee55-4bb3-9dbe-0b7a764e3c2a",
   "metadata": {},
   "outputs": [],
   "source": [
    "from skmultilearn.model_selection import iterative_train_test_split\n",
    "x_train, y_train, x_test, y_test = iterative_train_test_split(X, y, test_size = 0.2)"
   ]
  },
  {
   "cell_type": "code",
   "execution_count": 3,
   "id": "349ebbe6-a829-44a0-a85d-01125098c7bf",
   "metadata": {},
   "outputs": [],
   "source": [
    "def calc_prop(arr):\n",
    "    thing = arr.sum(axis=0)/arr.sum()\n",
    "    #a = [f\"{i:.5f}\" for i in thing]\n",
    "    #print(a)\n",
    "    return arr.sum(axis=0)/arr.sum()\n",
    "\n",
    "def calc_prop_change(arr, base_arr):\n",
    "    thing = (calc_prop(arr)-calc_prop(base_arr))/calc_prop(base_arr)\n",
    "    #return np.array([round(thing_i,5) for thing_i in thing])\n",
    "    return thing\n"
   ]
  },
  {
   "cell_type": "code",
   "execution_count": 4,
   "id": "7955fc9c-750b-41b0-8e3b-6bc7a9ade94d",
   "metadata": {},
   "outputs": [
    {
     "data": {
      "text/plain": [
       "(array([ 5.82767394,  7.00162269, 11.48506521, 12.45467476, 12.1441593 ,\n",
       "         5.68944448, 13.89706913, 18.290362  ,  4.98828055,  8.22164794]),\n",
       " array([40.49586777, 46.47171011, 13.03242212]))"
      ]
     },
     "execution_count": 4,
     "metadata": {},
     "output_type": "execute_result"
    }
   ],
   "source": [
    "##base proportions\n",
    "100*calc_prop(X), 100*calc_prop(y)"
   ]
  },
  {
   "cell_type": "code",
   "execution_count": 5,
   "id": "80fa5a80-cdda-4f7e-ae0f-8c14caeb09f5",
   "metadata": {},
   "outputs": [
    {
     "data": {
      "text/plain": [
       "(array([-1.35342464,  0.4363202 , -0.39379796,  0.58321631,  0.17702815,\n",
       "         0.9108414 , -0.26016604,  0.25164608,  0.74597004, -1.21008658]),\n",
       " array([ 5.33557515, -1.72009519,  1.55246074, -2.29920037, -0.69789404,\n",
       "        -3.59078929,  1.02564666, -0.9920586 , -2.94082071,  4.77049679]))"
      ]
     },
     "execution_count": 5,
     "metadata": {},
     "output_type": "execute_result"
    }
   ],
   "source": [
    "##X-wise difference\n",
    "#calc_prop(X),calc_prop(x_train), calc_prop(x_test)\n",
    "100*calc_prop_change(x_train,X), 100*calc_prop_change(x_test,X) #percentage wise"
   ]
  },
  {
   "cell_type": "code",
   "execution_count": 6,
   "id": "fcc1f30d-acc3-4298-9fac-158518fafa96",
   "metadata": {},
   "outputs": [
    {
     "data": {
      "text/plain": [
       "(array([ 0.75102041,  0.70642955, -4.85268293]),\n",
       " array([-2.90642573, -2.73386048, 18.77973269]))"
      ]
     },
     "execution_count": 6,
     "metadata": {},
     "output_type": "execute_result"
    }
   ],
   "source": [
    "##y-wise difference\n",
    "100*calc_prop_change(y_train,y), 100*calc_prop_change(y_test,y) #percentage wise"
   ]
  },
  {
   "cell_type": "code",
   "execution_count": 7,
   "id": "2657b9c2-c21f-46d5-9cf5-6a44c7efa7e2",
   "metadata": {},
   "outputs": [],
   "source": [
    "##can see that division was well done, and the proportions was somewhat well preserved for all the three categories\n",
    "#however, NOT cross validation (only one split)"
   ]
  },
  {
   "cell_type": "markdown",
   "id": "7e518ce8-4abc-4d2e-bdb3-32b06260de45",
   "metadata": {},
   "source": [
    "# Cross validaiton using multilabel \n",
    "* http://scikit.ml/concepts.html#The-multi-label-data-representation, http://scikit.ml/stratification.html\n",
    "\n",
    "look at this! (iterative stratification) : http://scikit.ml/api/skmultilearn.model_selection.iterative_stratification.html#module-skmultilearn.model_selection.iterative_stratification => this seems to be the kfold versio nthingie\n",
    "\n",
    "\n",
    "* X : (n_samples, n_features) (dense ones like np arrays are possible)\n",
    "* y : (n_samples, n_labels)\n",
    "    * **the labels in y shouldn't be mmore than binary class!** (see below)\n",
    "> y is expected to be a binary integer indicator matrix of shape. In the binary indicator matrix each matrix element A[i,j] should be either 1 if label j is assigned to an object no i, and 0 if not.\n",
    "    * therefore, stratified 할때 binary 해야함!\n",
    "        * **sklearn은 binary/multiclass 다되는데.... 이거는 안되나?**"
   ]
  },
  {
   "cell_type": "markdown",
   "id": "8ab7c62c-5cc6-4be6-b320-4f42ae8caa81",
   "metadata": {},
   "source": [
    "## now doing iterative stratification\n",
    "(http://scikit.ml/api/skmultilearn.model_selection.iterative_stratification.html#module-skmultilearn.model_selection.iterative_stratification) \n",
    "\n"
   ]
  },
  {
   "cell_type": "code",
   "execution_count": 8,
   "id": "40a3438f-7ca9-43da-90ac-4287b6d1d29d",
   "metadata": {},
   "outputs": [
    {
     "name": "stdout",
     "output_type": "stream",
     "text": [
      "[ 5.82767394  7.00162269 11.48506521 12.45467476 12.1441593   5.68944448\n",
      " 13.89706913 18.290362    4.98828055  8.22164794] [40.49586777 46.47171011 13.03242212]\n",
      "\n",
      "===x_train, x_test percentage deviations from X (%)===\n",
      "[-0.21102372  0.17546317  0.39886121  0.5418495  -0.73226118  1.24790705\n",
      " -0.78404711  0.29887512 -2.09016846  0.76874031]\n",
      "[ 0.85643384 -0.71211233 -1.61876699 -2.19908095  2.97186136 -5.06459562\n",
      "  3.18203311 -1.21297624  8.48288981 -3.11991089]\n",
      "===y_train, y_test percentage deviations from y (%)===\n",
      "[-0.08598034  0.0660071   0.0317965 ]\n",
      "[ 0.34337545 -0.26360932 -0.12698413]\n",
      "\n",
      "===x_train, x_test percentage deviations from X (%)===\n",
      "[ 0.46962086  0.79335054 -0.44444003 -0.45720579 -0.18519916 -0.08892953\n",
      "  0.11871639  0.45310728 -1.99384498  0.64109211]\n",
      "[-1.85805907 -3.13889837  1.75843089  1.80893874  0.7327421   0.35185045\n",
      " -0.46970245 -1.79272293  7.88866518 -2.53648656]\n",
      "===y_train, y_test percentage deviations from y (%)===\n",
      "[ 0.75102041  0.53428181 -4.23882927]\n",
      "[-2.90642573 -2.06765405 16.40413804]\n",
      "\n",
      "===x_train, x_test percentage deviations from X (%)===\n",
      "[-0.89132514 -0.73867278 -0.40282678  1.17049134  0.39702072 -0.90360806\n",
      "  0.52412478  0.25022459  0.52854535 -1.6739735 ]\n",
      "[ 3.56950071  2.95817193  1.61320532 -4.687481   -1.58995374  3.61869028\n",
      " -2.09896892 -1.00207747 -2.11667202  6.70378217]\n",
      "===y_train, y_test percentage deviations from y (%)===\n",
      "[-0.04859086 -0.09282783  0.48199768]\n",
      "[ 0.1956054   0.37368391 -1.94031014]\n",
      "\n",
      "===x_train, x_test percentage deviations from X (%)===\n",
      "[-0.28552126 -0.72801067 -0.03104147 -0.0744369   0.2069003   1.122366\n",
      "  0.13882156 -1.03635853  2.20250146  0.630771  ]\n",
      "[ 1.12854411  2.87751655  0.12269372  0.29421742 -0.81778889 -4.43623543\n",
      " -0.54870259  4.09628448 -8.70555144 -2.49316946]\n",
      "===y_train, y_test percentage deviations from y (%)===\n",
      "[-0.83560983 -0.87949848  5.73266756]\n",
      "[  3.50239106   3.68634675 -24.02801256]\n",
      "\n",
      "===x_train, x_test percentage deviations from X (%)===\n",
      "[ 0.91807292  0.49680752  0.47664295 -1.18199207  0.31519006 -1.37662392\n",
      "  0.00511202  0.03169555  1.35779566 -0.36500721]\n",
      "[-3.699302   -2.00184647 -1.92059494  4.76274325 -1.27003333  5.54699684\n",
      " -0.02059848 -0.12771471 -5.47112986  1.4707676 ]\n",
      "===y_train, y_test percentage deviations from y (%)===\n",
      "[ 0.23272467  0.38519692 -2.09670518]\n",
      "[-0.9148487  -1.51422237  8.24222035]\n"
     ]
    }
   ],
   "source": [
    "from skmultilearn.model_selection import IterativeStratification\n",
    "k_fold = IterativeStratification(n_splits=5, order=1) #on't increae the order (i think)(if > 1, does with replacement)\n",
    "print(100*calc_prop(X), 100*calc_prop(y))\n",
    "\n",
    "total_val_set = set()\n",
    "\n",
    "for train,test in k_fold.split(X,y):\n",
    "    x_train,y_train = X[train], y[train]\n",
    "    x_test,y_test = X[test], y[test]\n",
    "    #print(x_train.shape, x_test.shape)\n",
    "    print(\"\\n===x_train, x_test percentage deviations from X (%)===\")\n",
    "    print(100*calc_prop_change(x_train,X))\n",
    "    print(100*calc_prop_change(x_test,X))\n",
    "    print(\"===y_train, y_test percentage deviations from y (%)===\")\n",
    "    print(100*calc_prop_change(y_train,y))\n",
    "    print(100*calc_prop_change(y_test,y))\n",
    "    #print(calc_prop_change(train,X))\n",
    "    \n",
    "    total_val_set = total_val_set.union(train)\n"
   ]
  },
  {
   "cell_type": "code",
   "execution_count": 9,
   "id": "5292194a-a813-4cc7-81cb-9c5c08c8c801",
   "metadata": {},
   "outputs": [
    {
     "data": {
      "text/plain": [
       "1000"
      ]
     },
     "execution_count": 9,
     "metadata": {},
     "output_type": "execute_result"
    }
   ],
   "source": [
    "len(total_val_set) #as expected => i.e. didn't reuse the things, but CV was actually well done "
   ]
  },
  {
   "cell_type": "code",
   "execution_count": null,
   "id": "fa370cb9-8eb4-4819-ab12-48b73c76ba9e",
   "metadata": {},
   "outputs": [],
   "source": []
  },
  {
   "cell_type": "code",
   "execution_count": null,
   "id": "e4633c66-2d13-4e03-844d-973b947d456b",
   "metadata": {},
   "outputs": [],
   "source": []
  },
  {
   "cell_type": "code",
   "execution_count": null,
   "id": "5d1a5b90-f382-4964-bd4a-e98f8fdd0c44",
   "metadata": {},
   "outputs": [],
   "source": []
  },
  {
   "cell_type": "code",
   "execution_count": null,
   "id": "6450b76f-bcf3-4a71-a83a-9acc9cc86d81",
   "metadata": {},
   "outputs": [],
   "source": []
  },
  {
   "cell_type": "code",
   "execution_count": null,
   "id": "a686adc3-2e93-4484-81a8-ea5a42ac9dab",
   "metadata": {},
   "outputs": [],
   "source": []
  },
  {
   "cell_type": "code",
   "execution_count": null,
   "id": "656e3f3f-5ac4-4a71-abb0-2b16ee4fa54a",
   "metadata": {},
   "outputs": [],
   "source": []
  },
  {
   "cell_type": "code",
   "execution_count": null,
   "id": "64c0a71e-4b21-48fa-8e42-32e28ff319de",
   "metadata": {},
   "outputs": [],
   "source": []
  },
  {
   "cell_type": "markdown",
   "id": "95bd8567-9dc7-4c73-8707-b3c99a24a719",
   "metadata": {},
   "source": [
    "### past stuff (sparse X, y 쓸대인데... 그냥 일반적인 dense 써도 되어서 아놤)"
   ]
  },
  {
   "cell_type": "code",
   "execution_count": 10,
   "id": "b0a3732b-7166-4960-a007-95e3deab665d",
   "metadata": {},
   "outputs": [
    {
     "name": "stdout",
     "output_type": "stream",
     "text": [
      "emotions:train - exists, not redownloading\n"
     ]
    }
   ],
   "source": [
    "from skmultilearn.dataset import load_dataset\n",
    "X, y, _, _ = load_dataset('emotions', 'train')"
   ]
  },
  {
   "cell_type": "code",
   "execution_count": 11,
   "id": "33c5e38d-1b6a-450f-b838-46fb249f5bac",
   "metadata": {},
   "outputs": [
    {
     "name": "stdout",
     "output_type": "stream",
     "text": [
      "(391, 72) (391, 6)\n",
      "===the 0th target is===\n",
      "  (0, 1)\t1\n",
      "  (0, 2)\t1\n",
      "===the 1th target is===\n",
      "  (0, 0)\t1\n",
      "  (0, 5)\t1\n",
      "===the 2th target is===\n",
      "  (0, 1)\t1\n",
      "  (0, 5)\t1\n",
      "===the 3th target is===\n",
      "  (0, 2)\t1\n",
      "===the 4th target is===\n",
      "  (0, 3)\t1\n",
      "===the 5th target is===\n",
      "  (0, 1)\t1\n",
      "  (0, 2)\t1\n"
     ]
    }
   ],
   "source": [
    "##looking at data\n",
    "print(X.shape, y.shape)\n",
    "\n",
    "\n",
    "for i, y_i in enumerate(y):\n",
    "    print(f\"===the {i}th target is===\")\n",
    "    print(y_i)\n",
    "    if i == 5:\n",
    "        break\n",
    "#here, y is sparse (hence where the sparse thing came from)"
   ]
  },
  {
   "cell_type": "code",
   "execution_count": null,
   "id": "9cfbc692-da57-4ec7-9937-c512f66dfdbd",
   "metadata": {},
   "outputs": [],
   "source": []
  }
 ],
 "metadata": {
  "kernelspec": {
   "display_name": "VAE_3DCNN_older_MONAI",
   "language": "python",
   "name": "vae_3dcnn_older_monai"
  },
  "language_info": {
   "codemirror_mode": {
    "name": "ipython",
    "version": 3
   },
   "file_extension": ".py",
   "mimetype": "text/x-python",
   "name": "python",
   "nbconvert_exporter": "python",
   "pygments_lexer": "ipython3",
   "version": "3.8.10"
  }
 },
 "nbformat": 4,
 "nbformat_minor": 5
}
