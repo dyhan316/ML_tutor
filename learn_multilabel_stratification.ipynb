{
 "cells": [
  {
   "cell_type": "markdown",
   "id": "4f59615e-eabb-4ec5-a191-837660c5b558",
   "metadata": {},
   "source": [
    "study https://stackoverflow.com/questions/53378970/how-to-perform-multilabel-stratified-sampling"
   ]
  },
  {
   "cell_type": "code",
   "execution_count": 1,
   "id": "ff275249-81dd-4f8a-bf8a-ff013ad7a134",
   "metadata": {},
   "outputs": [
    {
     "name": "stdout",
     "output_type": "stream",
     "text": [
      "(1000, 10) (1000, 3)\n",
      "[ 3.  3.  6.  7.  8.  2. 11. 11.  1.  3.] [1 1 0]\n",
      "[7. 6. 4. 4. 6. 8. 3. 4. 6. 4.] [0 0 0]\n",
      "[ 5.  5. 13.  7.  6.  3.  6. 11.  4.  2.] [1 1 0]\n",
      "[1. 1. 5. 5. 7. 3. 4. 6. 4. 4.] [1 1 1]\n",
      "[ 4.  2.  3. 13.  7.  2.  4. 12.  1.  7.] [0 1 0]\n",
      "[ 4.  3.  3.  2.  5.  2.  3.  7.  2. 10.] [0 0 0]\n",
      "[ 3.  3.  3. 11.  6.  3.  4. 14.  1.  3.] [0 1 0]\n",
      "[ 2.  1.  7.  8.  4.  5. 10.  4.  6.  6.] [1 1 1]\n",
      "[ 5.  1.  9.  5.  3.  4. 11.  8.  1.  8.] [1 1 1]\n",
      "[ 2. 11.  7.  6.  2.  2.  9. 11.  9.  3.] [1 1 1]\n"
     ]
    }
   ],
   "source": [
    "# example of a multi-label classification task\n",
    "from sklearn.datasets import make_multilabel_classification\n",
    "import numpy as np \n",
    "# define dataset\n",
    "X, y = make_multilabel_classification(n_samples=1000, n_features=10, n_classes=3, n_labels=2, random_state=1)\n",
    "# summarize dataset shape\n",
    "print(X.shape, y.shape)\n",
    "# summarize first few examples\n",
    "for i in range(10):\n",
    "\tprint(X[i], y[i])"
   ]
  },
  {
   "cell_type": "code",
   "execution_count": 2,
   "id": "8d24194c-ee55-4bb3-9dbe-0b7a764e3c2a",
   "metadata": {},
   "outputs": [],
   "source": [
    "from skmultilearn.model_selection import iterative_train_test_split\n",
    "x_train, y_train, x_test, y_test = iterative_train_test_split(X, y, test_size = 0.2)"
   ]
  },
  {
   "cell_type": "code",
   "execution_count": 3,
   "id": "349ebbe6-a829-44a0-a85d-01125098c7bf",
   "metadata": {},
   "outputs": [],
   "source": [
    "def calc_prop(arr):\n",
    "    thing = arr.sum(axis=0)/arr.sum()\n",
    "    #a = [f\"{i:.5f}\" for i in thing]\n",
    "    #print(a)\n",
    "    return arr.sum(axis=0)/arr.sum()\n",
    "\n",
    "def calc_prop_change(arr, base_arr):\n",
    "    thing = (calc_prop(arr)-calc_prop(base_arr))/calc_prop(base_arr)\n",
    "    #return np.array([round(thing_i,5) for thing_i in thing])\n",
    "    return thing\n"
   ]
  },
  {
   "cell_type": "code",
   "execution_count": 4,
   "id": "7955fc9c-750b-41b0-8e3b-6bc7a9ade94d",
   "metadata": {},
   "outputs": [
    {
     "data": {
      "text/plain": [
       "(array([ 5.82767394,  7.00162269, 11.48506521, 12.45467476, 12.1441593 ,\n",
       "         5.68944448, 13.89706913, 18.290362  ,  4.98828055,  8.22164794]),\n",
       " array([40.49586777, 46.47171011, 13.03242212]))"
      ]
     },
     "execution_count": 4,
     "metadata": {},
     "output_type": "execute_result"
    }
   ],
   "source": [
    "##base proportions\n",
    "100*calc_prop(X), 100*calc_prop(y)"
   ]
  },
  {
   "cell_type": "code",
   "execution_count": 5,
   "id": "80fa5a80-cdda-4f7e-ae0f-8c14caeb09f5",
   "metadata": {},
   "outputs": [
    {
     "data": {
      "text/plain": [
       "(array([-2.00965138,  0.15886591, -0.18542026,  0.42435743,  0.12032346,\n",
       "         1.73819324, -0.19527413,  0.16726535,  0.54679074, -0.84899388]),\n",
       " array([ 7.96110382, -0.62933701,  0.73453035, -1.68106447, -0.47665361,\n",
       "        -6.88573994,  0.77356581, -0.66261087, -2.16607609,  3.36323427]))"
      ]
     },
     "execution_count": 5,
     "metadata": {},
     "output_type": "execute_result"
    }
   ],
   "source": [
    "##X-wise difference\n",
    "#calc_prop(X),calc_prop(x_train), calc_prop(x_test)\n",
    "100*calc_prop_change(x_train,X), 100*calc_prop_change(x_test,X) #percentage wise"
   ]
  },
  {
   "cell_type": "code",
   "execution_count": 6,
   "id": "fcc1f30d-acc3-4298-9fac-158518fafa96",
   "metadata": {},
   "outputs": [
    {
     "data": {
      "text/plain": [
       "(array([ 0.75102041,  0.70642955, -4.85268293]),\n",
       " array([-2.90642573, -2.73386048, 18.77973269]))"
      ]
     },
     "execution_count": 6,
     "metadata": {},
     "output_type": "execute_result"
    }
   ],
   "source": [
    "##y-wise difference\n",
    "100*calc_prop_change(y_train,y), 100*calc_prop_change(y_test,y) #percentage wise"
   ]
  },
  {
   "cell_type": "code",
   "execution_count": 7,
   "id": "2657b9c2-c21f-46d5-9cf5-6a44c7efa7e2",
   "metadata": {},
   "outputs": [],
   "source": [
    "##can see that division was well done, and the proportions was somewhat well preserved for all the three categories\n",
    "#however, NOT cross validation (only one split)"
   ]
  },
  {
   "cell_type": "markdown",
   "id": "7e518ce8-4abc-4d2e-bdb3-32b06260de45",
   "metadata": {},
   "source": [
    "# Cross validaiton using multilabel \n",
    "* http://scikit.ml/concepts.html#The-multi-label-data-representation, http://scikit.ml/stratification.html\n",
    "\n",
    "look at this! (iterative stratification) : http://scikit.ml/api/skmultilearn.model_selection.iterative_stratification.html#module-skmultilearn.model_selection.iterative_stratification => this seems to be the kfold versio nthingie\n",
    "\n",
    "\n",
    "* X : (n_samples, n_features) (dense ones like np arrays are possible)\n",
    "* y : (n_samples, n_labels)\n",
    "    * **the labels in y shouldn't be mmore than binary class!** (see below)\n",
    "> y is expected to be a binary integer indicator matrix of shape. In the binary indicator matrix each matrix element A[i,j] should be either 1 if label j is assigned to an object no i, and 0 if not.\n",
    "    * therefore, stratified 할때 binary 해야함!\n",
    "        * **sklearn은 binary/multiclass 다되는데.... 이거는 안되나?**"
   ]
  },
  {
   "cell_type": "markdown",
   "id": "8ab7c62c-5cc6-4be6-b320-4f42ae8caa81",
   "metadata": {},
   "source": [
    "## now doing iterative stratification\n",
    "(http://scikit.ml/api/skmultilearn.model_selection.iterative_stratification.html#module-skmultilearn.model_selection.iterative_stratification) \n",
    "\n"
   ]
  },
  {
   "cell_type": "code",
   "execution_count": 8,
   "id": "40a3438f-7ca9-43da-90ac-4287b6d1d29d",
   "metadata": {},
   "outputs": [
    {
     "name": "stdout",
     "output_type": "stream",
     "text": [
      "[ 5.82767394  7.00162269 11.48506521 12.45467476 12.1441593   5.68944448\n",
      " 13.89706913 18.290362    4.98828055  8.22164794] [40.49586777 46.47171011 13.03242212]\n",
      "\n",
      "===x_train, x_test percentage deviations from X (%)===\n",
      "[ 0.52060999 -0.21622498 -0.45632995 -0.29297303 -0.96487809  0.36231924\n",
      "  1.61079072  0.5806744  -1.81867375 -0.84020608]\n",
      "[-2.06776538  0.85880512  1.81245713  1.16363403  3.83231508 -1.43906417\n",
      " -6.39775911 -2.30632999  7.22343157  3.3371412 ]\n",
      "===y_train, y_test percentage deviations from y (%)===\n",
      "[-0.40266503 -0.25115932  2.1468053 ]\n",
      "[ 1.63396548  1.01917384 -8.71147361]\n",
      "\n",
      "===x_train, x_test percentage deviations from X (%)===\n",
      "[-1.26569408  0.33819945  0.50446718  0.22522416  0.88441532 -0.23591877\n",
      "  0.49007362  0.03597596 -0.71958277 -2.05167847]\n",
      "[ 4.97858851 -1.33030243 -1.98431403 -0.88591582 -3.47883428  0.9279829\n",
      " -1.92769717 -0.14151089  2.83046795  8.07024624]\n",
      "===y_train, y_test percentage deviations from y (%)===\n",
      "[ 0.75102041  0.53428181 -4.23882927]\n",
      "[-2.90642573 -2.06765405 16.40413804]\n",
      "\n",
      "===x_train, x_test percentage deviations from X (%)===\n",
      "[ 0.79457487 -0.12554728  0.17972421 -0.05968187 -0.30112899  1.44372001\n",
      " -0.90799211 -0.66420282  0.43270106  1.57865965]\n",
      "[-3.22150388  0.50901566 -0.7286692   0.24197263  1.22088961 -5.85338122\n",
      "  3.68133983  2.69292679 -1.75433203 -6.40047703]\n",
      "===y_train, y_test percentage deviations from y (%)===\n",
      "[-0.20699246 -0.25115932  1.53878861]\n",
      "[ 0.83995013  1.01917384 -6.24421614]\n",
      "\n",
      "===x_train, x_test percentage deviations from X (%)===\n",
      "[ 0.26048713  0.34039694 -0.5872535   0.14263405  0.1448973  -1.22298017\n",
      " -0.73194833  0.16370736  1.5609582   0.68799019]\n",
      "[-1.03913667 -1.35791332  2.34267482 -0.56899651 -0.57802508  4.87871909\n",
      "  2.91989222 -0.6530623  -6.22698289 -2.74453417]\n",
      "===y_train, y_test percentage deviations from y (%)===\n",
      "[ 0.15285796  0.30520871 -1.56330774]\n",
      "[-0.60326017 -1.20451867  6.16965792]\n",
      "\n",
      "===x_train, x_test percentage deviations from X (%)===\n",
      "[-0.31467171 -0.3345858   0.35869789 -0.01458326  0.23856647 -0.35103978\n",
      " -0.45374529 -0.11303738  0.53785511  0.61164049]\n",
      "[ 1.27547485  1.35619363 -1.4539284   0.05911105 -0.96699363  1.4228874\n",
      "  1.83918886  0.45818016 -2.18011548 -2.47919353]\n",
      "===y_train, y_test percentage deviations from y (%)===\n",
      "[-0.28600514 -0.33013703  2.06592897]\n",
      "[ 1.16524029  1.34504214 -8.41699449]\n"
     ]
    }
   ],
   "source": [
    "from skmultilearn.model_selection import IterativeStratification\n",
    "k_fold = IterativeStratification(n_splits=5, order=1) #on't increae the order (i think)(if > 1, does with replacement)\n",
    "print(100*calc_prop(X), 100*calc_prop(y))\n",
    "\n",
    "total_val_set = set()\n",
    "\n",
    "for train,test in k_fold.split(X,y):\n",
    "    x_train,y_train = X[train], y[train]\n",
    "    x_test,y_test = X[test], y[test]\n",
    "    #print(x_train.shape, x_test.shape)\n",
    "    print(\"\\n===x_train, x_test percentage deviations from X (%)===\")\n",
    "    print(100*calc_prop_change(x_train,X))\n",
    "    print(100*calc_prop_change(x_test,X))\n",
    "    print(\"===y_train, y_test percentage deviations from y (%)===\")\n",
    "    print(100*calc_prop_change(y_train,y))\n",
    "    print(100*calc_prop_change(y_test,y))\n",
    "    #print(calc_prop_change(train,X))\n",
    "    \n",
    "    total_val_set = total_val_set.union(train)\n"
   ]
  },
  {
   "cell_type": "code",
   "execution_count": 9,
   "id": "5292194a-a813-4cc7-81cb-9c5c08c8c801",
   "metadata": {},
   "outputs": [
    {
     "data": {
      "text/plain": [
       "1000"
      ]
     },
     "execution_count": 9,
     "metadata": {},
     "output_type": "execute_result"
    }
   ],
   "source": [
    "len(total_val_set) #as expected => i.e. didn't reuse the things, but CV was actually well done "
   ]
  },
  {
   "cell_type": "code",
   "execution_count": 10,
   "id": "fa370cb9-8eb4-4819-ab12-48b73c76ba9e",
   "metadata": {},
   "outputs": [],
   "source": [
    "##NOW HAVE TO CHECK IF multiclass + multilabel works!"
   ]
  },
  {
   "cell_type": "code",
   "execution_count": 35,
   "id": "5d1a5b90-f382-4964-bd4a-e98f8fdd0c44",
   "metadata": {},
   "outputs": [],
   "source": [
    "#y_multiclass (modifing)\n",
    "y_multiclass = y.copy()\n",
    "y_multiclass[::5,0] = 2 #changing the first labels to 2 (multiclass) every 5 things"
   ]
  },
  {
   "cell_type": "code",
   "execution_count": 36,
   "id": "6450b76f-bcf3-4a71-a83a-9acc9cc86d81",
   "metadata": {},
   "outputs": [
    {
     "name": "stdout",
     "output_type": "stream",
     "text": [
      "[ 5.82767394  7.00162269 11.48506521 12.45467476 12.1441593   5.68944448\n",
      " 13.89706913 18.290362    4.98828055  8.22164794] [49.18566775 39.68512486 11.12920738]\n",
      "\n",
      "===x_train, x_test percentage deviations from X (%)===\n",
      "[ 0.06641281 -1.380179    0.44151182 -0.16222617  0.51992163  0.04046949\n",
      "  0.12775623 -0.06487472  0.99061782 -0.71134793]\n",
      "[-0.2698412   5.60779088 -1.79390208  0.65913945 -2.11248816 -0.16443116\n",
      " -0.51908499  0.26359178 -4.02496893  2.89027036]\n",
      "===y_train, y_test percentage deviations from y (%)===\n",
      "[-0.27018792 -0.26360168  2.13406383]\n",
      "[ 1.09708173  1.07033869 -8.6652372 ]\n",
      "\n",
      "===x_train, x_test percentage deviations from X (%)===\n",
      "[ 1.04196225  1.60049951 -0.57978054  0.35134741  0.23495716  0.32588752\n",
      " -1.37358151  0.06164023  0.11187198 -0.27970065]\n",
      "[-4.1550431  -6.38232761  2.31199656 -1.40107152 -0.93694098 -1.29954487\n",
      "  5.47744448 -0.24580336 -0.44611299  1.11536502]\n",
      "===y_train, y_test percentage deviations from y (%)===\n",
      "[ 0.41255759 -0.02825195 -1.72256098]\n",
      "[-1.64131018  0.11239694  6.85299934]\n",
      "\n",
      "===x_train, x_test percentage deviations from X (%)===\n",
      "[ 0.0960375  -0.72568312  0.42380298 -0.03090512 -0.83795716 -0.59897799\n",
      " -0.86872964  1.13020649 -0.69183598  1.03080451]\n",
      "[-0.38296966  2.8938137  -1.69000331  0.12324064  3.34153001  2.38855043\n",
      "  3.46424172 -4.50693552  2.75884112 -4.11054928]\n",
      "===y_train, y_test percentage deviations from y (%)===\n",
      "[ 0.69272061 -0.26360168 -2.12152216]\n",
      "[-2.81275016  1.07033869  8.61431252]\n",
      "\n",
      "===x_train, x_test percentage deviations from X (%)===\n",
      "[-0.26799719  0.7237359   0.07396635 -0.66161428  0.41057127  0.03695101\n",
      "  0.51773486 -0.31892027  1.86815198 -1.45856558]\n",
      "[ 1.05835773 -2.85813251 -0.2921033   2.61280573 -1.62140236 -0.14592463\n",
      " -2.04460609  1.25945999 -7.37758888  5.76007592]\n",
      "===y_train, y_test percentage deviations from y (%)===\n",
      "[-0.75981351  0.07494685  3.09075555]\n",
      "[  3.03307669  -0.29917809 -12.33789411]\n",
      "\n",
      "===x_train, x_test percentage deviations from X (%)===\n",
      "[-0.93596757 -0.21153028 -0.36053467  0.50205658 -0.32820395  0.19533658\n",
      "  1.59527638 -0.80738084 -2.27588767  1.41676878]\n",
      "[ 3.75674971  0.84903188  1.44709984 -2.01513489  1.31733206 -0.78403426\n",
      " -6.40305741  3.24063338  9.13486812 -5.68657062]\n",
      "===y_train, y_test percentage deviations from y (%)===\n",
      "[-0.07674355  0.48425134 -1.38760038]\n",
      "[ 0.30022075 -1.89439124  5.42829268]\n"
     ]
    }
   ],
   "source": [
    "from skmultilearn.model_selection import IterativeStratification\n",
    "k_fold = IterativeStratification(n_splits=5, order=1) #on't increae the order (i think)(if > 1, does with replacement)\n",
    "print(100*calc_prop(X), 100*calc_prop(y_multiclass))\n",
    "\n",
    "total_val_set = set()\n",
    "\n",
    "for train,test in k_fold.split(X,y_multiclass):\n",
    "    x_train,y_train = X[train], y_multiclass[train]\n",
    "    x_test,y_test = X[test], y_multiclass[test]\n",
    "    #print(x_train.shape, x_test.shape)\n",
    "    print(\"\\n===x_train, x_test percentage deviations from X (%)===\")\n",
    "    print(100*calc_prop_change(x_train,X))\n",
    "    print(100*calc_prop_change(x_test,X))\n",
    "    print(\"===y_train, y_test percentage deviations from y (%)===\")\n",
    "    print(100*calc_prop_change(y_train,y_multiclass))\n",
    "    print(100*calc_prop_change(y_test,y_multiclass))\n",
    "    #print(calc_prop_change(train,X))\n",
    "    \n",
    "    total_val_set = total_val_set.union(train)"
   ]
  },
  {
   "cell_type": "code",
   "execution_count": null,
   "id": "a686adc3-2e93-4484-81a8-ea5a42ac9dab",
   "metadata": {},
   "outputs": [],
   "source": []
  },
  {
   "cell_type": "code",
   "execution_count": 12,
   "id": "656e3f3f-5ac4-4a71-abb0-2b16ee4fa54a",
   "metadata": {},
   "outputs": [
    {
     "ename": "NameError",
     "evalue": "name 'aaaa' is not defined",
     "output_type": "error",
     "traceback": [
      "\u001b[0;31m---------------------------------------------------------------------------\u001b[0m",
      "\u001b[0;31mNameError\u001b[0m                                 Traceback (most recent call last)",
      "Input \u001b[0;32mIn [12]\u001b[0m, in \u001b[0;36m<cell line: 1>\u001b[0;34m()\u001b[0m\n\u001b[0;32m----> 1\u001b[0m \u001b[43maaaa\u001b[49m\n",
      "\u001b[0;31mNameError\u001b[0m: name 'aaaa' is not defined"
     ]
    }
   ],
   "source": [
    "aaaa #meant to interrupt it "
   ]
  },
  {
   "cell_type": "code",
   "execution_count": null,
   "id": "64c0a71e-4b21-48fa-8e42-32e28ff319de",
   "metadata": {},
   "outputs": [],
   "source": []
  },
  {
   "cell_type": "markdown",
   "id": "95bd8567-9dc7-4c73-8707-b3c99a24a719",
   "metadata": {},
   "source": [
    "### past stuff (sparse X, y 쓸대인데... 그냥 일반적인 dense 써도 되어서 아놤)"
   ]
  },
  {
   "cell_type": "code",
   "execution_count": null,
   "id": "b0a3732b-7166-4960-a007-95e3deab665d",
   "metadata": {},
   "outputs": [],
   "source": [
    "from skmultilearn.dataset import load_dataset\n",
    "X, y, _, _ = load_dataset('emotions', 'train')"
   ]
  },
  {
   "cell_type": "code",
   "execution_count": null,
   "id": "33c5e38d-1b6a-450f-b838-46fb249f5bac",
   "metadata": {},
   "outputs": [],
   "source": [
    "##looking at data\n",
    "print(X.shape, y.shape)\n",
    "\n",
    "\n",
    "for i, y_i in enumerate(y):\n",
    "    print(f\"===the {i}th target is===\")\n",
    "    print(y_i)\n",
    "    if i == 5:\n",
    "        break\n",
    "#here, y is sparse (hence where the sparse thing came from)"
   ]
  },
  {
   "cell_type": "code",
   "execution_count": null,
   "id": "9cfbc692-da57-4ec7-9937-c512f66dfdbd",
   "metadata": {},
   "outputs": [],
   "source": []
  }
 ],
 "metadata": {
  "kernelspec": {
   "display_name": "VAE_3DCNN_older_MONAI",
   "language": "python",
   "name": "vae_3dcnn_older_monai"
  },
  "language_info": {
   "codemirror_mode": {
    "name": "ipython",
    "version": 3
   },
   "file_extension": ".py",
   "mimetype": "text/x-python",
   "name": "python",
   "nbconvert_exporter": "python",
   "pygments_lexer": "ipython3",
   "version": "3.8.10"
  }
 },
 "nbformat": 4,
 "nbformat_minor": 5
}
