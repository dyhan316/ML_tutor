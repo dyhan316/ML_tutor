{
 "cells": [
  {
   "cell_type": "markdown",
   "id": "121aed9d",
   "metadata": {},
   "source": [
    "### torch.save (general checkpoint)\n",
    "\n",
    "* easier (not that useful) : https://pytorch.org/tutorials/beginner/basics/saveloadrun_tutorial.html\n",
    "* full tutorial (with all about checkpoints and etc) : https://pytorch.org/tutorials/recipes/recipes/saving_and_loading_a_general_checkpoint.html\n",
    "\n",
    "두번째 것 보고 하자!"
   ]
  },
  {
   "cell_type": "markdown",
   "id": "89fe1405",
   "metadata": {},
   "source": [
    "* `.add_modules`\n",
    "    * https://stackoverflow.com/questions/65619076/what-is-pytorchs-add-module\n",
    "\n",
    "\n",
    "* freezing models using `requires_grad`\n",
    "    * https://nuguziii.github.io/dev/dev-003/"
   ]
  },
  {
   "cell_type": "code",
   "execution_count": null,
   "id": "abc36ee6",
   "metadata": {},
   "outputs": [],
   "source": []
  }
 ],
 "metadata": {
  "kernelspec": {
   "display_name": "Python 3 (ipykernel)",
   "language": "python",
   "name": "python3"
  },
  "language_info": {
   "codemirror_mode": {
    "name": "ipython",
    "version": 3
   },
   "file_extension": ".py",
   "mimetype": "text/x-python",
   "name": "python",
   "nbconvert_exporter": "python",
   "pygments_lexer": "ipython3",
   "version": "3.8.10"
  }
 },
 "nbformat": 4,
 "nbformat_minor": 5
}
