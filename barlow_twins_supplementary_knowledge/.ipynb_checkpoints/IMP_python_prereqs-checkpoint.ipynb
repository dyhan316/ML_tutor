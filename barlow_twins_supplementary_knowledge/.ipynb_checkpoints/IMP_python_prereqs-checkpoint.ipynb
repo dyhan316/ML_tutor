{
 "cells": [
  {
   "cell_type": "code",
   "execution_count": 1,
   "id": "8f3ae59c",
   "metadata": {},
   "outputs": [
    {
     "data": {
      "text/html": [
       "<style>.container { width:100% !important; }</style>"
      ],
      "text/plain": [
       "<IPython.core.display.HTML object>"
      ]
     },
     "metadata": {},
     "output_type": "display_data"
    }
   ],
   "source": [
    "from IPython.display import display, HTML\n",
    "display(HTML(\"<style>.container { width:100% !important; }</style>\"))"
   ]
  },
  {
   "cell_type": "markdown",
   "id": "0b6725ad",
   "metadata": {},
   "source": [
    "# 1. Barlow Twins code에 쓰인 (non-pytorch related) modules공부하기\n",
    "\n"
   ]
  },
  {
   "cell_type": "markdown",
   "id": "146ed4ef",
   "metadata": {},
   "source": [
    "## 1.1. main.py의 것들\n",
    "1. `os.environ, os.getenv`\n",
    "2. `signal` module\n",
    "3. subprocess\n"
   ]
  },
  {
   "cell_type": "markdown",
   "id": "b1bd6381",
   "metadata": {},
   "source": [
    "### 1.1.1. `os.environ`, `os.getenv`\n",
    "linux돌리때 쓰이는 환경같은 것을 가져오는 듯"
   ]
  },
  {
   "cell_type": "code",
   "execution_count": 21,
   "id": "a3f7247c",
   "metadata": {
    "scrolled": false
   },
   "outputs": [
    {
     "data": {
      "text/plain": [
       "environ{'SHELL': '/bin/bash',\n",
       "        'CONDA_EXE': '/usr/anaconda3/bin/conda',\n",
       "        '_CE_M': '',\n",
       "        'PWD': '/scratch/connectome/study_group/VAE_ADHD',\n",
       "        'LOGNAME': 'dyhan316',\n",
       "        'XDG_SESSION_TYPE': 'tty',\n",
       "        'CONDA_PREFIX': '/home/connectome/dyhan316/.conda/envs/VAE_3DCNN',\n",
       "        'MOTD_SHOWN': 'pam',\n",
       "        'HOME': '/home/connectome/dyhan316',\n",
       "        'LANG': 'en_US.UTF-8',\n",
       "        'LS_COLORS': 'rs=0:di=01;34:ln=01;36:mh=00:pi=40;33:so=01;35:do=01;35:bd=40;33;01:cd=40;33;01:or=40;31;01:mi=00:su=37;41:sg=30;43:ca=30;41:tw=30;42:ow=34;42:st=37;44:ex=01;32:*.tar=01;31:*.tgz=01;31:*.arc=01;31:*.arj=01;31:*.taz=01;31:*.lha=01;31:*.lz4=01;31:*.lzh=01;31:*.lzma=01;31:*.tlz=01;31:*.txz=01;31:*.tzo=01;31:*.t7z=01;31:*.zip=01;31:*.z=01;31:*.dz=01;31:*.gz=01;31:*.lrz=01;31:*.lz=01;31:*.lzo=01;31:*.xz=01;31:*.zst=01;31:*.tzst=01;31:*.bz2=01;31:*.bz=01;31:*.tbz=01;31:*.tbz2=01;31:*.tz=01;31:*.deb=01;31:*.rpm=01;31:*.jar=01;31:*.war=01;31:*.ear=01;31:*.sar=01;31:*.rar=01;31:*.alz=01;31:*.ace=01;31:*.zoo=01;31:*.cpio=01;31:*.7z=01;31:*.rz=01;31:*.cab=01;31:*.wim=01;31:*.swm=01;31:*.dwm=01;31:*.esd=01;31:*.jpg=01;35:*.jpeg=01;35:*.mjpg=01;35:*.mjpeg=01;35:*.gif=01;35:*.bmp=01;35:*.pbm=01;35:*.pgm=01;35:*.ppm=01;35:*.tga=01;35:*.xbm=01;35:*.xpm=01;35:*.tif=01;35:*.tiff=01;35:*.png=01;35:*.svg=01;35:*.svgz=01;35:*.mng=01;35:*.pcx=01;35:*.mov=01;35:*.mpg=01;35:*.mpeg=01;35:*.m2v=01;35:*.mkv=01;35:*.webm=01;35:*.ogm=01;35:*.mp4=01;35:*.m4v=01;35:*.mp4v=01;35:*.vob=01;35:*.qt=01;35:*.nuv=01;35:*.wmv=01;35:*.asf=01;35:*.rm=01;35:*.rmvb=01;35:*.flc=01;35:*.avi=01;35:*.fli=01;35:*.flv=01;35:*.gl=01;35:*.dl=01;35:*.xcf=01;35:*.xwd=01;35:*.yuv=01;35:*.cgm=01;35:*.emf=01;35:*.ogv=01;35:*.ogx=01;35:*.aac=00;36:*.au=00;36:*.flac=00;36:*.m4a=00;36:*.mid=00;36:*.midi=00;36:*.mka=00;36:*.mp3=00;36:*.mpc=00;36:*.ogg=00;36:*.ra=00;36:*.wav=00;36:*.oga=00;36:*.opus=00;36:*.spx=00;36:*.xspf=00;36:',\n",
       "        'SCRATCH': '/scratch/connectome/dyhan316',\n",
       "        'CONDA_PROMPT_MODIFIER': '(VAE_3DCNN) ',\n",
       "        'SSH_CONNECTION': '118.235.2.108 33603 147.47.200.154 22',\n",
       "        'LESSCLOSE': '/usr/bin/lesspipe %s %s',\n",
       "        'XDG_SESSION_CLASS': 'user',\n",
       "        'TERM': 'xterm-color',\n",
       "        '_CE_CONDA': '',\n",
       "        'LESSOPEN': '| /usr/bin/lesspipe %s',\n",
       "        'USER': 'dyhan316',\n",
       "        'CONDA_SHLVL': '2',\n",
       "        'SHLVL': '1',\n",
       "        'XDG_SESSION_ID': '1876',\n",
       "        'CONDA_PYTHON_EXE': '/usr/anaconda3/bin/python',\n",
       "        'LD_LIBRARY_PATH': ':/usr/local/cuda/lib64',\n",
       "        'XDG_RUNTIME_DIR': '/run/user/10033',\n",
       "        'SSH_CLIENT': '118.235.2.108 33603 22',\n",
       "        'CONDA_DEFAULT_ENV': 'VAE_3DCNN',\n",
       "        'CUDA_HOME': ':/usr/local/cuda',\n",
       "        'XDG_DATA_DIRS': '/usr/local/share:/usr/share:/var/lib/snapd/desktop',\n",
       "        'PATH': '/home/connectome/dyhan316/.local/bin:/home/connectome/dyhan316/.conda/envs/VAE_3DCNN/bin:/usr/anaconda3/condabin:/usr/local/sbin:/usr/local/bin:/usr/sbin:/usr/bin:/sbin:/bin:/usr/games:/usr/local/games:/snap/bin:/usr/local/cuda/bin',\n",
       "        'DBUS_SESSION_BUS_ADDRESS': 'unix:path=/run/user/10033/bus',\n",
       "        'SSH_TTY': '/dev/pts/14',\n",
       "        'CONDA_PREFIX_1': '/usr/anaconda3',\n",
       "        'OLDPWD': '/home/connectome/dyhan316',\n",
       "        '_': '/home/connectome/dyhan316/.local/bin/jupyter',\n",
       "        'JPY_PARENT_PID': '2252556',\n",
       "        'CLICOLOR': '1',\n",
       "        'PAGER': 'cat',\n",
       "        'GIT_PAGER': 'cat',\n",
       "        'MPLBACKEND': 'module://matplotlib_inline.backend_inline'}"
      ]
     },
     "execution_count": 21,
     "metadata": {},
     "output_type": "execute_result"
    }
   ],
   "source": [
    "import os\n",
    "os.environ #gets os environment (.conf의 그것들)"
   ]
  },
  {
   "cell_type": "code",
   "execution_count": 23,
   "id": "021067a2",
   "metadata": {},
   "outputs": [
    {
     "data": {
      "text/plain": [
       "'/scratch/connectome/dyhan316'"
      ]
     },
     "execution_count": 23,
     "metadata": {},
     "output_type": "execute_result"
    }
   ],
   "source": [
    "#예시 : \n",
    "os.environ['SCRATCH'] #이제 이해 바로됨"
   ]
  },
  {
   "cell_type": "code",
   "execution_count": 39,
   "id": "41c10689",
   "metadata": {},
   "outputs": [
    {
     "data": {
      "text/plain": [
       "'/scratch/connectome/dyhan316'"
      ]
     },
     "execution_count": 39,
     "metadata": {},
     "output_type": "execute_result"
    }
   ],
   "source": [
    "#os.getenv : 직접 가져온다\n",
    "os.getenv('SCRATCH') #이렇게 가져올 수도 있다 "
   ]
  },
  {
   "cell_type": "markdown",
   "id": "d3745c94",
   "metadata": {},
   "source": [
    "#### 실제로 barlow twins에서 하는 것\n",
    "barlow twins 에서 밑의 getenv들을 하는데... 우리 랩에서는 저장이 안되어있다.... 그래서 못함 ㅋㅋㅋㅋㅋㅋㅋ "
   ]
  },
  {
   "cell_type": "code",
   "execution_count": 102,
   "id": "6d32309d",
   "metadata": {},
   "outputs": [
    {
     "name": "stdout",
     "output_type": "stream",
     "text": [
      "None\n",
      "None\n",
      "None\n"
     ]
    }
   ],
   "source": [
    "print(os.getenv('SLURM_JOB_NODELIST')) #doens't exist! not configured in our server I suppose\n",
    "print(os.getenv('SLURM_NODEID'))\n",
    "print(os.getenv(\"SLURM_NNODES\"))\n"
   ]
  },
  {
   "cell_type": "markdown",
   "id": "b9fd2955",
   "metadata": {},
   "source": [
    "### 1.1.2. `signal` 모듈\n",
    "\n",
    "https://www.askpython.com/python-modules/python-signal\n",
    "\n",
    "\n",
    "cntrl+C 도 일종의 \"signal\"여서, 이것으로 프로그램을 interrupt하는 것 (the signal is SIGNINT to be exact)\n",
    "\n",
    "all programs output a number, "
   ]
  },
  {
   "cell_type": "code",
   "execution_count": 4,
   "id": "64dbdc69",
   "metadata": {},
   "outputs": [],
   "source": [
    "#진짜 필요한 정도로만 하기! (코드 이해정도로만)"
   ]
  },
  {
   "cell_type": "code",
   "execution_count": 1,
   "id": "7c2f2662",
   "metadata": {
    "scrolled": false
   },
   "outputs": [
    {
     "name": "stdout",
     "output_type": "stream",
     "text": [
      "{<Signals.SIGHUP: 1>, <Signals.SIGINT: 2>, <Signals.SIGQUIT: 3>, <Signals.SIGILL: 4>, <Signals.SIGTRAP: 5>, <Signals.SIGABRT: 6>, <Signals.SIGBUS: 7>, <Signals.SIGFPE: 8>, <Signals.SIGKILL: 9>, <Signals.SIGUSR1: 10>, <Signals.SIGSEGV: 11>, <Signals.SIGUSR2: 12>, <Signals.SIGPIPE: 13>, <Signals.SIGALRM: 14>, <Signals.SIGTERM: 15>, 16, <Signals.SIGCHLD: 17>, <Signals.SIGCONT: 18>, <Signals.SIGSTOP: 19>, <Signals.SIGTSTP: 20>, <Signals.SIGTTIN: 21>, <Signals.SIGTTOU: 22>, <Signals.SIGURG: 23>, <Signals.SIGXCPU: 24>, <Signals.SIGXFSZ: 25>, <Signals.SIGVTALRM: 26>, <Signals.SIGPROF: 27>, <Signals.SIGWINCH: 28>, <Signals.SIGIO: 29>, <Signals.SIGPWR: 30>, <Signals.SIGSYS: 31>, <Signals.SIGRTMIN: 34>, 35, 36, 37, 38, 39, 40, 41, 42, 43, 44, 45, 46, 47, 48, 49, 50, 51, 52, 53, 54, 55, 56, 57, 58, 59, 60, 61, 62, 63, <Signals.SIGRTMAX: 64>}\n"
     ]
    }
   ],
   "source": [
    "import signal\n",
    "\n",
    "print(signal.valid_signals())"
   ]
  },
  {
   "cell_type": "code",
   "execution_count": 3,
   "id": "4f4eadea",
   "metadata": {},
   "outputs": [
    {
     "data": {
      "text/plain": [
       "(<Signals.SIGUSR1: 10>, <Signals.SIGTERM: 15>)"
      ]
     },
     "execution_count": 3,
     "metadata": {},
     "output_type": "execute_result"
    }
   ],
   "source": [
    "signal.SIGUSR1, signal.SIGTERM #signal user 1?\n"
   ]
  },
  {
   "cell_type": "markdown",
   "id": "349120e1",
   "metadata": {},
   "source": [
    "```\n",
    "import signal  \n",
    "import time  \n",
    " \n",
    "# Our signal handler\n",
    "def signal_handler(signum, frame):  \n",
    "    print(\"Signal Number:\", signum, \" Frame: \", frame)  \n",
    " \n",
    "def exit_handler(signum, frame):\n",
    "    print('Exiting....')\n",
    "    exit(0)\n",
    " \n",
    "# Register our signal handler with `SIGINT`(CTRL + C)\n",
    "signal.signal(signal.SIGINT, signal_handler)\n",
    " \n",
    "# Register the exit handler with `SIGTSTP` (Ctrl + Z)\n",
    "signal.signal(signal.SIGTSTP, exit_handler)\n",
    " \n",
    "# While Loop\n",
    "while 1:  \n",
    "    print(\"Press Ctrl + C\") \n",
    "    time.sleep(3) \n",
    "\n",
    "```\n",
    "그냥 jupyter 에서는 안돌아감.. 그래서 .py만들어서 돌려야함\n",
    "\n",
    "일단은 skip.. \n",
    "https://medium.com/fintechexplained/advanced-python-how-to-use-signal-driven-programming-in-applications-84fcb722a369\n",
    "여기가 더 잘 설명됨!"
   ]
  },
  {
   "cell_type": "code",
   "execution_count": 6,
   "id": "a74fec9d",
   "metadata": {},
   "outputs": [
    {
     "data": {
      "text/plain": [
       "<Signals.SIGINT: 2>"
      ]
     },
     "execution_count": 6,
     "metadata": {},
     "output_type": "execute_result"
    }
   ],
   "source": [
    "signal.SIGINT"
   ]
  },
  {
   "cell_type": "code",
   "execution_count": null,
   "id": "9ad7bb62",
   "metadata": {},
   "outputs": [],
   "source": []
  },
  {
   "cell_type": "markdown",
   "id": "81e009d5",
   "metadata": {},
   "source": []
  },
  {
   "cell_type": "markdown",
   "id": "ea900dde",
   "metadata": {},
   "source": [
    "### 1.1.3. `subprocess` module\n",
    "https://www.youtube.com/watch?v=2Fp1N6dof0Y&list=LL&index=8&t=537s  => IMP\n",
    "* 8분까지만 보고, 그 후에는 skip (stdout, stdoerr, stdin 를 조절 할 수 있는 방법이 있으나, skip)\n",
    "\n",
    "`subprocess` is used for running external commands\n",
    "\n",
    "* `subprocess.run` : runs the thing and shows output (variable로 save하려면  `capture_output = True`로 하기)\n",
    "* `subprocess.check_output` : same as above + `capture_output = True` already done\n",
    "\n",
    "(앵? 그럼 둘이 거의 똑같은거 아님? ==> 응 그런듯 : https://stackoverflow.com/questions/40697583/whats-the-difference-between-pythons-subprocess-call-and-subprocess-run)\n",
    "\n",
    "\n",
    "https://realpython.com/python-subprocess/ => 복잡하니 보지말기, \n"
   ]
  },
  {
   "cell_type": "code",
   "execution_count": 13,
   "id": "ef95dd84",
   "metadata": {},
   "outputs": [
    {
     "name": "stdout",
     "output_type": "stream",
     "text": [
      "IMP_python_prereqs.ipynb\n",
      "PyTorch_distributed.ipynb\n",
      "try_signal.py\n",
      "\n",
      "total 44\n",
      "drwxr-xr-x 3 dyhan316 connectome  4096 Sep 20 10:16 .\n",
      "drwxr-xr-x 8 dyhan316 connectome  4096 Sep 20 09:59 ..\n",
      "-rwxr-xr-x 1 dyhan316 connectome 22851 Sep 20 10:16 IMP_python_prereqs.ipynb\n",
      "drwxr-xr-x 2 dyhan316 connectome  4096 Sep 20 10:08 .ipynb_checkpoints\n",
      "-rwxr-xr-x 1 dyhan316 connectome   963 Sep 20 10:00 PyTorch_distributed.ipynb\n",
      "-rwxr-xr-x 1 dyhan316 connectome   494 Sep 20 10:00 try_signal.py\n",
      "\n",
      "total 44\n",
      "drwxr-xr-x 3 dyhan316 connectome  4096 Sep 20 10:16 .\n",
      "drwxr-xr-x 8 dyhan316 connectome  4096 Sep 20 09:59 ..\n",
      "-rwxr-xr-x 1 dyhan316 connectome 22851 Sep 20 10:16 IMP_python_prereqs.ipynb\n",
      "drwxr-xr-x 2 dyhan316 connectome  4096 Sep 20 10:08 .ipynb_checkpoints\n",
      "-rwxr-xr-x 1 dyhan316 connectome   963 Sep 20 10:00 PyTorch_distributed.ipynb\n",
      "-rwxr-xr-x 1 dyhan316 connectome   494 Sep 20 10:00 try_signal.py\n"
     ]
    },
    {
     "data": {
      "text/plain": [
       "CompletedProcess(args=['ls', '-al'], returncode=0)"
      ]
     },
     "execution_count": 13,
     "metadata": {},
     "output_type": "execute_result"
    }
   ],
   "source": [
    "import subprocess\n",
    "subprocess.run('ls') #runs ls\n",
    "print('')\n",
    "#subprocess.run('scontrol show node') => error, because spaces in between\n",
    "#instead, do\n",
    "\n",
    "subprocess.run('ls -al', shell=True) #shell에서 하는 것이라는 뜼\n",
    "#or\n",
    "print('')\n",
    "subprocess.run(['ls','-al'])"
   ]
  },
  {
   "cell_type": "markdown",
   "id": "9b5c9c53",
   "metadata": {},
   "source": [
    "#### subprocess 결과를 변수로 저장하기\n",
    "* `subprocess.run` 은 linux 결과를 출력하기때문에, 변수로 저장하는 것은 안된다 (밑의 "
   ]
  },
  {
   "cell_type": "code",
   "execution_count": 87,
   "id": "6b15c2a7",
   "metadata": {
    "scrolled": false
   },
   "outputs": [
    {
     "name": "stdout",
     "output_type": "stream",
     "text": [
      "total 56\n",
      "drwxr-xr-x 3 dyhan316 connectome  4096 Sep 20 11:40 .\n",
      "drwxr-xr-x 8 dyhan316 connectome  4096 Sep 20 09:59 ..\n",
      "-rwxr-xr-x 1 dyhan316 connectome 36191 Sep 20 11:40 IMP_python_prereqs.ipynb\n",
      "drwxr-xr-x 2 dyhan316 connectome  4096 Sep 20 10:08 .ipynb_checkpoints\n",
      "-rwxr-xr-x 1 dyhan316 connectome   963 Sep 20 10:00 PyTorch_distributed.ipynb\n",
      "-rwxr-xr-x 1 dyhan316 connectome   494 Sep 20 10:00 try_signal.py\n",
      "\n",
      " this is p1 :  CompletedProcess(args='ls -al', returncode=0)\n",
      "\n",
      " this is p1 with capture_output = True :  CompletedProcess(args='ls -al', returncode=0, stdout=b'total 56\\ndrwxr-xr-x 3 dyhan316 connectome  4096 Sep 20 11:40 .\\ndrwxr-xr-x 8 dyhan316 connectome  4096 Sep 20 09:59 ..\\n-rwxr-xr-x 1 dyhan316 connectome 36191 Sep 20 11:40 IMP_python_prereqs.ipynb\\ndrwxr-xr-x 2 dyhan316 connectome  4096 Sep 20 10:08 .ipynb_checkpoints\\n-rwxr-xr-x 1 dyhan316 connectome   963 Sep 20 10:00 PyTorch_distributed.ipynb\\n-rwxr-xr-x 1 dyhan316 connectome   494 Sep 20 10:00 try_signal.py\\n', stderr=b'')\n",
      "\n",
      " p1.args, p1.returncode :  ls -al 0\n"
     ]
    }
   ],
   "source": [
    "#######subprocess의 결과를 변수로 저장하고 싶으면?########\n",
    "##try 1 : p1 = 으로 저장하기 -> fail\n",
    "p1 = subprocess.run('ls -al', shell = True) #즉, print가 자동으로 됨...ㄷ\n",
    "print(\"\\n this is p1 : \", p1) #즉, output이 저장되는 것이 아님\n",
    "\n",
    "##try 2 : `capture_output = True` 으로 저장하기 -> works\n",
    "p1 = subprocess.run('ls -al', shell = True, capture_output=True)\n",
    "print(\"\\n this is p1 with capture_output = True : \", p1)\n",
    "#위에서 보듯이, 'args'등등 key를 가짐.. 실제로 그중 몇가지를 보면,,\n",
    "print(\"\\n p1.args, p1.returncode : \", p1.args, p1.returncode) #return code : 0 means no error made"
   ]
  },
  {
   "cell_type": "code",
   "execution_count": 90,
   "id": "d9f011e6",
   "metadata": {},
   "outputs": [
    {
     "name": "stdout",
     "output_type": "stream",
     "text": [
      "p1.stdout : b'total 56\\ndrwxr-xr-x 3 dyhan316 connectome  4096 Sep 20 11:40 .\\ndrwxr-xr-x 8 dyhan316 connectome  4096 Sep 20 09:59 ..\\n-rwxr-xr-x 1 dyhan316 connectome 36191 Sep 20 11:40 IMP_python_prereqs.ipynb\\ndrwxr-xr-x 2 dyhan316 connectome  4096 Sep 20 10:08 .ipynb_checkpoints\\n-rwxr-xr-x 1 dyhan316 connectome   963 Sep 20 10:00 PyTorch_distributed.ipynb\\n-rwxr-xr-x 1 dyhan316 connectome   494 Sep 20 10:00 try_signal.py\\n'\n",
      "\n",
      "p1.stdout.decode()  total 56\n",
      "drwxr-xr-x 3 dyhan316 connectome  4096 Sep 20 11:40 .\n",
      "drwxr-xr-x 8 dyhan316 connectome  4096 Sep 20 09:59 ..\n",
      "-rwxr-xr-x 1 dyhan316 connectome 36191 Sep 20 11:40 IMP_python_prereqs.ipynb\n",
      "drwxr-xr-x 2 dyhan316 connectome  4096 Sep 20 10:08 .ipynb_checkpoints\n",
      "-rwxr-xr-x 1 dyhan316 connectome   963 Sep 20 10:00 PyTorch_distributed.ipynb\n",
      "-rwxr-xr-x 1 dyhan316 connectome   494 Sep 20 10:00 try_signal.py\n",
      "\n"
     ]
    }
   ],
   "source": [
    "print(\"p1.stdout :\" , p1.stdout, end = '\\n\\n')#보면 이상하게 됨.. 따라서\n",
    "\n",
    "#만약 text로 보고 싶으면, `text = True`로 해도되고, `.decode()`를 해도됨\n",
    "print(\"p1.stdout.decode() \", p1.stdout.decode())"
   ]
  },
  {
   "cell_type": "markdown",
   "id": "f8f63bd5",
   "metadata": {},
   "source": [
    "#### `check_output`으로 한방에 하기 \n",
    "이렇게 하면 `run(... capture_output = True)`를 한 것과 같은 결과를 할 수 있다 (output을 variable로 저장가능) \n"
   ]
  },
  {
   "cell_type": "code",
   "execution_count": 100,
   "id": "851ed4b9",
   "metadata": {},
   "outputs": [
    {
     "name": "stdout",
     "output_type": "stream",
     "text": [
      "\"ls -al\".split() :  ['ls', '-al']\n",
      "\n",
      "p2: \n",
      " b'total 60\\ndrwxr-xr-x 3 dyhan316 connectome  4096 Sep 20  2022 .\\ndrwxr-xr-x 8 dyhan316 connectome  4096 Sep 20 09:59 ..\\n-rwxr-xr-x 1 dyhan316 connectome 37657 Sep 20  2022 IMP_python_prereqs.ipynb\\ndrwxr-xr-x 2 dyhan316 connectome  4096 Sep 20 10:08 .ipynb_checkpoints\\n-rwxr-xr-x 1 dyhan316 connectome   963 Sep 20 10:00 PyTorch_distributed.ipynb\\n-rwxr-xr-x 1 dyhan316 connectome   494 Sep 20 10:00 try_signal.py\\n'\n",
      "\n",
      "p2.deocde() : \n",
      " total 60\n",
      "drwxr-xr-x 3 dyhan316 connectome  4096 Sep 20  2022 .\n",
      "drwxr-xr-x 8 dyhan316 connectome  4096 Sep 20 09:59 ..\n",
      "-rwxr-xr-x 1 dyhan316 connectome 37657 Sep 20  2022 IMP_python_prereqs.ipynb\n",
      "drwxr-xr-x 2 dyhan316 connectome  4096 Sep 20 10:08 .ipynb_checkpoints\n",
      "-rwxr-xr-x 1 dyhan316 connectome   963 Sep 20 10:00 PyTorch_distributed.ipynb\n",
      "-rwxr-xr-x 1 dyhan316 connectome   494 Sep 20 10:00 try_signal.py\n",
      "\n"
     ]
    }
   ],
   "source": [
    "print('\"ls -al\".split() : ', 'ls -al'.split()) #list로 바꿔서 하는 것!\n",
    "p2 = subprocess.check_output('ls -al'.split()) #split으로 해서 list로 만드\n",
    "print(\"\\np2: \\n\", p2)\n",
    "print(\"\\np2.deocde() : \\n\", p2.decode()) #즉, decode를 해서 text로 만들기"
   ]
  },
  {
   "cell_type": "markdown",
   "id": "451126a2",
   "metadata": {},
   "source": [
    "#### how barlow_twins code uses it (실제로 보기)\n",
    "원래는 `os.getenv('SLURM_JOB_NODELIST')`등을 사용하는데, slurm이 우리랩에 설정이 안되어있어서 잘 안됨\n"
   ]
  },
  {
   "cell_type": "code",
   "execution_count": 103,
   "id": "a7cd8eb3",
   "metadata": {
    "scrolled": true
   },
   "outputs": [
    {
     "name": "stdout",
     "output_type": "stream",
     "text": [
      "NodeName=node3 Arch=x86_64 CoresPerSocket=24 \n"
     ]
    }
   ],
   "source": [
    "cmd = \"scontrol show node node3\" #원래 다른 것을 하나, 우리 랩에서는 없어서 무시\n",
    "stdout = subprocess.check_output(cmd.split()) #cmd.split : ['scontrol', 'show', 'node', 'node3'] 로 된다\n",
    "host_name = stdout.decode().splitlines()[0] \n",
    "    #즉, text format으로 decode한다! (text = True로 해도 되었었으나... 어쨋튼)\n",
    "    #splitlines()해서 줄별로 나눔, [0]해서 첫번째 element를 가져가기\n",
    "print(host_name)"
   ]
  },
  {
   "cell_type": "markdown",
   "id": "409c8f56",
   "metadata": {},
   "source": [
    "# XX. Pytorch things\n",
    "이것은 그냥 pytorch related thigns to study\n",
    "\n",
    "1. `torch.multiprocessing`\n",
    "2. `torch.distributed`\n",
    "\n",
    "* 여기서 뭐 공부할지는 준범쌤께 여쭙고 답변을 들은 후에, 그것들만 (엑기스) 만하기!\n",
    "\n",
    "* 이거는 따로 .ipynb를 만들었으니, 그것을 쓰기!"
   ]
  },
  {
   "cell_type": "code",
   "execution_count": 105,
   "id": "259753bd",
   "metadata": {},
   "outputs": [
    {
     "data": {
      "text/plain": [
       "['PyTorch_distributed.ipynb',\n",
       " 'try_signal.py',\n",
       " 'IMP_python_prereqs.ipynb',\n",
       " '.ipynb_checkpoints']"
      ]
     },
     "execution_count": 105,
     "metadata": {},
     "output_type": "execute_result"
    }
   ],
   "source": [
    "os.listdir()"
   ]
  },
  {
   "cell_type": "code",
   "execution_count": 17,
   "id": "fdc96957",
   "metadata": {
    "scrolled": true
   },
   "outputs": [
    {
     "name": "stdout",
     "output_type": "stream",
     "text": [
      "# ~/.bashrc: executed by bash(1) for non-login shells.\r\n",
      "# see /usr/share/doc/bash/examples/startup-files (in the package bash-doc)\r\n",
      "# for examples\r\n",
      "\r\n",
      "# If not running interactively, don't do anything\r\n",
      "case $- in\r\n",
      "    *i*) ;;\r\n",
      "      *) return;;\r\n",
      "esac\r\n",
      "\r\n",
      "# don't put duplicate lines or lines starting with space in the history.\r\n",
      "# See bash(1) for more options\r\n",
      "HISTCONTROL=ignoreboth\r\n",
      "\r\n",
      "# append to the history file, don't overwrite it\r\n",
      "shopt -s histappend\r\n",
      "\r\n",
      "# for setting history length see HISTSIZE and HISTFILESIZE in bash(1)\r\n",
      "HISTSIZE=1000\r\n",
      "HISTFILESIZE=2000\r\n",
      "\r\n",
      "# check the window size after each command and, if necessary,\r\n",
      "# update the values of LINES and COLUMNS.\r\n",
      "shopt -s checkwinsize\r\n",
      "\r\n",
      "# If set, the pattern \"**\" used in a pathname expansion context will\r\n",
      "# match all files and zero or more directories and subdirectories.\r\n",
      "#shopt -s globstar\r\n",
      "\r\n",
      "# make less more friendly for non-text input files, see lesspipe(1)\r\n",
      "[ -x /usr/bin/lesspipe ] && eval \"$(SHELL=/bin/sh lesspipe)\"\r\n",
      "\r\n",
      "# set variable identifying the chroot you work in (used in the prompt below)\r\n",
      "if [ -z \"${debian_chroot:-}\" ] && [ -r /etc/debian_chroot ]; then\r\n",
      "    debian_chroot=$(cat /etc/debian_chroot)\r\n",
      "fi\r\n",
      "\r\n",
      "# set a fancy prompt (non-color, unless we know we \"want\" color)\r\n",
      "case \"$TERM\" in\r\n",
      "    xterm-color|*-256color) color_prompt=yes;;\r\n",
      "esac\r\n",
      "\r\n",
      "# uncomment for a colored prompt, if the terminal has the capability; turned\r\n",
      "# off by default to not distract the user: the focus in a terminal window\r\n",
      "# should be on the output of commands, not on the prompt\r\n",
      "#force_color_prompt=yes\r\n",
      "\r\n",
      "if [ -n \"$force_color_prompt\" ]; then\r\n",
      "    if [ -x /usr/bin/tput ] && tput setaf 1 >&/dev/null; then\r\n",
      "\t# We have color support; assume it's compliant with Ecma-48\r\n",
      "\t# (ISO/IEC-6429). (Lack of such support is extremely rare, and such\r\n",
      "\t# a case would tend to support setf rather than setaf.)\r\n",
      "\tcolor_prompt=yes\r\n",
      "    else\r\n",
      "\tcolor_prompt=\r\n",
      "    fi\r\n",
      "fi\r\n",
      "\r\n",
      "if [ \"$color_prompt\" = yes ]; then\r\n",
      "    PS1='${debian_chroot:+($debian_chroot)}\\[\\033[01;32m\\]\\u@\\h\\[\\033[00m\\]:\\[\\033[01;34m\\]\\w\\[\\033[00m\\]\\$ '\r\n",
      "else\r\n",
      "    PS1='${debian_chroot:+($debian_chroot)}\\u@\\h:\\w\\$ '\r\n",
      "fi\r\n",
      "unset color_prompt force_color_prompt\r\n",
      "\r\n",
      "# If this is an xterm set the title to user@host:dir\r\n",
      "case \"$TERM\" in\r\n",
      "xterm*|rxvt*)\r\n",
      "    PS1=\"\\[\\e]0;${debian_chroot:+($debian_chroot)}\\u@\\h: \\w\\a\\]$PS1\"\r\n",
      "    ;;\r\n",
      "*)\r\n",
      "    ;;\r\n",
      "esac\r\n",
      "\r\n",
      "# enable color support of ls and also add handy aliases\r\n",
      "if [ -x /usr/bin/dircolors ]; then\r\n",
      "    test -r ~/.dircolors && eval \"$(dircolors -b ~/.dircolors)\" || eval \"$(dircolors -b)\"\r\n",
      "    alias ls='ls --color=auto'\r\n",
      "    #alias dir='dir --color=auto'\r\n",
      "    #alias vdir='vdir --color=auto'\r\n",
      "\r\n",
      "    alias grep='grep --color=auto'\r\n",
      "    alias fgrep='fgrep --color=auto'\r\n",
      "    alias egrep='egrep --color=auto'\r\n",
      "fi\r\n",
      "\r\n",
      "# colored GCC warnings and errors\r\n",
      "#export GCC_COLORS='error=01;31:warning=01;35:note=01;36:caret=01;32:locus=01:quote=01'\r\n",
      "\r\n",
      "# some more ls aliases\r\n",
      "alias ll='ls -alF'\r\n",
      "alias la='ls -A'\r\n",
      "alias l='ls -CF'\r\n",
      "\r\n",
      "# Add an \"alert\" alias for long running commands.  Use like so:\r\n",
      "#   sleep 10; alert\r\n",
      "alias alert='notify-send --urgency=low -i \"$([ $? = 0 ] && echo terminal || echo error)\" \"$(history|tail -n1|sed -e '\\''s/^\\s*[0-9]\\+\\s*//;s/[;&|]\\s*alert$//'\\'')\"'\r\n",
      "\r\n",
      "# Alias definitions.\r\n",
      "# You may want to put all your additions into a separate file like\r\n",
      "# ~/.bash_aliases, instead of adding them here directly.\r\n",
      "# See /usr/share/doc/bash-doc/examples in the bash-doc package.\r\n",
      "\r\n",
      "if [ -f ~/.bash_aliases ]; then\r\n",
      "    . ~/.bash_aliases\r\n",
      "fi\r\n",
      "\r\n",
      "# enable programmable completion features (you don't need to enable\r\n",
      "# this, if it's already enabled in /etc/bash.bashrc and /etc/profile\r\n",
      "# sources /etc/bash.bashrc).\r\n",
      "if ! shopt -oq posix; then\r\n",
      "  if [ -f /usr/share/bash-completion/bash_completion ]; then\r\n",
      "    . /usr/share/bash-completion/bash_completion\r\n",
      "  elif [ -f /etc/bash_completion ]; then\r\n",
      "    . /etc/bash_completion\r\n",
      "  fi\r\n",
      "fi\r\n"
     ]
    }
   ],
   "source": [
    "#!ls ~ -a\n",
    "!cat ~/.bashrc"
   ]
  },
  {
   "cell_type": "code",
   "execution_count": null,
   "id": "dab37977",
   "metadata": {},
   "outputs": [],
   "source": [
    "/work2/08834/tg881334/stampede2/CHA_preproc/normal_CHA"
   ]
  },
  {
   "cell_type": "code",
   "execution_count": null,
   "id": "65fe8dba",
   "metadata": {},
   "outputs": [],
   "source": []
  },
  {
   "cell_type": "code",
   "execution_count": null,
   "id": "1bbdfcc6",
   "metadata": {},
   "outputs": [],
   "source": []
  }
 ],
 "metadata": {
  "kernelspec": {
   "display_name": "Python 3 (ipykernel)",
   "language": "python",
   "name": "python3"
  },
  "language_info": {
   "codemirror_mode": {
    "name": "ipython",
    "version": 3
   },
   "file_extension": ".py",
   "mimetype": "text/x-python",
   "name": "python",
   "nbconvert_exporter": "python",
   "pygments_lexer": "ipython3",
   "version": "3.8.10"
  }
 },
 "nbformat": 4,
 "nbformat_minor": 5
}
