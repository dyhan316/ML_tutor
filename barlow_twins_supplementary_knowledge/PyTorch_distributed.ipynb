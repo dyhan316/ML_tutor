{
 "cells": [
  {
   "cell_type": "markdown",
   "id": "0905255e",
   "metadata": {},
   "source": [
    "look at https://www.youtube.com/watch?v=3XUG7cjte2U&t=1832s\n",
    "\n",
    "https://www.youtube.com/watch?v=TibQO_xv1zc&t=2128s  ==> better\n",
    "\n",
    "https://www.youtube.com/watch?v=RQfK_ViGzH0&t=110s ==> 이거는 어려워서 필요없을수도\n",
    "\n"
   ]
  },
  {
   "cell_type": "code",
   "execution_count": null,
   "id": "aa0f4b82",
   "metadata": {},
   "outputs": [],
   "source": []
  }
 ],
 "metadata": {
  "kernelspec": {
   "display_name": "Python 3 (ipykernel)",
   "language": "python",
   "name": "python3"
  },
  "language_info": {
   "codemirror_mode": {
    "name": "ipython",
    "version": 3
   },
   "file_extension": ".py",
   "mimetype": "text/x-python",
   "name": "python",
   "nbconvert_exporter": "python",
   "pygments_lexer": "ipython3",
   "version": "3.8.10"
  }
 },
 "nbformat": 4,
 "nbformat_minor": 5
}
