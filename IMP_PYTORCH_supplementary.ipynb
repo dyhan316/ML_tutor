{
 "cells": [
  {
   "cell_type": "markdown",
   "id": "121aed9d",
   "metadata": {},
   "source": [
    "### torch.save (general checkpoint)\n",
    "\n",
    "* easier (not that useful) : https://pytorch.org/tutorials/beginner/basics/saveloadrun_tutorial.html\n",
    "* full tutorial (with all about checkpoints and etc) : https://pytorch.org/tutorials/recipes/recipes/saving_and_loading_a_general_checkpoint.html\n",
    "\n",
    "두번째 것 보고 하자!"
   ]
  },
  {
   "cell_type": "markdown",
   "id": "89fe1405",
   "metadata": {},
   "source": [
    "* `.add_modules`\n",
    "    * https://stackoverflow.com/questions/65619076/what-is-pytorchs-add-module\n",
    "\n",
    "\n",
    "* freezing models using `requires_grad`\n",
    "    * https://nuguziii.github.io/dev/dev-003/"
   ]
  },
  {
   "cell_type": "markdown",
   "id": "c3495dd4",
   "metadata": {},
   "source": [
    "* normalize the weight values to a certain value : \n",
    "    * https://wandb.ai/wandb_fc/tips/reports/How-to-Initialize-Weights-in-PyTorch--VmlldzoxNjcwOTg1 \n",
    "    * (https://github.com/Transconnectome/VAE_ADHD/blob/8e0b8eb82d91f5ab1856652cb71c4dbb4c007932/barlowtwins/evaluate.py#L85) 여기서 나옴\n",
    "    * `weight.data.normal_()` : 특정 mean, var로 weight값들을 initialize"
   ]
  },
  {
   "cell_type": "markdown",
   "id": "a78f211d",
   "metadata": {},
   "source": [
    "* how to add an additional layer to a model\n",
    "    * https://discuss.pytorch.org/t/how-to-add-a-layer-to-an-existing-neural-network/30129"
   ]
  },
  {
   "cell_type": "markdown",
   "id": "6ba30cab",
   "metadata": {},
   "source": [
    "## Torch Summary 로 모델 구졸 알아내기!\n",
    "\n",
    "https://stackoverflow.com/questions/42480111/how-do-i-print-the-model-summary-in-pytorch\n",
    "위의 대로 해서 함!!\n",
    "\n",
    "> 주의 : model을 "
   ]
  },
  {
   "cell_type": "code",
   "execution_count": 1,
   "id": "75c500ce",
   "metadata": {},
   "outputs": [
    {
     "ename": "ModuleNotFoundError",
     "evalue": "No module named 'torchsummary'",
     "output_type": "error",
     "traceback": [
      "\u001b[0;31m---------------------------------------------------------------------------\u001b[0m",
      "\u001b[0;31mModuleNotFoundError\u001b[0m                       Traceback (most recent call last)",
      "\u001b[0;32m<ipython-input-1-661d25785367>\u001b[0m in \u001b[0;36m<module>\u001b[0;34m\u001b[0m\n\u001b[1;32m      1\u001b[0m \u001b[0;32mfrom\u001b[0m \u001b[0mtorchvision\u001b[0m \u001b[0;32mimport\u001b[0m \u001b[0mmodels\u001b[0m\u001b[0;34m\u001b[0m\u001b[0;34m\u001b[0m\u001b[0m\n\u001b[0;32m----> 2\u001b[0;31m \u001b[0;32mfrom\u001b[0m \u001b[0mtorchsummary\u001b[0m \u001b[0;32mimport\u001b[0m \u001b[0msummary\u001b[0m\u001b[0;34m\u001b[0m\u001b[0;34m\u001b[0m\u001b[0m\n\u001b[0m\u001b[1;32m      3\u001b[0m \u001b[0;34m\u001b[0m\u001b[0m\n\u001b[1;32m      4\u001b[0m \u001b[0mvgg\u001b[0m \u001b[0;34m=\u001b[0m \u001b[0mmodels\u001b[0m\u001b[0;34m.\u001b[0m\u001b[0mvgg16\u001b[0m\u001b[0;34m(\u001b[0m\u001b[0;34m)\u001b[0m\u001b[0;34m\u001b[0m\u001b[0;34m\u001b[0m\u001b[0m\n\u001b[1;32m      5\u001b[0m \u001b[0;34m\u001b[0m\u001b[0m\n",
      "\u001b[0;31mModuleNotFoundError\u001b[0m: No module named 'torchsummary'"
     ]
    }
   ],
   "source": [
    "from torchvision import models\n",
    "from torchsummary import summary\n",
    "\n",
    "vgg = models.vgg16()\n",
    "\n",
    "vgg.to(\"cuda:0\") #cuda 로 먼저 보내야함!\n",
    "summary(vgg, (3, 224, 224))"
   ]
  },
  {
   "cell_type": "code",
   "execution_count": null,
   "id": "abc36ee6",
   "metadata": {},
   "outputs": [],
   "source": []
  }
 ],
 "metadata": {
  "kernelspec": {
   "display_name": "VAE_3DCNN",
   "language": "python",
   "name": "vae_3dcnn"
  },
  "language_info": {
   "codemirror_mode": {
    "name": "ipython",
    "version": 3
   },
   "file_extension": ".py",
   "mimetype": "text/x-python",
   "name": "python",
   "nbconvert_exporter": "python",
   "pygments_lexer": "ipython3",
   "version": "3.7.4"
  }
 },
 "nbformat": 4,
 "nbformat_minor": 5
}
